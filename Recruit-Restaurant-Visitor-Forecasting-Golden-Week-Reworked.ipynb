{
 "cells": [
  {
   "cell_type": "markdown",
   "metadata": {},
   "source": [
    "### Recruit Restaurant Visitor Forecast during Japan's Golden Week - by Heidi E. Schmidt Jun-Aug 2018 \n",
    "- [Import Python libraries](#import-python-modules)\n",
    "- [Centralized Python functions](#python-functions)\n",
    "- [Introduce the Recruit Restaurant Data Set](#introduce-the-restaurant-dataset)\n",
    "\t- [Read in the Recruit Restaurant Data](#read-in-the-restaurant-data)\n",
    "    - [Sample submission file](#sample-submission-file)\n",
    "    - [Null Hypothesis](#null-hypothesis)\n",
    "    - [Add null to avd df](#add-scratch-to-avd-df)\n",
    "    - [Questions to Solve](#questions-to-solve)   \n",
    "- [Exploratory data analysis (EDA)](#eda-the-data)\n",
    "    - [Air Visit Data (AVD)](#air-visit-data)\n",
    "    - [Air Store Info (ASI)](#air-store-info)\n",
    "    - [Air Reservation Data (AR)](#air-reservation-data)\n",
    "    - [Date Info](#date-info-data)\n",
    "    - [Add date diffs to reservation data](#add-date-diff-to-reservations)\n",
    "    - [Store Id relationships](#store-id-relation-between-air-hpg)\n",
    "    - [HPG Store Info (hpgsi)](#hpg-store-info)\n",
    "    - [HPG Reserve (hpgres) Data](#hpg-reservation-data)\n",
    "- [Visualizing the Data](#visualizing-the-data)\n",
    "\n",
    "- [Create test and train data](#create-test-and-train-data)\n",
    "\n",
    "- [Linear Regression fit features](#linear-regression-fit2)\n",
    "\n",
    "- [Fitting for a Random Forest model over LinearRegression](#fittingrf-vs-lr)\n",
    "\n",
    "- [Playing around with np log ](#2-log-or-2logp-eval)\n",
    "\n",
    "- [Regression eval null RMSE, RMSLE](#regression-eval)\n"
   ]
  },
  {
   "cell_type": "markdown",
   "metadata": {},
   "source": [
    "<a id=\"import-python-modules\"></a>\n",
    "## Import the Python libraries"
   ]
  },
  {
   "cell_type": "code",
   "execution_count": 3,
   "metadata": {},
   "outputs": [
    {
     "name": "stderr",
     "output_type": "stream",
     "text": [
      "/Users/heidischmidt/anaconda2/envs/py36/lib/python3.6/site-packages/sklearn/cross_validation.py:41: DeprecationWarning: This module was deprecated in version 0.18 in favor of the model_selection module into which all the refactored classes and functions are moved. Also note that the interface of the new CV iterators are different from that of this module. This module will be removed in 0.20.\n",
      "  \"This module will be removed in 0.20.\", DeprecationWarning)\n",
      "/Users/heidischmidt/anaconda2/envs/py36/lib/python3.6/site-packages/sklearn/grid_search.py:42: DeprecationWarning: This module was deprecated in version 0.18 in favor of the model_selection module into which all the refactored classes and functions are moved. This module will be removed in 0.20.\n",
      "  DeprecationWarning)\n",
      "/Users/heidischmidt/anaconda2/envs/py36/lib/python3.6/site-packages/sklearn/learning_curve.py:22: DeprecationWarning: This module was deprecated in version 0.18 in favor of the model_selection module into which all the functions are moved. This module will be removed in 0.20\n",
      "  DeprecationWarning)\n"
     ]
    }
   ],
   "source": [
    "# Import Pandas for managing datasets\n",
    "import pandas as pd\n",
    "\n",
    "# Import Matplotlib for additional customization\n",
    "from matplotlib import pyplot as plt\n",
    "%matplotlib inline\n",
    "from matplotlib import style\n",
    "style.use('fivethirtyeight')\n",
    "\n",
    "# Seaborn for plotting and styling\n",
    "import seaborn as sns\n",
    "\n",
    "# Import Numpy \n",
    "import numpy as np\n",
    "\n",
    "# Import sklearn for fit and predictions\n",
    "from sklearn import *\n",
    "\n",
    "# Math for Kaggle RMSLE function \n",
    "import math\n",
    "\n",
    "# For string manipulation, regular expression. and itertating \n",
    "import string, re, itertools\n",
    "\n",
    "# Importing datetime \n",
    "from datetime import datetime\n",
    "\n",
    "# Importing sklearn \n",
    "from sklearn import metrics\n",
    "from sklearn.model_selectionsklearn.m  import cross_val_score\n",
    "from sklearn.model_selection import train_test_split\n",
    "from sklearn.metrics import mean_squared_error\n"
   ]
  },
  {
   "cell_type": "markdown",
   "metadata": {},
   "source": [
    "<a id=\"python-functions\"></a>\n",
    "## Centralized Python functions"
   ]
  },
  {
   "cell_type": "markdown",
   "metadata": {},
   "source": [
    "#### All the RMSLE "
   ]
  },
  {
   "cell_type": "code",
   "execution_count": 338,
   "metadata": {},
   "outputs": [],
   "source": [
    "# # https://www.kaggle.com/marknagelberg/rmsle-function\n",
    "# import math\n",
    "\n",
    "# #A function to calculate Root Mean Squared Logarithmic Error (RMSLE)\n",
    "# def rmsle(y, y_pred):\n",
    "#     assert len(y) == len(y_pred)\n",
    "#     terms_to_sum = [(math.log(y_pred[i] + 1) - math.log(y[i] + 1)) ** 2.0 for i,pred in enumerate(y_pred)]\n",
    "#     return (sum(terms_to_sum) * (1.0/len(y))) ** 0.5"
   ]
  },
  {
   "cell_type": "code",
   "execution_count": 339,
   "metadata": {},
   "outputs": [],
   "source": [
    "# https://gist.github.com/Tafkas/7642141\n",
    "import numpy as np\n",
    "\n",
    "def rmsle(h, y): \n",
    "    \"\"\"\n",
    "    Compute the Root Mean Squared Log Error for hypthesis h and targets y\n",
    "    \n",
    "    Args:\n",
    "        h - numpy array containing predictions with shape (n_samples, n_targets)\n",
    "        y - numpy array containing targets with shape (n_samples, n_targets)\n",
    "    \"\"\"\n",
    "    return np.sqrt(np.square(np.log(h + 1) - np.log(y + 1)).mean())"
   ]
  },
  {
   "cell_type": "code",
   "execution_count": null,
   "metadata": {},
   "outputs": [],
   "source": [
    "def try_fitting_lr(X, y):\n",
    "    X_train, X_test, y_train, y_test = train_test_split(X, y, test_size=0.3)\n",
    "    linreg = LinearRegression()\n",
    "    linreg.fit(X_train, y_train)\n",
    "    print('intercept', linreg.intercept_)\n",
    "    print('coefficients', linreg.coef_)\n",
    "    y_hat = linreg.predict(X_test)\n",
    "    print('rmsle', rmsle(y_hat, y_test))\n",
    "    return linreg\n",
    "    \n",
    "def try_fitting_rf(X, y):\n",
    "    X_train, X_test, y_train, y_test = train_test_split(X, y, test_size=0.3)\n",
    "    model = RandomForestRegressor()\n",
    "    model.fit(X_train, y_train)\n",
    "    y_hat = model.predict(X_test)\n",
    "    print('rmsle', rmsle(y_hat, y_test))\n",
    "    return model"
   ]
  },
  {
   "cell_type": "markdown",
   "metadata": {},
   "source": [
    "<a id=\"introduce-the-restaurant-dataset\"></a>\n",
    "## Introduce the Recruit Restaurant Data Set\n",
    "\n",
    "##### For my final project I will be working with a data set from Recruit Holdings that was used in a Kaggle competition ([data dictionary](https://www.kaggle.com/c/recruit-restaurant-visitor-forecasting/data)). \n",
    "\n",
    "---\n",
    "\n",
    "* The objective of the competition- which is the problem to solve -  Predict the total number of visitors to a restaurant for future dates.\n",
    "\n",
    "* Requirement: The data for reservations, visits, and other information from these sites to forecast future restaurant visitor totals on a given date must all be used. \n",
    "\n",
    "* The data was taken during January 2016 to May 2107 which includes ([Golden Week](https://www.jrailpass.com/blog/golden-week-travel-tips)) \n",
    "\n",
    "* Golden week means it is atypical forecasting when most folks are travelling and celebrating several holidays in a row. \n",
    "\n",
    "---\n",
    "The means of evalution of the restaurant data is on the Root Mean Squared Logaithmic Error (RMSLE) \n",
    "where \n",
    "\n",
    "* n is the total number of observations\n",
    "* p sub i is the prediction of visitors\n",
    "* a sub i is the actual number of visitors\n",
    "* log(x) is the natural logarithm of x \n",
    "\n",
    "---\n",
    "\n",
    "Oddness around the data\n",
    "We are not provided with the visit history for the restaurants which are only defined in the hpg system.\n",
    "\n",
    "\n",
    "\n",
    "\n",
    "\n",
    "--- \n",
    "Restaurants will be more efficient in planning and be able to stay in business if they know how many diners to expect. The success rate for small businesses is steep in the first five years. See ([Debunking Restaurant Failure Myths](https://www.fundera.com/blog/what-percentage-of-small-businesses-fail)).\n",
    "\n",
    "Knowing what are the reasons for success for a restaurant can be due to location, genre of food, theme of restaurant, size. Knowing how to predict if a decision is working to draw more diners in is tied to being able to forecast and iterate over the knowledge. \n",
    "\n",
    "In this data set from Recruit Holdings we have the benefit of their data from their review site, their reservation site, and point of sales service. \n",
    "\n",
    "---\n",
    "Demand forecasting is a common data science application. \n",
    "\n",
    "Some applications to this restaurant data set could be:\n",
    "* Find where to site new restauraunts and know how large of a dining room to build.\n",
    "* Look at the data with respect to location of key landmarks and family grave sites as Golden Week is essentially vacation week. \n",
    "\n",
    "The goals of this project are to: \n",
    "* Determine if a particular food genre is more popular than another. \n",
    "\n"
   ]
  },
  {
   "cell_type": "markdown",
   "metadata": {},
   "source": [
    "<a id=\"read-in-the-restaurant-data\"></a>\n",
    "## Read In the Recruit Holdings Restaurant Data"
   ]
  },
  {
   "cell_type": "code",
   "execution_count": 6,
   "metadata": {},
   "outputs": [],
   "source": [
    "# Read the Air Visit Data (avd) and set the datetime as the index.\n",
    "\n",
    "avd = './data/air_visit_data.csv'\n",
    "avd_df = pd.read_csv(avd, index_col='visit_date', parse_dates=True)\n",
    "\n",
    "# Read the Air Visit Data (avd) as is \n",
    "avd = './data/air_visit_data.csv'\n",
    "avdorig_df = pd.read_csv(avd)\n",
    "\n",
    "\n",
    "# Read the Air Store Info (asi)\n",
    "asi = './data/air_store_info.csv'\n",
    "asi_df = pd.read_csv(asi)\n",
    "\n",
    "# Read the Air Reserve (ar) as is as arorig_df IF needed later \n",
    "ar = './data/air_reserve.csv'\n",
    "arorig_df = pd.read_csv(ar)\n",
    "\n",
    "# Read the Date Info (keeping that long for context)\n",
    "date_info = './data/date_info.csv'\n",
    "date_info_df = pd.read_csv(date_info, index_col='calendar_date', parse_dates=True)\n",
    "\n",
    "# Read the Date Info (keeping that long for context)\n",
    "date_info = './data/date_info.csv'\n",
    "date_info_range_df = pd.read_csv(date_info)\n",
    "\n",
    "# Read the Store Id Relation (sid_rel)\n",
    "sid_rel = './data/store_id_relation.csv'\n",
    "sid_rel_df = pd.read_csv(sid_rel)\n",
    "\n",
    "# Read the HPG Store Info \n",
    "hpgsi = './data/hpg_store_info.csv'\n",
    "hpgsi_df = pd.read_csv(hpgsi)\n",
    "\n",
    "# Read the HPG Reserve (hpgres) as is as hpgresorig_df IF needed later \n",
    "hpgres = './data/hpg_reserve.csv'\n",
    "hpgresorig_df = pd.read_csv(hpgres)"
   ]
  },
  {
   "cell_type": "markdown",
   "metadata": {},
   "source": [
    "#### Special Load of CSV by datetime with visits_datetime as the index "
   ]
  },
  {
   "cell_type": "code",
   "execution_count": 7,
   "metadata": {},
   "outputs": [],
   "source": [
    "## Headers of the Air Reserve (AR) file show that there \n",
    "## are 2 date time columns and need to have them parsed on load as the correct data types \n",
    "## air_store_id  visit_datetime   reserve_datetime   reserve_visitors\n",
    "\n",
    "headers = ['air_store_id', 'visit_datetime', 'reserve_datetime', 'reserve_visitors']\n",
    "dtypes = {'air_store_id': 'str', 'visit_datetime': 'str', 'reserve_datetime': 'str', 'reserve_visitors': 'str'}\n",
    "parse_dates = ['visit_datetime', 'reserve_datetime']\n",
    "\n",
    "# Looked at https://stackoverflow.com/questions/21269399/datetime-dtypes-in-pandas-read-csv for an example \n",
    "ar_df = pd.read_csv(ar, sep=',', index_col='visit_datetime', dtype=dtypes, parse_dates=[2,3])\n",
    "\n",
    "## Headers of the HPG Reserve (HPG) file show that there \n",
    "## are 2 date time columns and need to have them parsed on load as the correct data types \n",
    "## hpg_store_id       visit_datetime     reserve_datetime reserve_visitors\n",
    "\n",
    "headers = ['hpg_store_id', 'visit_datetime', 'reserve_datetime', 'reserve_visitors']\n",
    "dtypes = {'hpg_store_id': 'str', 'visit_datetime': 'str', 'reserve_datetime': 'str', 'reserve_visitors': 'str'}\n",
    "parse_dates = ['visit_datetime', 'reserve_datetime']\n",
    "\n",
    "# Looked at https://stackoverflow.com/questions/21269399/datetime-dtypes-in-pandas-read-csv for an example \n",
    "hpgres_df = pd.read_csv(hpgres, sep=',', index_col='visit_datetime', dtype=dtypes, parse_dates=[2,3])"
   ]
  },
  {
   "cell_type": "markdown",
   "metadata": {},
   "source": [
    "<a id=\"sample-submission-file\"></a>\n",
    "## Sample Submission file \n",
    "\n",
    "* Needs the specific date range from 2017-04-23 to 2017-05-31 \n",
    "\n",
    "* All air id's no HPG -- first indicator of a HPG red herring \n"
   ]
  },
  {
   "cell_type": "code",
   "execution_count": 258,
   "metadata": {},
   "outputs": [
    {
     "name": "stdout",
     "output_type": "stream",
     "text": [
      "                                id  visitors\n",
      "0  air_00a91d42b08b08d9_2017-04-23         0\n",
      "1  air_00a91d42b08b08d9_2017-04-24         0\n",
      "2  air_00a91d42b08b08d9_2017-04-25         0\n",
      "3  air_00a91d42b08b08d9_2017-04-26         0\n",
      "4  air_00a91d42b08b08d9_2017-04-27         0\n",
      "                                    id  visitors\n",
      "32014  air_fff68b929994bfbd_2017-05-27         0\n",
      "32015  air_fff68b929994bfbd_2017-05-28         0\n",
      "32016  air_fff68b929994bfbd_2017-05-29         0\n",
      "32017  air_fff68b929994bfbd_2017-05-30         0\n",
      "32018  air_fff68b929994bfbd_2017-05-31         0\n"
     ]
    }
   ],
   "source": [
    "sample_df = pd.read_csv('./data/sample_submission.csv')\n",
    "print(sample_df.head())\n",
    "print(sample_df.tail())"
   ]
  },
  {
   "cell_type": "markdown",
   "metadata": {},
   "source": [
    "<a id=\"null-hypothesis\"></a>\n",
    "## Null Hypothesis:  \n",
    "\n",
    "### The Null hypothesis is that the average amount of visitors per day happen again next year this time frame.\n"
   ]
  },
  {
   "cell_type": "code",
   "execution_count": 8,
   "metadata": {},
   "outputs": [
    {
     "data": {
      "text/plain": [
       "count    252108.000000\n",
       "mean         20.973761\n",
       "std          16.757007\n",
       "min           1.000000\n",
       "25%           9.000000\n",
       "50%          17.000000\n",
       "75%          29.000000\n",
       "max         877.000000\n",
       "Name: visitors, dtype: float64"
      ]
     },
     "execution_count": 8,
     "metadata": {},
     "output_type": "execute_result"
    }
   ],
   "source": [
    "avd_df['visitors'].describe()"
   ]
  },
  {
   "cell_type": "code",
   "execution_count": 9,
   "metadata": {},
   "outputs": [
    {
     "name": "stdout",
     "output_type": "stream",
     "text": [
      "1\n",
      "20.973761245180636\n",
      "17.0\n",
      "877\n",
      "252108\n"
     ]
    }
   ],
   "source": [
    "avd_df['visitors'].head(2)\n",
    "\n",
    "print(np.min(avd_df['visitors']))\n",
    "print(np.mean(avd_df['visitors']))\n",
    "print(np.median(avd_df['visitors']))\n",
    "print(np.max(avd_df['visitors']))\n",
    "print(np.size(avd_df['visitors']))"
   ]
  },
  {
   "cell_type": "code",
   "execution_count": 256,
   "metadata": {},
   "outputs": [
    {
     "data": {
      "text/plain": [
       "count    29830.000000\n",
       "mean        13.879149\n",
       "std         23.729264\n",
       "min          1.000000\n",
       "25%          4.000000\n",
       "50%         10.000000\n",
       "75%         18.000000\n",
       "max       2241.000000\n",
       "Name: reserve_visitors, dtype: float64"
      ]
     },
     "execution_count": 256,
     "metadata": {},
     "output_type": "execute_result"
    }
   ],
   "source": [
    "feature_df['reserve_visitors'].describe()"
   ]
  },
  {
   "cell_type": "code",
   "execution_count": 255,
   "metadata": {},
   "outputs": [
    {
     "name": "stdout",
     "output_type": "stream",
     "text": [
      "1\n",
      "13.879148508213207\n",
      "10.0\n",
      "2241\n",
      "29830\n"
     ]
    }
   ],
   "source": [
    "import numpy as np\n",
    "print(np.min(feature_df['reserve_visitors']))\n",
    "print(np.mean(feature_df['reserve_visitors']))\n",
    "print(np.median(feature_df['reserve_visitors']))\n",
    "print(np.max(feature_df['reserve_visitors']))\n",
    "print(np.size(feature_df['reserve_visitors']))"
   ]
  },
  {
   "cell_type": "markdown",
   "metadata": {},
   "source": [
    "<a id=\"questions-to-solve\"></a>\n",
    "## Question(s) to solve:  \n",
    "\n",
    "* What is the average Y (total visitors) by genre?\n",
    "* What is the average Y (total visitors) if holiday or not? \n",
    "* What is the average Y (total visitors) by day of week?\n",
    "\n",
    "---\n",
    "\n",
    "### Other questions \n",
    "\n",
    "* What is the average Y (total visitors) by location? \n",
    "* What location had the most visitors by genre? \n",
    "* Which days (holiday or day of week) had no visitors? \n",
    "* What days are most frequented?\n",
    "* Are those days holidays (national, school vacation, or other)? -- I.e. Golden week and do they exclude days closed ? \n",
    "* When is a reservation used and for how many people?\n",
    "* What customer segments can be derived from genre & visiting behavior?"
   ]
  },
  {
   "cell_type": "markdown",
   "metadata": {},
   "source": [
    "## <a id=\"eda-the-data\"></a>\n",
    "## Exploratory Data Analysis (EDA) \n",
    "\n",
    "* The use of simple tools, like graphing and summary statistics, to better understand the data. \n",
    "\n",
    "* Review plots and summarize and note obvious temporal structures, like trends seasonality, anomalies like missing data, corruption, and outliers, and any other structures that may impact forecasting.\n",
    "\n",
    "\n",
    "---\n",
    "\n",
    "## Working through the EDA \n",
    "\n",
    "Those are the individual files:\n",
    "\n",
    "* air_visit_data.csv: historical visit data for the air restaurants. This is essentially the main training data set.\n",
    "\n",
    "* sample_submission.csv: serves as the validation set. The id is formed by combining the air id with the visit date.\n",
    "\n",
    "Initial ideas on columns \n",
    "\n",
    "#### date, total_visitors, locations, system(yelp or reservation) <-- this not needed \n",
    "\n",
    "Layout columns suggestions from John Mercer \n",
    "\n",
    "* Instead of total visitors -- take the log of total_visitors and add it as a new column and compare it to total_visitors -- I was not sure what to do with it if I added it so I skipped it. \n",
    "\n",
    "*** Look at what they want for a submission file and see if you have to translate the log back for total visitors\n",
    "*** May need to be computed, but not used in the final submission file - Can't tell \n",
    "\n",
    "What is the response?\n",
    "Y response is total visitors\n",
    "\n",
    "What are the features?\n",
    "* day of week \n",
    "* is holiday (0 or 1)\n",
    "* genre (i.e. italian, sweets) \n",
    "* location ( ward, chome, ku ) \n",
    "\n",
    "Different total visitors based on genre? A: Yes. \n",
    "\n",
    "Be careful that location may have a one to one mapping to genre. A: Did not get to this. \n",
    "\n",
    "EDA\n",
    "* What is the average Y (total visitors) by genre?\n",
    "* What is the average Y (total visitors) by day of week?\n",
    "* What is the average Y (total visitors) holiday or not?\n",
    "\n",
    "* The features spiralled a bit and had me very worked up on permutations and fit \n",
    "\n",
    "\n",
    "## Lessons Learned in EDA and Visualizing the Data\n",
    "\n",
    "* There is never enough time \n",
    "\n",
    "* Adding in too many dummies and making me a dummy as result. I.e. Too much and I couldn't sort properly - nor could the notebook. It hung and crashed and it took me a day and a half to get back to this point. And that is where I left it. \n",
    "\n",
    "* Trying Random Forest helped me see the data in a ranking way and made the combinations on the fly for me that would have left me feeling like I addressed it halfway and piecemeal. \n",
    "\n",
    "* It would have been best if I had gone through all the git hub links for final project first week of class and realized that I needed to be doing a little each week. SMH.\n",
    "\n",
    "* Choosing a data set in the last month was nuts of me to do. Ob sit. \n",
    "\n",
    "* Having internet go out 2 times for 10 days total in the last 2 weeks was about to have me cry and pull out all my hair. \n",
    "\n",
    "* Beautiful AI is awesome and it was the easiest part of the process. Thanks John! \n",
    "\n",
    "* The discoveries were not all for naught. They just aren't as quickly as deep as others. I learned a bunch.  \n"
   ]
  },
  {
   "cell_type": "markdown",
   "metadata": {},
   "source": [
    "### <a id=\"air-visit-data\"></a>\n",
    "### Air Visit Data (AVD) \n",
    "\n",
    "This file contains historical visit data for the air restaurants.\n",
    "\n",
    "* air_store_id\n",
    "* visit_date - the date\n",
    "* visitors - the number of visitors to the restaurant on the date"
   ]
  },
  {
   "cell_type": "code",
   "execution_count": 11,
   "metadata": {},
   "outputs": [
    {
     "name": "stdout",
     "output_type": "stream",
     "text": [
      "The AVD data types are: \n",
      "\n",
      "air_store_id    object\n",
      "visitors         int64\n",
      "dtype: object\n",
      "\n",
      "\n",
      "The Air Visit Data index is based around time from January 2016 to April 2017: \n",
      "\n",
      "DatetimeIndex(['2016-01-13', '2016-01-14', '2016-01-15', '2016-01-16',\n",
      "               '2016-01-18', '2016-01-19', '2016-01-20', '2016-01-21',\n",
      "               '2016-01-22', '2016-01-23',\n",
      "               ...\n",
      "               '2017-04-11', '2017-04-12', '2017-04-13', '2017-04-14',\n",
      "               '2017-04-15', '2017-04-18', '2017-04-19', '2017-04-20',\n",
      "               '2017-04-21', '2017-04-22'],\n",
      "              dtype='datetime64[ns]', name='visit_date', length=252108, freq=None)\n",
      "\n",
      "\n",
      "The AVD data frame info shows no nulls because all the counts across rows are the same: \n",
      "\n",
      "<class 'pandas.core.frame.DataFrame'>\n",
      "DatetimeIndex: 252108 entries, 2016-01-13 to 2017-04-22\n",
      "Data columns (total 2 columns):\n",
      "air_store_id    252108 non-null object\n",
      "visitors        252108 non-null int64\n",
      "dtypes: int64(1), object(1)\n",
      "memory usage: 5.8+ MB\n",
      "None\n",
      "\n",
      "\n",
      "----------- Air Visit Data First rows  \n",
      "\n",
      "                    air_store_id  visitors\n",
      "visit_date                                \n",
      "2016-01-13  air_ba937bf13d40fb24        25\n",
      "2016-01-14  air_ba937bf13d40fb24        32\n",
      "2016-01-15  air_ba937bf13d40fb24        29\n",
      "\n",
      "\n",
      "----------- Air Visit Data Last rows  \n",
      "\n",
      "                    air_store_id  visitors\n",
      "visit_date                                \n",
      "2017-04-20  air_24e8414b9b07decb         7\n",
      "2017-04-21  air_24e8414b9b07decb         8\n",
      "2017-04-22  air_24e8414b9b07decb         5\n"
     ]
    }
   ],
   "source": [
    "# Air Visit Data (avd) \n",
    "print('The AVD data types are: \\n')\n",
    "print(avd_df.dtypes)\n",
    "print('\\n')\n",
    "print('The Air Visit Data index is based around time from January 2016 to April 2017: \\n')\n",
    "print(avd_df.index)\n",
    "print('\\n')\n",
    "print('The AVD data frame info shows no nulls because all the counts across rows are the same: \\n')\n",
    "print(avd_df.info())\n",
    "print('\\n')\n",
    "print('----------- Air Visit Data First rows  \\n')\n",
    "print(avd_df.head(3))\n",
    "print('\\n')\n",
    "print('----------- Air Visit Data Last rows  \\n')\n",
    "print(avd_df.tail(3))"
   ]
  },
  {
   "cell_type": "code",
   "execution_count": 12,
   "metadata": {},
   "outputs": [],
   "source": [
    "#### Adding the month, year, and other data for avd_df \n",
    "avd_df['year'] = avd_df.index.year\n",
    "avd_df['month'] = avd_df.index.month\n",
    "avd_df['dow'] = avd_df.index.dayofweek"
   ]
  },
  {
   "cell_type": "code",
   "execution_count": 13,
   "metadata": {},
   "outputs": [
    {
     "data": {
      "text/plain": [
       "4    40351\n",
       "5    39262\n",
       "3    37996\n",
       "2    36811\n",
       "1    36015\n",
       "0    31682\n",
       "6    29991\n",
       "Name: dow, dtype: int64"
      ]
     },
     "execution_count": 13,
     "metadata": {},
     "output_type": "execute_result"
    }
   ],
   "source": [
    "avd_df['dow'].value_counts()"
   ]
  },
  {
   "cell_type": "code",
   "execution_count": 14,
   "metadata": {},
   "outputs": [
    {
     "data": {
      "text/plain": [
       "3     30570\n",
       "2     27415\n",
       "1     27020\n",
       "4     23859\n",
       "12    21515\n",
       "10    21466\n",
       "7     21427\n",
       "11    20924\n",
       "9     20829\n",
       "8     20675\n",
       "6      8247\n",
       "5      8161\n",
       "Name: month, dtype: int64"
      ]
     },
     "execution_count": 14,
     "metadata": {},
     "output_type": "execute_result"
    }
   ],
   "source": [
    "avd_df['month'].value_counts()"
   ]
  },
  {
   "cell_type": "code",
   "execution_count": 15,
   "metadata": {},
   "outputs": [
    {
     "data": {
      "text/plain": [
       "2016    174535\n",
       "2017     77573\n",
       "Name: year, dtype: int64"
      ]
     },
     "execution_count": 15,
     "metadata": {},
     "output_type": "execute_result"
    }
   ],
   "source": [
    "avd_df['year'].value_counts()"
   ]
  },
  {
   "cell_type": "markdown",
   "metadata": {},
   "source": [
    "#### Find unique air_store_id and hpg_store_id in the reservation data files "
   ]
  },
  {
   "cell_type": "code",
   "execution_count": 16,
   "metadata": {},
   "outputs": [
    {
     "data": {
      "text/plain": [
       "13325"
      ]
     },
     "execution_count": 16,
     "metadata": {},
     "output_type": "execute_result"
    }
   ],
   "source": [
    "len(hpgresorig_df['hpg_store_id'].unique())"
   ]
  },
  {
   "cell_type": "code",
   "execution_count": 17,
   "metadata": {},
   "outputs": [
    {
     "data": {
      "text/plain": [
       "314"
      ]
     },
     "execution_count": 17,
     "metadata": {},
     "output_type": "execute_result"
    }
   ],
   "source": [
    "len(ar_df['air_store_id'].unique())"
   ]
  },
  {
   "cell_type": "code",
   "execution_count": 257,
   "metadata": {},
   "outputs": [
    {
     "data": {
      "text/plain": [
       "314"
      ]
     },
     "execution_count": 257,
     "metadata": {},
     "output_type": "execute_result"
    }
   ],
   "source": [
    "len(feature_df['id'].unique())"
   ]
  },
  {
   "cell_type": "code",
   "execution_count": 18,
   "metadata": {},
   "outputs": [
    {
     "data": {
      "text/plain": [
       "150"
      ]
     },
     "execution_count": 18,
     "metadata": {},
     "output_type": "execute_result"
    }
   ],
   "source": [
    "len(sid_rel_df['air_store_id'].unique())"
   ]
  },
  {
   "cell_type": "code",
   "execution_count": 19,
   "metadata": {},
   "outputs": [
    {
     "data": {
      "text/plain": [
       "150"
      ]
     },
     "execution_count": 19,
     "metadata": {},
     "output_type": "execute_result"
    }
   ],
   "source": [
    "len(sid_rel_df['hpg_store_id'].unique())"
   ]
  },
  {
   "cell_type": "markdown",
   "metadata": {},
   "source": [
    "#### Unique air stores in historical air store visit data "
   ]
  },
  {
   "cell_type": "code",
   "execution_count": 20,
   "metadata": {},
   "outputs": [
    {
     "name": "stdout",
     "output_type": "stream",
     "text": [
      "829\n",
      "252108\n"
     ]
    }
   ],
   "source": [
    "airstore_uniq = avd_df['air_store_id'].unique()\n",
    "print(len(airstore_uniq))\n",
    "print(len(avd_df['air_store_id']))"
   ]
  },
  {
   "cell_type": "code",
   "execution_count": 21,
   "metadata": {},
   "outputs": [
    {
     "data": {
      "text/html": [
       "<div>\n",
       "<style scoped>\n",
       "    .dataframe tbody tr th:only-of-type {\n",
       "        vertical-align: middle;\n",
       "    }\n",
       "\n",
       "    .dataframe tbody tr th {\n",
       "        vertical-align: top;\n",
       "    }\n",
       "\n",
       "    .dataframe thead th {\n",
       "        text-align: right;\n",
       "    }\n",
       "</style>\n",
       "<table border=\"1\" class=\"dataframe\">\n",
       "  <thead>\n",
       "    <tr style=\"text-align: right;\">\n",
       "      <th></th>\n",
       "      <th>air_store_id</th>\n",
       "      <th>visitors</th>\n",
       "      <th>year</th>\n",
       "      <th>month</th>\n",
       "      <th>dow</th>\n",
       "    </tr>\n",
       "    <tr>\n",
       "      <th>visit_date</th>\n",
       "      <th></th>\n",
       "      <th></th>\n",
       "      <th></th>\n",
       "      <th></th>\n",
       "      <th></th>\n",
       "    </tr>\n",
       "  </thead>\n",
       "  <tbody>\n",
       "    <tr>\n",
       "      <th>2016-01-13</th>\n",
       "      <td>air_ba937bf13d40fb24</td>\n",
       "      <td>25</td>\n",
       "      <td>2016</td>\n",
       "      <td>1</td>\n",
       "      <td>2</td>\n",
       "    </tr>\n",
       "    <tr>\n",
       "      <th>2016-01-14</th>\n",
       "      <td>air_ba937bf13d40fb24</td>\n",
       "      <td>32</td>\n",
       "      <td>2016</td>\n",
       "      <td>1</td>\n",
       "      <td>3</td>\n",
       "    </tr>\n",
       "  </tbody>\n",
       "</table>\n",
       "</div>"
      ],
      "text/plain": [
       "                    air_store_id  visitors  year  month  dow\n",
       "visit_date                                                  \n",
       "2016-01-13  air_ba937bf13d40fb24        25  2016      1    2\n",
       "2016-01-14  air_ba937bf13d40fb24        32  2016      1    3"
      ]
     },
     "execution_count": 21,
     "metadata": {},
     "output_type": "execute_result"
    }
   ],
   "source": [
    "avd_df.head(2)"
   ]
  },
  {
   "cell_type": "code",
   "execution_count": 22,
   "metadata": {},
   "outputs": [],
   "source": [
    "### Save my work FOr Air Visit Data (avd) intermittantly to CSV \n",
    "\n",
    "avd_df.to_csv('./restaurant-forecast-clean-do-over.csv')"
   ]
  },
  {
   "cell_type": "markdown",
   "metadata": {},
   "source": [
    "### <a id=\"add-scratch-to-avd-df\"></a>\n",
    "### Test add null hypothesis to avd df - historical data \n",
    "\n",
    "Making a scratch place to work with data to plug in the null hypothesis \n",
    "\n",
    "Did not end up using it as it calculated for what was there, not predict the visitors. \n",
    "So that way looked like it would end up over fitting any model. \n"
   ]
  },
  {
   "cell_type": "code",
   "execution_count": 23,
   "metadata": {},
   "outputs": [],
   "source": [
    "avd_df.groupby(['air_store_id','dow'])\n",
    "scratch = avd_df.groupby(['air_store_id','dow']).agg({'visitors' : [np.min,np.mean,np.median,np.max,np.size]}).reset_index()\n",
    "scratch.columns = ['air_store_id', 'dow', 'min_visitors', 'mean_visitors', 'median_visitors','max_visitors','count_observations']"
   ]
  },
  {
   "cell_type": "code",
   "execution_count": 24,
   "metadata": {},
   "outputs": [
    {
     "data": {
      "text/html": [
       "<div>\n",
       "<style scoped>\n",
       "    .dataframe tbody tr th:only-of-type {\n",
       "        vertical-align: middle;\n",
       "    }\n",
       "\n",
       "    .dataframe tbody tr th {\n",
       "        vertical-align: top;\n",
       "    }\n",
       "\n",
       "    .dataframe thead th {\n",
       "        text-align: right;\n",
       "    }\n",
       "</style>\n",
       "<table border=\"1\" class=\"dataframe\">\n",
       "  <thead>\n",
       "    <tr style=\"text-align: right;\">\n",
       "      <th></th>\n",
       "      <th>air_store_id</th>\n",
       "      <th>dow</th>\n",
       "      <th>min_visitors</th>\n",
       "      <th>mean_visitors</th>\n",
       "      <th>median_visitors</th>\n",
       "      <th>max_visitors</th>\n",
       "      <th>count_observations</th>\n",
       "    </tr>\n",
       "  </thead>\n",
       "  <tbody>\n",
       "    <tr>\n",
       "      <th>0</th>\n",
       "      <td>air_00a91d42b08b08d9</td>\n",
       "      <td>0</td>\n",
       "      <td>1</td>\n",
       "      <td>22.457143</td>\n",
       "      <td>19.0</td>\n",
       "      <td>47</td>\n",
       "      <td>35</td>\n",
       "    </tr>\n",
       "    <tr>\n",
       "      <th>1</th>\n",
       "      <td>air_00a91d42b08b08d9</td>\n",
       "      <td>1</td>\n",
       "      <td>1</td>\n",
       "      <td>24.350000</td>\n",
       "      <td>24.5</td>\n",
       "      <td>43</td>\n",
       "      <td>40</td>\n",
       "    </tr>\n",
       "  </tbody>\n",
       "</table>\n",
       "</div>"
      ],
      "text/plain": [
       "           air_store_id  dow  min_visitors  mean_visitors  median_visitors  \\\n",
       "0  air_00a91d42b08b08d9    0             1      22.457143             19.0   \n",
       "1  air_00a91d42b08b08d9    1             1      24.350000             24.5   \n",
       "\n",
       "   max_visitors  count_observations  \n",
       "0            47                  35  \n",
       "1            43                  40  "
      ]
     },
     "execution_count": 24,
     "metadata": {},
     "output_type": "execute_result"
    }
   ],
   "source": [
    "scratch.head(2)"
   ]
  },
  {
   "cell_type": "code",
   "execution_count": 25,
   "metadata": {},
   "outputs": [],
   "source": [
    "air_stores = pd.concat([pd.DataFrame({'air_store_id': airstore_uniq, 'dow': [i]*len(airstore_uniq)}) for i in range(7)], axis=0, ignore_index=True).reset_index(drop=True)"
   ]
  },
  {
   "cell_type": "code",
   "execution_count": 26,
   "metadata": {},
   "outputs": [
    {
     "data": {
      "text/html": [
       "<div>\n",
       "<style scoped>\n",
       "    .dataframe tbody tr th:only-of-type {\n",
       "        vertical-align: middle;\n",
       "    }\n",
       "\n",
       "    .dataframe tbody tr th {\n",
       "        vertical-align: top;\n",
       "    }\n",
       "\n",
       "    .dataframe thead th {\n",
       "        text-align: right;\n",
       "    }\n",
       "</style>\n",
       "<table border=\"1\" class=\"dataframe\">\n",
       "  <thead>\n",
       "    <tr style=\"text-align: right;\">\n",
       "      <th></th>\n",
       "      <th>air_store_id</th>\n",
       "      <th>dow</th>\n",
       "      <th>min_visitors</th>\n",
       "      <th>mean_visitors</th>\n",
       "      <th>median_visitors</th>\n",
       "      <th>max_visitors</th>\n",
       "      <th>count_observations</th>\n",
       "    </tr>\n",
       "  </thead>\n",
       "  <tbody>\n",
       "    <tr>\n",
       "      <th>0</th>\n",
       "      <td>air_ba937bf13d40fb24</td>\n",
       "      <td>0</td>\n",
       "      <td>2.0</td>\n",
       "      <td>13.754386</td>\n",
       "      <td>12.0</td>\n",
       "      <td>34.0</td>\n",
       "      <td>57.0</td>\n",
       "    </tr>\n",
       "    <tr>\n",
       "      <th>1</th>\n",
       "      <td>air_25e9888d30b386df</td>\n",
       "      <td>0</td>\n",
       "      <td>1.0</td>\n",
       "      <td>1.666667</td>\n",
       "      <td>2.0</td>\n",
       "      <td>2.0</td>\n",
       "      <td>3.0</td>\n",
       "    </tr>\n",
       "    <tr>\n",
       "      <th>2</th>\n",
       "      <td>air_8e4360a64dbd4c50</td>\n",
       "      <td>0</td>\n",
       "      <td>2.0</td>\n",
       "      <td>24.428571</td>\n",
       "      <td>23.5</td>\n",
       "      <td>47.0</td>\n",
       "      <td>42.0</td>\n",
       "    </tr>\n",
       "  </tbody>\n",
       "</table>\n",
       "</div>"
      ],
      "text/plain": [
       "           air_store_id  dow  min_visitors  mean_visitors  median_visitors  \\\n",
       "0  air_ba937bf13d40fb24    0           2.0      13.754386             12.0   \n",
       "1  air_25e9888d30b386df    0           1.0       1.666667              2.0   \n",
       "2  air_8e4360a64dbd4c50    0           2.0      24.428571             23.5   \n",
       "\n",
       "   max_visitors  count_observations  \n",
       "0          34.0                57.0  \n",
       "1           2.0                 3.0  \n",
       "2          47.0                42.0  "
      ]
     },
     "execution_count": 26,
     "metadata": {},
     "output_type": "execute_result"
    }
   ],
   "source": [
    "air_stores = pd.merge(air_stores, scratch, how='left', on=['air_store_id','dow']) \n",
    "air_stores.head(3)"
   ]
  },
  {
   "cell_type": "code",
   "execution_count": 27,
   "metadata": {},
   "outputs": [
    {
     "data": {
      "text/plain": [
       "(5803, 7)"
      ]
     },
     "execution_count": 27,
     "metadata": {},
     "output_type": "execute_result"
    }
   ],
   "source": [
    "air_stores.shape"
   ]
  },
  {
   "cell_type": "markdown",
   "metadata": {},
   "source": [
    "## Concatentate reservation data after adding system to the data frame \n",
    "\n",
    "For HPG this is absolutely NOT necessary. It's got so many Nulls you could drive a truck through it. \n",
    "\n",
    "This was a first attempt.\n",
    "The final attempt was the making of the together df.\n",
    "\n",
    "Lessons learned from that were that hpg doesn't have entries in the store id relational data.\n",
    "\n",
    "Trying to narrow down the data set from that day and put them all into air id's was not possible. Too much missing data. \n",
    "\n",
    "Instead of trying to get 2 million from hpg I punted and rolled with the air reservation data. \n",
    "\n",
    "\n",
    "Steps \n",
    "\n",
    "1) add the system column \n",
    "\n",
    "2) rename the air_store_id hpg_store_id\n",
    "\n",
    "3) concat both reservation data sets "
   ]
  },
  {
   "cell_type": "code",
   "execution_count": 28,
   "metadata": {},
   "outputs": [],
   "source": [
    "arorig_df['system'] = 'air'"
   ]
  },
  {
   "cell_type": "code",
   "execution_count": 29,
   "metadata": {},
   "outputs": [],
   "source": [
    "hpgresorig_df['system'] = 'hpg'"
   ]
  },
  {
   "cell_type": "code",
   "execution_count": 30,
   "metadata": {},
   "outputs": [
    {
     "data": {
      "text/plain": [
       "Index(['air_store_id', 'visit_datetime', 'reserve_datetime',\n",
       "       'reserve_visitors', 'system'],\n",
       "      dtype='object')"
      ]
     },
     "execution_count": 30,
     "metadata": {},
     "output_type": "execute_result"
    }
   ],
   "source": [
    "arorig_df.columns "
   ]
  },
  {
   "cell_type": "code",
   "execution_count": 31,
   "metadata": {},
   "outputs": [
    {
     "data": {
      "text/plain": [
       "Index(['hpg_store_id', 'visit_datetime', 'reserve_datetime',\n",
       "       'reserve_visitors', 'system'],\n",
       "      dtype='object')"
      ]
     },
     "execution_count": 31,
     "metadata": {},
     "output_type": "execute_result"
    }
   ],
   "source": [
    "hpgresorig_df.columns"
   ]
  },
  {
   "cell_type": "code",
   "execution_count": 32,
   "metadata": {},
   "outputs": [],
   "source": [
    "# without inplace it renames on the fly and is not permanent \n",
    "hpgresorig_df.rename(columns={'hpg_store_id':'store_id'},inplace=True)"
   ]
  },
  {
   "cell_type": "code",
   "execution_count": 33,
   "metadata": {},
   "outputs": [],
   "source": [
    "arorig_df.rename(columns={'air_store_id':'store_id'},inplace=True)"
   ]
  },
  {
   "cell_type": "code",
   "execution_count": 34,
   "metadata": {},
   "outputs": [
    {
     "data": {
      "text/html": [
       "<div>\n",
       "<style scoped>\n",
       "    .dataframe tbody tr th:only-of-type {\n",
       "        vertical-align: middle;\n",
       "    }\n",
       "\n",
       "    .dataframe tbody tr th {\n",
       "        vertical-align: top;\n",
       "    }\n",
       "\n",
       "    .dataframe thead th {\n",
       "        text-align: right;\n",
       "    }\n",
       "</style>\n",
       "<table border=\"1\" class=\"dataframe\">\n",
       "  <thead>\n",
       "    <tr style=\"text-align: right;\">\n",
       "      <th></th>\n",
       "      <th>store_id</th>\n",
       "      <th>visit_datetime</th>\n",
       "      <th>reserve_datetime</th>\n",
       "      <th>reserve_visitors</th>\n",
       "      <th>system</th>\n",
       "    </tr>\n",
       "  </thead>\n",
       "  <tbody>\n",
       "    <tr>\n",
       "      <th>0</th>\n",
       "      <td>hpg_c63f6f42e088e50f</td>\n",
       "      <td>2016-01-01 11:00:00</td>\n",
       "      <td>2016-01-01 09:00:00</td>\n",
       "      <td>1</td>\n",
       "      <td>hpg</td>\n",
       "    </tr>\n",
       "  </tbody>\n",
       "</table>\n",
       "</div>"
      ],
      "text/plain": [
       "               store_id       visit_datetime     reserve_datetime  \\\n",
       "0  hpg_c63f6f42e088e50f  2016-01-01 11:00:00  2016-01-01 09:00:00   \n",
       "\n",
       "   reserve_visitors system  \n",
       "0                 1    hpg  "
      ]
     },
     "execution_count": 34,
     "metadata": {},
     "output_type": "execute_result"
    }
   ],
   "source": [
    "hpgresorig_df.head(1)"
   ]
  },
  {
   "cell_type": "code",
   "execution_count": 35,
   "metadata": {},
   "outputs": [
    {
     "data": {
      "text/html": [
       "<div>\n",
       "<style scoped>\n",
       "    .dataframe tbody tr th:only-of-type {\n",
       "        vertical-align: middle;\n",
       "    }\n",
       "\n",
       "    .dataframe tbody tr th {\n",
       "        vertical-align: top;\n",
       "    }\n",
       "\n",
       "    .dataframe thead th {\n",
       "        text-align: right;\n",
       "    }\n",
       "</style>\n",
       "<table border=\"1\" class=\"dataframe\">\n",
       "  <thead>\n",
       "    <tr style=\"text-align: right;\">\n",
       "      <th></th>\n",
       "      <th>store_id</th>\n",
       "      <th>visit_datetime</th>\n",
       "      <th>reserve_datetime</th>\n",
       "      <th>reserve_visitors</th>\n",
       "      <th>system</th>\n",
       "    </tr>\n",
       "  </thead>\n",
       "  <tbody>\n",
       "    <tr>\n",
       "      <th>0</th>\n",
       "      <td>air_877f79706adbfb06</td>\n",
       "      <td>2016-01-01 19:00:00</td>\n",
       "      <td>2016-01-01 16:00:00</td>\n",
       "      <td>1</td>\n",
       "      <td>air</td>\n",
       "    </tr>\n",
       "  </tbody>\n",
       "</table>\n",
       "</div>"
      ],
      "text/plain": [
       "               store_id       visit_datetime     reserve_datetime  \\\n",
       "0  air_877f79706adbfb06  2016-01-01 19:00:00  2016-01-01 16:00:00   \n",
       "\n",
       "   reserve_visitors system  \n",
       "0                 1    air  "
      ]
     },
     "execution_count": 35,
     "metadata": {},
     "output_type": "execute_result"
    }
   ],
   "source": [
    "arorig_df.head(1)"
   ]
  },
  {
   "cell_type": "code",
   "execution_count": 36,
   "metadata": {},
   "outputs": [],
   "source": [
    "merged_res = pd.concat([arorig_df, hpgresorig_df], names=['store_id','visit_datetime','reserve_datetime','reserve_visitors','system'])\n",
    "\n",
    "# example -- pd.concat([s1, s2], keys=['s1', 's2'], names=['Series name', 'Row ID'])\n",
    "# names=['store_id','visit_datetime','reserve_datetime','reserve_visitors','system']"
   ]
  },
  {
   "cell_type": "code",
   "execution_count": 43,
   "metadata": {},
   "outputs": [
    {
     "data": {
      "text/plain": [
       "(2092698, 5)"
      ]
     },
     "execution_count": 43,
     "metadata": {},
     "output_type": "execute_result"
    }
   ],
   "source": [
    "merged_res.shape\n",
    "\n",
    "#   92379 air_reserve.csv\n",
    "# 2000321 hpg_reserve.csv\n",
    "#  32020  sample_submission.csv  file has only 822 unique air store id's which is > 151 in store rel\n",
    "\n",
    "# 2092698 merged_res df "
   ]
  },
  {
   "cell_type": "code",
   "execution_count": 44,
   "metadata": {},
   "outputs": [
    {
     "data": {
      "text/html": [
       "<div>\n",
       "<style scoped>\n",
       "    .dataframe tbody tr th:only-of-type {\n",
       "        vertical-align: middle;\n",
       "    }\n",
       "\n",
       "    .dataframe tbody tr th {\n",
       "        vertical-align: top;\n",
       "    }\n",
       "\n",
       "    .dataframe thead th {\n",
       "        text-align: right;\n",
       "    }\n",
       "</style>\n",
       "<table border=\"1\" class=\"dataframe\">\n",
       "  <thead>\n",
       "    <tr style=\"text-align: right;\">\n",
       "      <th></th>\n",
       "      <th>store_id</th>\n",
       "      <th>visit_datetime</th>\n",
       "      <th>reserve_datetime</th>\n",
       "      <th>reserve_visitors</th>\n",
       "      <th>system</th>\n",
       "    </tr>\n",
       "  </thead>\n",
       "  <tbody>\n",
       "    <tr>\n",
       "      <th>0</th>\n",
       "      <td>air_877f79706adbfb06</td>\n",
       "      <td>2016-01-01 19:00:00</td>\n",
       "      <td>2016-01-01 16:00:00</td>\n",
       "      <td>1</td>\n",
       "      <td>air</td>\n",
       "    </tr>\n",
       "    <tr>\n",
       "      <th>1</th>\n",
       "      <td>air_db4b38ebe7a7ceff</td>\n",
       "      <td>2016-01-01 19:00:00</td>\n",
       "      <td>2016-01-01 19:00:00</td>\n",
       "      <td>3</td>\n",
       "      <td>air</td>\n",
       "    </tr>\n",
       "    <tr>\n",
       "      <th>2</th>\n",
       "      <td>air_db4b38ebe7a7ceff</td>\n",
       "      <td>2016-01-01 19:00:00</td>\n",
       "      <td>2016-01-01 19:00:00</td>\n",
       "      <td>6</td>\n",
       "      <td>air</td>\n",
       "    </tr>\n",
       "    <tr>\n",
       "      <th>3</th>\n",
       "      <td>air_877f79706adbfb06</td>\n",
       "      <td>2016-01-01 20:00:00</td>\n",
       "      <td>2016-01-01 16:00:00</td>\n",
       "      <td>2</td>\n",
       "      <td>air</td>\n",
       "    </tr>\n",
       "    <tr>\n",
       "      <th>4</th>\n",
       "      <td>air_db80363d35f10926</td>\n",
       "      <td>2016-01-01 20:00:00</td>\n",
       "      <td>2016-01-01 01:00:00</td>\n",
       "      <td>5</td>\n",
       "      <td>air</td>\n",
       "    </tr>\n",
       "  </tbody>\n",
       "</table>\n",
       "</div>"
      ],
      "text/plain": [
       "               store_id       visit_datetime     reserve_datetime  \\\n",
       "0  air_877f79706adbfb06  2016-01-01 19:00:00  2016-01-01 16:00:00   \n",
       "1  air_db4b38ebe7a7ceff  2016-01-01 19:00:00  2016-01-01 19:00:00   \n",
       "2  air_db4b38ebe7a7ceff  2016-01-01 19:00:00  2016-01-01 19:00:00   \n",
       "3  air_877f79706adbfb06  2016-01-01 20:00:00  2016-01-01 16:00:00   \n",
       "4  air_db80363d35f10926  2016-01-01 20:00:00  2016-01-01 01:00:00   \n",
       "\n",
       "   reserve_visitors system  \n",
       "0                 1    air  \n",
       "1                 3    air  \n",
       "2                 6    air  \n",
       "3                 2    air  \n",
       "4                 5    air  "
      ]
     },
     "execution_count": 44,
     "metadata": {},
     "output_type": "execute_result"
    }
   ],
   "source": [
    "merged_res.head()"
   ]
  },
  {
   "cell_type": "markdown",
   "metadata": {},
   "source": [
    "<a id=\"create-test-and-train-data\"></a>\n",
    "## Create test and train data\n",
    "\n",
    "Making the training file feature_df\n",
    "\n"
   ]
  },
  {
   "cell_type": "code",
   "execution_count": 53,
   "metadata": {},
   "outputs": [
    {
     "data": {
      "text/html": [
       "<div>\n",
       "<style scoped>\n",
       "    .dataframe tbody tr th:only-of-type {\n",
       "        vertical-align: middle;\n",
       "    }\n",
       "\n",
       "    .dataframe tbody tr th {\n",
       "        vertical-align: top;\n",
       "    }\n",
       "\n",
       "    .dataframe thead th {\n",
       "        text-align: right;\n",
       "    }\n",
       "</style>\n",
       "<table border=\"1\" class=\"dataframe\">\n",
       "  <thead>\n",
       "    <tr style=\"text-align: right;\">\n",
       "      <th></th>\n",
       "      <th>air_store_id</th>\n",
       "    </tr>\n",
       "    <tr>\n",
       "      <th>hpg_store_id</th>\n",
       "      <th></th>\n",
       "    </tr>\n",
       "  </thead>\n",
       "  <tbody>\n",
       "    <tr>\n",
       "      <th>hpg_4bc649e72e2a239a</th>\n",
       "      <td>air_63b13c56b7201bd9</td>\n",
       "    </tr>\n",
       "    <tr>\n",
       "      <th>hpg_c34b496d0305a809</th>\n",
       "      <td>air_a24bf50c3e90d583</td>\n",
       "    </tr>\n",
       "    <tr>\n",
       "      <th>hpg_cd8ae0d9bbd58ff9</th>\n",
       "      <td>air_c7f78b4f3cba33ff</td>\n",
       "    </tr>\n",
       "    <tr>\n",
       "      <th>hpg_de24ea49dc25d6b8</th>\n",
       "      <td>air_947eb2cae4f3e8f2</td>\n",
       "    </tr>\n",
       "    <tr>\n",
       "      <th>hpg_653238a84804d8e7</th>\n",
       "      <td>air_965b2e0cf4119003</td>\n",
       "    </tr>\n",
       "  </tbody>\n",
       "</table>\n",
       "</div>"
      ],
      "text/plain": [
       "                              air_store_id\n",
       "hpg_store_id                              \n",
       "hpg_4bc649e72e2a239a  air_63b13c56b7201bd9\n",
       "hpg_c34b496d0305a809  air_a24bf50c3e90d583\n",
       "hpg_cd8ae0d9bbd58ff9  air_c7f78b4f3cba33ff\n",
       "hpg_de24ea49dc25d6b8  air_947eb2cae4f3e8f2\n",
       "hpg_653238a84804d8e7  air_965b2e0cf4119003"
      ]
     },
     "execution_count": 53,
     "metadata": {},
     "output_type": "execute_result"
    }
   ],
   "source": [
    "# Set the index so that we can make all the values be air as the submission sample is all air \n",
    "# And it looks like other kaggle submission samples are all air so we reverse engineer and that's that.\n",
    "hpg_to_air = sid_rel_df.set_index('hpg_store_id')\n",
    "hpg_to_air.head()"
   ]
  },
  {
   "cell_type": "markdown",
   "metadata": {},
   "source": [
    "### Use merged_res  and roll up the visitors into date (YYYY-MM-DD)"
   ]
  },
  {
   "cell_type": "code",
   "execution_count": 115,
   "metadata": {},
   "outputs": [],
   "source": [
    "# Do a join to get the data together and \n",
    "# joined based on the information in the store relation info for air for every correlating hpg store id \n",
    "together = merged_res.set_index('store_id').join(hpg_to_air)\n",
    "\n",
    "# Focus only on the air and deal with the nulls introduced by air id's not in the store rel of 150 records \n",
    "still_need_air = together.air_store_id.isnull() & together.index.str.startswith('air')\n",
    "\n",
    "# Locate in the still_need_air the air store id and set the index on it\n",
    "together.loc[still_need_air, 'air_store_id'] = together.index[still_need_air]\n",
    "\n",
    "# Get the id to be in submission format to save time later\n",
    "together = together.rename(columns={'air_store_id': 'id'})\n",
    "\n",
    "# Peculiar leftovers that still had hpg showing up - needed the mask \n",
    "good_mask = together.index.str.startswith('air')\n",
    "together = together[good_mask]\n",
    "\n",
    "# The numbers don't add up and I think the hpg got dropped \\n\",\n",
    "# Name: id, Length: 92378, dtype: object\\n\",\n",
    "\n",
    "#   92379 air_reserve.csv\\n\",\n",
    "# 2000321 hpg_reserve.csv\\n\",\n",
    "#  32020  sample_submission.csv  file has only 822 unique air store id's which is > 151 in store rel\\n\",\n",
    "\n",
    "# 2092698 merged_res df \""
   ]
  },
  {
   "cell_type": "code",
   "execution_count": 116,
   "metadata": {},
   "outputs": [
    {
     "data": {
      "text/html": [
       "<div>\n",
       "<style scoped>\n",
       "    .dataframe tbody tr th:only-of-type {\n",
       "        vertical-align: middle;\n",
       "    }\n",
       "\n",
       "    .dataframe tbody tr th {\n",
       "        vertical-align: top;\n",
       "    }\n",
       "\n",
       "    .dataframe thead th {\n",
       "        text-align: right;\n",
       "    }\n",
       "</style>\n",
       "<table border=\"1\" class=\"dataframe\">\n",
       "  <thead>\n",
       "    <tr style=\"text-align: right;\">\n",
       "      <th></th>\n",
       "      <th>visit_datetime</th>\n",
       "      <th>reserve_datetime</th>\n",
       "      <th>reserve_visitors</th>\n",
       "      <th>system</th>\n",
       "      <th>id</th>\n",
       "    </tr>\n",
       "  </thead>\n",
       "  <tbody>\n",
       "    <tr>\n",
       "      <th>air_00a91d42b08b08d9</th>\n",
       "      <td>2016-10-31 20:00:00</td>\n",
       "      <td>2016-10-31 16:00:00</td>\n",
       "      <td>2</td>\n",
       "      <td>air</td>\n",
       "      <td>air_00a91d42b08b08d9</td>\n",
       "    </tr>\n",
       "    <tr>\n",
       "      <th>air_00a91d42b08b08d9</th>\n",
       "      <td>2016-12-05 19:00:00</td>\n",
       "      <td>2016-12-01 15:00:00</td>\n",
       "      <td>9</td>\n",
       "      <td>air</td>\n",
       "      <td>air_00a91d42b08b08d9</td>\n",
       "    </tr>\n",
       "    <tr>\n",
       "      <th>air_00a91d42b08b08d9</th>\n",
       "      <td>2016-12-14 19:00:00</td>\n",
       "      <td>2016-12-08 10:00:00</td>\n",
       "      <td>18</td>\n",
       "      <td>air</td>\n",
       "      <td>air_00a91d42b08b08d9</td>\n",
       "    </tr>\n",
       "    <tr>\n",
       "      <th>air_00a91d42b08b08d9</th>\n",
       "      <td>2016-12-17 19:00:00</td>\n",
       "      <td>2016-12-11 16:00:00</td>\n",
       "      <td>2</td>\n",
       "      <td>air</td>\n",
       "      <td>air_00a91d42b08b08d9</td>\n",
       "    </tr>\n",
       "    <tr>\n",
       "      <th>air_00a91d42b08b08d9</th>\n",
       "      <td>2016-12-20 20:00:00</td>\n",
       "      <td>2016-12-18 17:00:00</td>\n",
       "      <td>4</td>\n",
       "      <td>air</td>\n",
       "      <td>air_00a91d42b08b08d9</td>\n",
       "    </tr>\n",
       "  </tbody>\n",
       "</table>\n",
       "</div>"
      ],
      "text/plain": [
       "                           visit_datetime     reserve_datetime  \\\n",
       "air_00a91d42b08b08d9  2016-10-31 20:00:00  2016-10-31 16:00:00   \n",
       "air_00a91d42b08b08d9  2016-12-05 19:00:00  2016-12-01 15:00:00   \n",
       "air_00a91d42b08b08d9  2016-12-14 19:00:00  2016-12-08 10:00:00   \n",
       "air_00a91d42b08b08d9  2016-12-17 19:00:00  2016-12-11 16:00:00   \n",
       "air_00a91d42b08b08d9  2016-12-20 20:00:00  2016-12-18 17:00:00   \n",
       "\n",
       "                      reserve_visitors system                    id  \n",
       "air_00a91d42b08b08d9                 2    air  air_00a91d42b08b08d9  \n",
       "air_00a91d42b08b08d9                 9    air  air_00a91d42b08b08d9  \n",
       "air_00a91d42b08b08d9                18    air  air_00a91d42b08b08d9  \n",
       "air_00a91d42b08b08d9                 2    air  air_00a91d42b08b08d9  \n",
       "air_00a91d42b08b08d9                 4    air  air_00a91d42b08b08d9  "
      ]
     },
     "execution_count": 116,
     "metadata": {},
     "output_type": "execute_result"
    }
   ],
   "source": [
    "together.head()"
   ]
  },
  {
   "cell_type": "code",
   "execution_count": 117,
   "metadata": {},
   "outputs": [
    {
     "data": {
      "text/plain": [
       "(92378, 5)"
      ]
     },
     "execution_count": 117,
     "metadata": {},
     "output_type": "execute_result"
    }
   ],
   "source": [
    "together.shape"
   ]
  },
  {
   "cell_type": "markdown",
   "metadata": {},
   "source": [
    "### Initial creation of feature_df from together data frame \n",
    "\n",
    "Going back to first principles that the training data is the source for test and train. \n",
    "\n",
    "The other data set has the same date ranges and air id's. \n",
    "\n",
    "The sample submission file is ONLY for Golden Week itself. "
   ]
  },
  {
   "cell_type": "code",
   "execution_count": 118,
   "metadata": {},
   "outputs": [
    {
     "data": {
      "text/html": [
       "<div>\n",
       "<style scoped>\n",
       "    .dataframe tbody tr th:only-of-type {\n",
       "        vertical-align: middle;\n",
       "    }\n",
       "\n",
       "    .dataframe tbody tr th {\n",
       "        vertical-align: top;\n",
       "    }\n",
       "\n",
       "    .dataframe thead th {\n",
       "        text-align: right;\n",
       "    }\n",
       "</style>\n",
       "<table border=\"1\" class=\"dataframe\">\n",
       "  <thead>\n",
       "    <tr style=\"text-align: right;\">\n",
       "      <th></th>\n",
       "      <th>id</th>\n",
       "      <th>date</th>\n",
       "      <th>reserve_visitors</th>\n",
       "    </tr>\n",
       "  </thead>\n",
       "  <tbody>\n",
       "    <tr>\n",
       "      <th>0</th>\n",
       "      <td>air_00a91d42b08b08d9</td>\n",
       "      <td>2016-10-31</td>\n",
       "      <td>2</td>\n",
       "    </tr>\n",
       "    <tr>\n",
       "      <th>1</th>\n",
       "      <td>air_00a91d42b08b08d9</td>\n",
       "      <td>2016-12-05</td>\n",
       "      <td>9</td>\n",
       "    </tr>\n",
       "    <tr>\n",
       "      <th>2</th>\n",
       "      <td>air_00a91d42b08b08d9</td>\n",
       "      <td>2016-12-14</td>\n",
       "      <td>18</td>\n",
       "    </tr>\n",
       "    <tr>\n",
       "      <th>3</th>\n",
       "      <td>air_00a91d42b08b08d9</td>\n",
       "      <td>2016-12-17</td>\n",
       "      <td>2</td>\n",
       "    </tr>\n",
       "    <tr>\n",
       "      <th>4</th>\n",
       "      <td>air_00a91d42b08b08d9</td>\n",
       "      <td>2016-12-20</td>\n",
       "      <td>4</td>\n",
       "    </tr>\n",
       "  </tbody>\n",
       "</table>\n",
       "</div>"
      ],
      "text/plain": [
       "                     id        date  reserve_visitors\n",
       "0  air_00a91d42b08b08d9  2016-10-31                 2\n",
       "1  air_00a91d42b08b08d9  2016-12-05                 9\n",
       "2  air_00a91d42b08b08d9  2016-12-14                18\n",
       "3  air_00a91d42b08b08d9  2016-12-17                 2\n",
       "4  air_00a91d42b08b08d9  2016-12-20                 4"
      ]
     },
     "execution_count": 118,
     "metadata": {},
     "output_type": "execute_result"
    }
   ],
   "source": [
    "# Take the date and split it along space character\n",
    "# to then take the YYYY-MM-DD as position zero and set that as date column\n",
    "together['date'] = together['visit_datetime'].str.split(' ').map(lambda x: x[0])\n",
    "\n",
    "# If the thing being asserted does not eval to true it would then cause a stack trace\n",
    "assert together.id.notnull().all()\n",
    "\n",
    "# Another group by to to get the sum of visitors by day because we need to roll it up like the submission file \n",
    "# This becomes our foundation file and the building block\n",
    "# Though this takes our data set of 92k and rolls it up only into 29K -- wow \n",
    "feature_df = together.groupby(['id', 'date']).reserve_visitors.sum().reset_index()\n",
    "feature_df.head()\n",
    "\n",
    "# feature_df has 1,378,626 records which is less than merged_res and more than air \\n\",\n",
    "#   92379 air_reserve.csv\\n\",\n",
    "# 2000321 hpg_reserve.csv\\n\",\n",
    "#  32020  sample_submission.csv  file has only 822 unique air store id's which is > 151 in store rel\\n\",\n",
    "\n",
    "# 2092698 merged_res df \""
   ]
  },
  {
   "cell_type": "markdown",
   "metadata": {},
   "source": [
    "### Notes \n",
    "\n",
    "#### Store ID itself --  adding it to the feature df  is Not unique enough - would make it too wide\n",
    "\n",
    "#### Creating a map of location by ward, chome, ku as numerics and then what to do with that... -- did not have time \n",
    "\n",
    "Features from dummy variables already becomes a hug problem for me to iterate with below\n",
    "\n",
    "Doing the correlations piecewise as I built it let me see a bit more and rule out some of the incorrect correlations.\n",
    "\n",
    "Lessons learned: have more time to write functions to loop through each piece\n",
    "\n",
    "len(asi_df['air_store_id'].unique())\n",
    "\"829 \""
   ]
  },
  {
   "cell_type": "markdown",
   "metadata": {},
   "source": [
    "### Adding in day of week, month, year"
   ]
  },
  {
   "cell_type": "code",
   "execution_count": 119,
   "metadata": {},
   "outputs": [],
   "source": [
    "feature_df.date = pd.to_datetime(feature_df.date)\n",
    "feature_df.date.dt.dayofweek.head()\n",
    "feature_df = feature_df.join(pd.get_dummies(feature_df.date.dt.dayofweek).rename(columns=lambda x: 'dow{}'.format(x)))"
   ]
  },
  {
   "cell_type": "code",
   "execution_count": 120,
   "metadata": {},
   "outputs": [],
   "source": [
    "feature_df = feature_df.join(pd.get_dummies(feature_df.date.dt.month).rename(columns=lambda x: 'month{}'.format(x)))"
   ]
  },
  {
   "cell_type": "code",
   "execution_count": 121,
   "metadata": {},
   "outputs": [],
   "source": [
    "feature_df = feature_df.join(pd.get_dummies(feature_df.date.dt.year).rename(columns=lambda x: 'year{}'.format(x)))"
   ]
  },
  {
   "cell_type": "code",
   "execution_count": 122,
   "metadata": {},
   "outputs": [
    {
     "data": {
      "text/plain": [
       "(29830, 24)"
      ]
     },
     "execution_count": 122,
     "metadata": {},
     "output_type": "execute_result"
    }
   ],
   "source": [
    "feature_df.shape"
   ]
  },
  {
   "cell_type": "code",
   "execution_count": 269,
   "metadata": {},
   "outputs": [
    {
     "data": {
      "text/html": [
       "<div>\n",
       "<style scoped>\n",
       "    .dataframe tbody tr th:only-of-type {\n",
       "        vertical-align: middle;\n",
       "    }\n",
       "\n",
       "    .dataframe tbody tr th {\n",
       "        vertical-align: top;\n",
       "    }\n",
       "\n",
       "    .dataframe thead th {\n",
       "        text-align: right;\n",
       "    }\n",
       "</style>\n",
       "<table border=\"1\" class=\"dataframe\">\n",
       "  <thead>\n",
       "    <tr style=\"text-align: right;\">\n",
       "      <th></th>\n",
       "      <th>hol_0</th>\n",
       "      <th>hol_1</th>\n",
       "    </tr>\n",
       "    <tr>\n",
       "      <th>calendar_date</th>\n",
       "      <th></th>\n",
       "      <th></th>\n",
       "    </tr>\n",
       "  </thead>\n",
       "  <tbody>\n",
       "    <tr>\n",
       "      <th>2016-10-20</th>\n",
       "      <td>1</td>\n",
       "      <td>0</td>\n",
       "    </tr>\n",
       "    <tr>\n",
       "      <th>2016-12-02</th>\n",
       "      <td>1</td>\n",
       "      <td>0</td>\n",
       "    </tr>\n",
       "    <tr>\n",
       "      <th>2017-05-23</th>\n",
       "      <td>1</td>\n",
       "      <td>0</td>\n",
       "    </tr>\n",
       "    <tr>\n",
       "      <th>2016-12-17</th>\n",
       "      <td>1</td>\n",
       "      <td>0</td>\n",
       "    </tr>\n",
       "    <tr>\n",
       "      <th>2016-06-13</th>\n",
       "      <td>1</td>\n",
       "      <td>0</td>\n",
       "    </tr>\n",
       "  </tbody>\n",
       "</table>\n",
       "</div>"
      ],
      "text/plain": [
       "               hol_0  hol_1\n",
       "calendar_date              \n",
       "2016-10-20         1      0\n",
       "2016-12-02         1      0\n",
       "2017-05-23         1      0\n",
       "2016-12-17         1      0\n",
       "2016-06-13         1      0"
      ]
     },
     "execution_count": 269,
     "metadata": {},
     "output_type": "execute_result"
    }
   ],
   "source": [
    "holiday_dummies = pd.get_dummies(date_info_df.holiday_flg, prefix='hol')\n",
    "holiday_dummies.head()\n",
    "# Print five random rows.\n",
    "holiday_dummies.sample(n=5, random_state=10)"
   ]
  },
  {
   "cell_type": "code",
   "execution_count": 123,
   "metadata": {},
   "outputs": [
    {
     "data": {
      "text/plain": [
       "<matplotlib.axes._subplots.AxesSubplot at 0x116ba3cf8>"
      ]
     },
     "execution_count": 123,
     "metadata": {},
     "output_type": "execute_result"
    },
    {
     "data": {
      "image/png": "[encoded data removed]",
      "text/plain": [
       "<matplotlib.figure.Figure at 0x115000630>"
      ]
     },
     "metadata": {},
     "output_type": "display_data"
    }
   ],
   "source": [
    "sns.heatmap(feature_df.corr())"
   ]
  },
  {
   "cell_type": "code",
   "execution_count": 124,
   "metadata": {},
   "outputs": [
    {
     "data": {
      "image/png": "[encoded data removed]",
      "text/plain": [
       "<matplotlib.figure.Figure at 0x112724470>"
      ]
     },
     "metadata": {},
     "output_type": "display_data"
    }
   ],
   "source": [
    "# Make the correllation a variable\n",
    "corrs = feature_df.corr()\n",
    "\n",
    "# Set the default matplotlib figure size:\n",
    "fig, ax = plt.subplots(figsize=(20,20))\n",
    "\n",
    "# Generate a mask for the upper triangle (taken from seaborn example gallery)\n",
    "mask = np.zeros_like(corrs, dtype=np.bool)\n",
    "mask[np.triu_indices_from(mask)] = True\n",
    "\n",
    "# Plot the heatmap with seaborn.\n",
    "# Assign the matplotlib axis the function returns. This will let us resize the labels.\n",
    "ax = sns.heatmap(corrs, mask=mask, cmap='PiYG')"
   ]
  },
  {
   "cell_type": "markdown",
   "metadata": {},
   "source": [
    "### Feature Data Frame - Adding in the area and location"
   ]
  },
  {
   "cell_type": "code",
   "execution_count": 125,
   "metadata": {},
   "outputs": [],
   "source": [
    "# test_merge = pd.merge(feature_df, sid_rel_df, how='left', on=['air_store_id'])\n",
    "feature_df = pd.merge(feature_df, asi_df,  how='left', left_on=['id'], right_on = ['air_store_id'])\n",
    "\n",
    "feature_df['air_genre_name'] = feature_df['air_genre_name'].map(lambda x: str(str(x).replace('/',' ')))\n",
    "feature_df['air_genre_name'] = feature_df['air_genre_name'].map(lambda x: str(str(x).replace(' ','-')))\n",
    "\n",
    "feature_df['ken'] = feature_df['air_area_name'].str.split(' ').map(lambda x: x[0])\n",
    "feature_df['ku'] = feature_df['air_area_name'].str.split(' ').map(lambda x: x[1])\n",
    "feature_df['chome'] = feature_df['air_area_name'].str.split(' ').map(lambda x: x[2])\n"
   ]
  },
  {
   "cell_type": "code",
   "execution_count": 126,
   "metadata": {},
   "outputs": [],
   "source": [
    "# feature_df.drop(['air_store_id_x','air_genre_name_x','air_area_name_x','air_store_id_y','air_genre_name_y','air_area_name_y','latitude','longitude'], axis=1, inplace=True)\n",
    "# 'air_store_id_x','air_genre_name_x','air_area_name_x','air_store_id_y','air_genre_name_y','air_area_name_y','latitude','longitude'\n",
    "\n",
    "feature_df = feature_df.join(pd.get_dummies(feature_df.ken).rename(columns=lambda x: '{}'.format(x)))\n",
    "feature_df = feature_df.join(pd.get_dummies(feature_df.air_genre_name).rename(columns=lambda x: 'genre-{}'.format(x)))"
   ]
  },
  {
   "cell_type": "code",
   "execution_count": 127,
   "metadata": {},
   "outputs": [
    {
     "data": {
      "text/plain": [
       "Index(['id', 'date', 'reserve_visitors', 'dow0', 'dow1', 'dow2', 'dow3',\n",
       "       'dow4', 'dow5', 'dow6', 'month1', 'month2', 'month3', 'month4',\n",
       "       'month5', 'month6', 'month7', 'month8', 'month9', 'month10', 'month11',\n",
       "       'month12', 'year2016', 'year2017', 'air_store_id', 'air_genre_name',\n",
       "       'air_area_name', 'latitude', 'longitude', 'ken', 'ku', 'chome',\n",
       "       'Fukuoka-ken', 'Hiroshima-ken', 'Hokkaidō', 'Hyōgo-ken', 'Miyagi-ken',\n",
       "       'Niigata-ken', 'Shizuoka-ken', 'Tōkyō-to', 'Ōsaka-fu', 'genre-Asian',\n",
       "       'genre-Bar-Cocktail', 'genre-Cafe-Sweets', 'genre-Creative-cuisine',\n",
       "       'genre-Dining-bar', 'genre-International-cuisine',\n",
       "       'genre-Italian-French', 'genre-Izakaya', 'genre-Japanese-food',\n",
       "       'genre-Karaoke-Party', 'genre-Okonomiyaki-Monja-Teppanyaki',\n",
       "       'genre-Other', 'genre-Western-food', 'genre-Yakiniku-Korean-food'],\n",
       "      dtype='object')"
      ]
     },
     "execution_count": 127,
     "metadata": {},
     "output_type": "execute_result"
    }
   ],
   "source": [
    "feature_df.columns"
   ]
  },
  {
   "cell_type": "code",
   "execution_count": 142,
   "metadata": {},
   "outputs": [
    {
     "data": {
      "image/png": "[encoded data removed]",
      "text/plain": [
       "<matplotlib.figure.Figure at 0x114e7e748>"
      ]
     },
     "metadata": {},
     "output_type": "display_data"
    }
   ],
   "source": [
    "# Make the correllation a variable\n",
    "corrs = feature_df.corr()\n",
    "\n",
    "# Set the default matplotlib figure size:\n",
    "fig, ax = plt.subplots(figsize=(20,20))\n",
    "\n",
    "# Generate a mask for the upper triangle (taken from seaborn example gallery)\n",
    "mask = np.zeros_like(corrs, dtype=np.bool)\n",
    "mask[np.triu_indices_from(mask)] = True\n",
    "\n",
    "# Plot the heatmap with seaborn.\n",
    "# Assign the matplotlib axis the function returns. This will let us resize the labels.\n",
    "ax = sns.heatmap(corrs, mask=mask, cmap='PiYG')"
   ]
  },
  {
   "cell_type": "code",
   "execution_count": 560,
   "metadata": {},
   "outputs": [],
   "source": [
    "### Save the feature file just in case\n",
    "feature_df.to_csv('./feature_df_backup.csv')\n",
    "together.to_csv('./together_backup.csv')"
   ]
  },
  {
   "cell_type": "markdown",
   "metadata": {},
   "source": [
    "### HPG rabbit hole - \n",
    "\n",
    "Started below and moved on. \n",
    "\n",
    "Too many gaps in the data as there were not air id's for every hpg id "
   ]
  },
  {
   "cell_type": "code",
   "execution_count": 316,
   "metadata": {},
   "outputs": [
    {
     "name": "stdout",
     "output_type": "stream",
     "text": [
      "Together datatypes: \n",
      " visit_datetime      datetime64[ns]\n",
      "reserve_datetime            object\n",
      "reserve_visitors             int64\n",
      "system                      object\n",
      "id                          object\n",
      "date                        object\n",
      "is_air                       int64\n",
      "dow0                         uint8\n",
      "dow1                         uint8\n",
      "dow2                         uint8\n",
      "dow3                         uint8\n",
      "dow4                         uint8\n",
      "dow5                         uint8\n",
      "dow6                         uint8\n",
      "dtype: object\n",
      "\n",
      "\n",
      "Together value counts: \n",
      " air    67691644\n",
      "Name: system, dtype: int64\n"
     ]
    }
   ],
   "source": [
    "together.visit_datetime = pd.to_datetime(together.visit_datetime)\n",
    "print('Together datatypes: \\n', together.dtypes)\n",
    "print('\\n')\n",
    "print('Together value counts: \\n', together.system.value_counts())\n",
    "# there should be two systems -- air and hpg from the merge and they are removed\\n\",\n",
    "# there are only 92378 records which only map to air \\n\",\n",
    "\n",
    "#   92379 air_reserve.csv\\n\",\n",
    "# 2000321 hpg_reserve.csv\\n\",\n",
    "#  32020  sample_submission.csv  file has only 822 unique air store id's which is > 151 in store rel\\n\",\n",
    "\n",
    "# 2092698 merged_res df \""
   ]
  },
  {
   "cell_type": "code",
   "execution_count": 319,
   "metadata": {},
   "outputs": [
    {
     "data": {
      "image/png": "[encoded data removed]",
      "text/plain": [
       "<matplotlib.figure.Figure at 0x1a19ba35c0>"
      ]
     },
     "metadata": {},
     "output_type": "display_data"
    }
   ],
   "source": [
    "# Basic plot as is. \n",
    "# This doesn't work to accurately give scale. Plot further down using loglog on ax does \n",
    "plt.rcParams['figure.figsize'] = (8, 6)\n",
    "plt.rcParams['font.size'] = 14\n",
    "plt.style.use(\"fivethirtyeight\")\n",
    "together.reserve_visitors.plot(figsize=(20,20));\n"
   ]
  },
  {
   "cell_type": "code",
   "execution_count": 131,
   "metadata": {},
   "outputs": [
    {
     "name": "stdout",
     "output_type": "stream",
     "text": [
      "Index(['visit_datetime', 'reserve_datetime', 'reserve_visitors', 'system',\n",
      "       'id', 'date', 'is_air'],\n",
      "      dtype='object')\n",
      "\n",
      "\n",
      "Together is_air flag counts: \n",
      " 1    92378\n",
      "Name: is_air, dtype: int64\n"
     ]
    }
   ],
   "source": [
    "together['is_air'] = (together.system == 'air').astype(int)\n",
    "print(together.columns)\n",
    "print('\\n')\n",
    "print('Together is_air flag counts: \\n', together.is_air.value_counts())\n",
    "# there should be both hpg and air "
   ]
  },
  {
   "cell_type": "code",
   "execution_count": 132,
   "metadata": {},
   "outputs": [],
   "source": [
    "together.visit_datetime.dt.dayofweek.head()\n",
    "together.visit_datetime = pd.to_datetime(together.visit_datetime)\n",
    "together = together.join(pd.get_dummies(together.visit_datetime.dt.dayofweek)\n",
    "                         .rename(columns=lambda x: 'dow{}'.format(x)))"
   ]
  },
  {
   "cell_type": "code",
   "execution_count": 133,
   "metadata": {},
   "outputs": [
    {
     "data": {
      "text/plain": [
       "(67691644, 14)"
      ]
     },
     "execution_count": 133,
     "metadata": {},
     "output_type": "execute_result"
    }
   ],
   "source": [
    "# sns.heatmap(together.corr())\n",
    "# Not enough to correllate off of though it has more 2/3rds more data than the feature_df\"\n",
    "together.shape\n",
    "#   \"(67691644, 13)\""
   ]
  },
  {
   "cell_type": "code",
   "execution_count": 134,
   "metadata": {},
   "outputs": [
    {
     "data": {
      "text/plain": [
       "(4203115.078741941,\n",
       " array([       0.        , -4203110.93123275, -4203110.92926553,\n",
       "        -4203110.87913018, -4203110.85065311, -4203110.81740307,\n",
       "        -4203110.81117174, -4203111.07197367]))"
      ]
     },
     "execution_count": 134,
     "metadata": {},
     "output_type": "execute_result"
    }
   ],
   "source": [
    "y = together.reserve_visitors.values\n",
    "\n",
    "feature_cols = ['is_air'] + [c for c in together.columns if c.startswith('dow')]\n",
    "X = together[feature_cols]\n",
    "\n",
    "lr = linear_model.LinearRegression()\n",
    "lr.fit(X, y)\n",
    "lr.intercept_, lr.coef_\n",
    "# intercept always assumes 5 visitors \n",
    "# if is_air then subtract half a visitor (not helpful) and the numbers are way too off.. \n",
    "# that lead me to log\n",
    "\n",
    "# This intercept is way off which got worse when other features added (like genre) "
   ]
  },
  {
   "cell_type": "markdown",
   "metadata": {},
   "source": [
    "### Linear Regression for each feature combo on Feature Data Frame "
   ]
  },
  {
   "cell_type": "markdown",
   "metadata": {},
   "source": [
    "From the correllation(s) above on the feature_df data frame I can tell that\n",
    "\n",
    "* the best months in 2016 were possibly 6-7 & definately 11-12 (Oct - Dec)\n",
    "* the best months in 2017 were 1-4 and possibly 5 (Jan - May)\n",
    "\n",
    "The best days in week are 4 and 5 (Thurs and Friday)\n",
    "\n",
    "0 = Sun, 1 = Mon, 2 = Tues, 3 = Weds, 4 = Thurs, 5 = Fri, 6 = Sat\n",
    "\n",
    "Hokkaido has the most correlation by longitude and latitude\n",
    "(which should be combined into one thing to be accurate -- outside my current skills)\n",
    "\n",
    "The best correlation for cities for certain types of food\n",
    "\n",
    "* Tokyo -- Dining Bar, French-Italian, Western\n",
    "* Fukuoka -- Cafe Sweets\n",
    "* Osaka -- Teppanyaki, Other\n",
    "* Hiroshima -- Izakaya, Teppenyaki\n",
    "\n"
   ]
  },
  {
   "cell_type": "code",
   "execution_count": 135,
   "metadata": {},
   "outputs": [
    {
     "data": {
      "text/plain": [
       "Index(['id', 'date', 'reserve_visitors', 'dow0', 'dow1', 'dow2', 'dow3',\n",
       "       'dow4', 'dow5', 'dow6', 'month1', 'month2', 'month3', 'month4',\n",
       "       'month5', 'month6', 'month7', 'month8', 'month9', 'month10', 'month11',\n",
       "       'month12', 'year2016', 'year2017', 'air_store_id', 'air_genre_name',\n",
       "       'air_area_name', 'latitude', 'longitude', 'ken', 'ku', 'chome',\n",
       "       'Fukuoka-ken', 'Hiroshima-ken', 'Hokkaidō', 'Hyōgo-ken', 'Miyagi-ken',\n",
       "       'Niigata-ken', 'Shizuoka-ken', 'Tōkyō-to', 'Ōsaka-fu', 'genre-Asian',\n",
       "       'genre-Bar-Cocktail', 'genre-Cafe-Sweets', 'genre-Creative-cuisine',\n",
       "       'genre-Dining-bar', 'genre-International-cuisine',\n",
       "       'genre-Italian-French', 'genre-Izakaya', 'genre-Japanese-food',\n",
       "       'genre-Karaoke-Party', 'genre-Okonomiyaki-Monja-Teppanyaki',\n",
       "       'genre-Other', 'genre-Western-food', 'genre-Yakiniku-Korean-food'],\n",
       "      dtype='object')"
      ]
     },
     "execution_count": 135,
     "metadata": {},
     "output_type": "execute_result"
    }
   ],
   "source": [
    "feature_df.columns"
   ]
  },
  {
   "cell_type": "code",
   "execution_count": 136,
   "metadata": {},
   "outputs": [
    {
     "data": {
      "text/plain": [
       "17"
      ]
     },
     "execution_count": 136,
     "metadata": {},
     "output_type": "execute_result"
    }
   ],
   "source": [
    "stuff = ['dow5', 'month4','month5','month11', 'month12', \n",
    "         'Fukuoka-ken', 'Hiroshima-ken', 'Hokkaidō', 'Tōkyō-to', 'Ōsaka-fu',\n",
    "         'genre-Cafe-Sweets','genre-Dining-bar', 'genre-Italian-French', 'genre-Izakaya',\n",
    "         'genre-Okonomiyaki-Monja-Teppanyaki','genre-Other', 'genre-Western-food']\n",
    "\n",
    "# stuff = ['dow5', 'dow6', 'month1', 'month2', 'month3', 'month4','month5','month11', 'month12', \n",
    "#        'year2016', 'year2017', 'Fukuoka-ken', 'Hiroshima-ken', 'Hokkaidō', 'Tōkyō-to', 'Ōsaka-fu',\n",
    "#         'genre-Bar-Cocktail', 'genre-Cafe-Sweets','genre-Dining-bar', 'genre-Italian-French', 'genre-Izakaya',\n",
    "#         'genre-Okonomiyaki-Monja-Teppanyaki','genre-Other', 'genre-Western-food']\n",
    "\n",
    "\n",
    "len(stuff)"
   ]
  },
  {
   "cell_type": "code",
   "execution_count": 103,
   "metadata": {},
   "outputs": [
    {
     "data": {
      "image/png": "[encoded data removed]",
      "text/plain": [
       "<matplotlib.figure.Figure at 0x11690ca58>"
      ]
     },
     "metadata": {},
     "output_type": "display_data"
    }
   ],
   "source": [
    "feature_cols1 = ['dow6', 'genre-Okonomiyaki-Monja-Teppanyaki']\n",
    "\n",
    "# Multiple scatterplots in Pandas\\n\",\n",
    "fig, axs = plt.subplots(1, len(feature_cols1), sharey=True)\n",
    "for index, feature in enumerate(feature_cols1):\n",
    "    feature_df.plot(kind='scatter', x=feature, y='reserve_visitors', ax=axs[index], figsize=(16, 3))\n"
   ]
  },
  {
   "cell_type": "code",
   "execution_count": 147,
   "metadata": {},
   "outputs": [
    {
     "name": "stderr",
     "output_type": "stream",
     "text": [
      "/Users/heidischmidt/anaconda2/envs/py36/lib/python3.6/site-packages/ipykernel_launcher.py:1: FutureWarning: 'pandas.tools.plotting.scatter_matrix' is deprecated, import 'pandas.plotting.scatter_matrix' instead.\n",
      "  \"\"\"Entry point for launching an IPython kernel.\n"
     ]
    },
    {
     "data": {
      "image/png": "[encoded data removed]",
      "text/plain": [
       "<matplotlib.figure.Figure at 0x116c8e208>"
      ]
     },
     "metadata": {},
     "output_type": "display_data"
    }
   ],
   "source": [
    "pd.tools.plotting.scatter_matrix(feature_df[['reserve_visitors'] + feature_cols1], figsize=(15, 15), alpha=0.7);"
   ]
  },
  {
   "cell_type": "markdown",
   "metadata": {},
   "source": [
    "### Add the holiday flag to feature data frame "
   ]
  },
  {
   "cell_type": "code",
   "execution_count": 511,
   "metadata": {},
   "outputs": [],
   "source": [
    "feature_df = pd.read_csv('./feature_df_backup.csv')"
   ]
  },
  {
   "cell_type": "code",
   "execution_count": 513,
   "metadata": {},
   "outputs": [],
   "source": [
    "# add holiday col to feature_df \n",
    "# print(date_info_df.head())\n",
    "# print(feature_df.head())\n",
    "# feature_df.columns\n",
    "\n",
    "date_info = './data/date_info.csv'\n",
    "date_info_df = pd.read_csv(date_info)\n",
    "date_info_df.head()\n",
    "\n",
    "# Make it same column_name as feature data frame \n",
    "date_info_df = date_info_df.rename(columns={'calendar_date':'date'})\n",
    "\n",
    "feature_df.date = pd.to_datetime(feature_df.date)\n",
    "feature_df = feature_df.join(date_info_df.holiday_flg)\n",
    "\n"
   ]
  },
  {
   "cell_type": "code",
   "execution_count": 526,
   "metadata": {},
   "outputs": [],
   "source": [
    "feature_df = feature_df.join(pd.get_dummies(feature_df.holiday_flg).rename(columns=lambda x: 'is_hol{}'.format(x)))\n"
   ]
  },
  {
   "cell_type": "code",
   "execution_count": 527,
   "metadata": {},
   "outputs": [
    {
     "data": {
      "text/plain": [
       "Index(['Unnamed: 0', 'id', 'date', 'reserve_visitors', 'dow0', 'dow1', 'dow2',\n",
       "       'dow3', 'dow4', 'dow5', 'dow6', 'month1', 'month2', 'month3', 'month4',\n",
       "       'month5', 'month6', 'month7', 'month8', 'month9', 'month10', 'month11',\n",
       "       'month12', 'year2016', 'year2017', 'air_store_id', 'air_genre_name',\n",
       "       'air_area_name', 'latitude', 'longitude', 'ken', 'ku', 'chome',\n",
       "       'Fukuoka-ken', 'Hiroshima-ken', 'Hokkaidō', 'Hyōgo-ken', 'Miyagi-ken',\n",
       "       'Niigata-ken', 'Shizuoka-ken', 'Tōkyō-to', 'Ōsaka-fu', 'genre-Asian',\n",
       "       'genre-Bar-Cocktail', 'genre-Cafe-Sweets', 'genre-Creative-cuisine',\n",
       "       'genre-Dining-bar', 'genre-International-cuisine',\n",
       "       'genre-Italian-French', 'genre-Izakaya', 'genre-Japanese-food',\n",
       "       'genre-Karaoke-Party', 'genre-Okonomiyaki-Monja-Teppanyaki',\n",
       "       'genre-Other', 'genre-Western-food', 'genre-Yakiniku-Korean-food',\n",
       "       'holiday_flg', 'is_hol0.0', 'is_hol1.0'],\n",
       "      dtype='object')"
      ]
     },
     "execution_count": 527,
     "metadata": {},
     "output_type": "execute_result"
    }
   ],
   "source": [
    "feature_df.columns"
   ]
  },
  {
   "cell_type": "code",
   "execution_count": null,
   "metadata": {},
   "outputs": [],
   "source": [
    "feature_df.shape"
   ]
  },
  {
   "cell_type": "code",
   "execution_count": null,
   "metadata": {},
   "outputs": [],
   "source": [
    "# feature_df.drop(['Unamed','holiday_flg'], axis=1, inplace=True)"
   ]
  },
  {
   "cell_type": "code",
   "execution_count": 528,
   "metadata": {},
   "outputs": [
    {
     "data": {
      "text/plain": [
       "0.0    482\n",
       "1.0     35\n",
       "Name: holiday_flg, dtype: int64"
      ]
     },
     "execution_count": 528,
     "metadata": {},
     "output_type": "execute_result"
    }
   ],
   "source": [
    "feature_df.holiday_flg.value_counts()"
   ]
  },
  {
   "cell_type": "code",
   "execution_count": 529,
   "metadata": {},
   "outputs": [
    {
     "data": {
      "text/plain": [
       "Unnamed: 0                                     int64\n",
       "id                                            object\n",
       "date                                  datetime64[ns]\n",
       "reserve_visitors                               int64\n",
       "dow0                                           int64\n",
       "dow1                                           int64\n",
       "dow2                                           int64\n",
       "dow3                                           int64\n",
       "dow4                                           int64\n",
       "dow5                                           int64\n",
       "dow6                                           int64\n",
       "month1                                         int64\n",
       "month2                                         int64\n",
       "month3                                         int64\n",
       "month4                                         int64\n",
       "month5                                         int64\n",
       "month6                                         int64\n",
       "month7                                         int64\n",
       "month8                                         int64\n",
       "month9                                         int64\n",
       "month10                                        int64\n",
       "month11                                        int64\n",
       "month12                                        int64\n",
       "year2016                                       int64\n",
       "year2017                                       int64\n",
       "air_store_id                                  object\n",
       "air_genre_name                                object\n",
       "air_area_name                                 object\n",
       "latitude                                     float64\n",
       "longitude                                    float64\n",
       "ken                                           object\n",
       "ku                                            object\n",
       "chome                                         object\n",
       "Fukuoka-ken                                    int64\n",
       "Hiroshima-ken                                  int64\n",
       "Hokkaidō                                       int64\n",
       "Hyōgo-ken                                      int64\n",
       "Miyagi-ken                                     int64\n",
       "Niigata-ken                                    int64\n",
       "Shizuoka-ken                                   int64\n",
       "Tōkyō-to                                       int64\n",
       "Ōsaka-fu                                       int64\n",
       "genre-Asian                                    int64\n",
       "genre-Bar-Cocktail                             int64\n",
       "genre-Cafe-Sweets                              int64\n",
       "genre-Creative-cuisine                         int64\n",
       "genre-Dining-bar                               int64\n",
       "genre-International-cuisine                    int64\n",
       "genre-Italian-French                           int64\n",
       "genre-Izakaya                                  int64\n",
       "genre-Japanese-food                            int64\n",
       "genre-Karaoke-Party                            int64\n",
       "genre-Okonomiyaki-Monja-Teppanyaki             int64\n",
       "genre-Other                                    int64\n",
       "genre-Western-food                             int64\n",
       "genre-Yakiniku-Korean-food                     int64\n",
       "holiday_flg                                  float64\n",
       "is_hol0.0                                      uint8\n",
       "is_hol1.0                                      uint8\n",
       "dtype: object"
      ]
     },
     "execution_count": 529,
     "metadata": {},
     "output_type": "execute_result"
    }
   ],
   "source": [
    "feature_df.dtypes"
   ]
  },
  {
   "cell_type": "markdown",
   "metadata": {},
   "source": [
    "## <a id=\"fittingrf-vs-lr\"></a>\n",
    "## Fitting for a Random Forest model over LinearRegression "
   ]
  },
  {
   "cell_type": "markdown",
   "metadata": {},
   "source": [
    "### Making LR for just dow "
   ]
  },
  {
   "cell_type": "code",
   "execution_count": 333,
   "metadata": {},
   "outputs": [
    {
     "data": {
      "text/html": [
       "<div>\n",
       "<style scoped>\n",
       "    .dataframe tbody tr th:only-of-type {\n",
       "        vertical-align: middle;\n",
       "    }\n",
       "\n",
       "    .dataframe tbody tr th {\n",
       "        vertical-align: top;\n",
       "    }\n",
       "\n",
       "    .dataframe thead th {\n",
       "        text-align: right;\n",
       "    }\n",
       "</style>\n",
       "<table border=\"1\" class=\"dataframe\">\n",
       "  <thead>\n",
       "    <tr style=\"text-align: right;\">\n",
       "      <th></th>\n",
       "      <th>dow1</th>\n",
       "      <th>dow2</th>\n",
       "      <th>dow3</th>\n",
       "      <th>dow4</th>\n",
       "      <th>dow5</th>\n",
       "      <th>dow6</th>\n",
       "    </tr>\n",
       "  </thead>\n",
       "  <tbody>\n",
       "    <tr>\n",
       "      <th>0</th>\n",
       "      <td>0</td>\n",
       "      <td>0</td>\n",
       "      <td>0</td>\n",
       "      <td>0</td>\n",
       "      <td>0</td>\n",
       "      <td>0</td>\n",
       "    </tr>\n",
       "    <tr>\n",
       "      <th>1</th>\n",
       "      <td>0</td>\n",
       "      <td>0</td>\n",
       "      <td>0</td>\n",
       "      <td>0</td>\n",
       "      <td>0</td>\n",
       "      <td>0</td>\n",
       "    </tr>\n",
       "    <tr>\n",
       "      <th>2</th>\n",
       "      <td>0</td>\n",
       "      <td>1</td>\n",
       "      <td>0</td>\n",
       "      <td>0</td>\n",
       "      <td>0</td>\n",
       "      <td>0</td>\n",
       "    </tr>\n",
       "    <tr>\n",
       "      <th>3</th>\n",
       "      <td>0</td>\n",
       "      <td>0</td>\n",
       "      <td>0</td>\n",
       "      <td>0</td>\n",
       "      <td>1</td>\n",
       "      <td>0</td>\n",
       "    </tr>\n",
       "    <tr>\n",
       "      <th>4</th>\n",
       "      <td>1</td>\n",
       "      <td>0</td>\n",
       "      <td>0</td>\n",
       "      <td>0</td>\n",
       "      <td>0</td>\n",
       "      <td>0</td>\n",
       "    </tr>\n",
       "  </tbody>\n",
       "</table>\n",
       "</div>"
      ],
      "text/plain": [
       "   dow1  dow2  dow3  dow4  dow5  dow6\n",
       "0     0     0     0     0     0     0\n",
       "1     0     0     0     0     0     0\n",
       "2     0     1     0     0     0     0\n",
       "3     0     0     0     0     1     0\n",
       "4     1     0     0     0     0     0"
      ]
     },
     "execution_count": 333,
     "metadata": {},
     "output_type": "execute_result"
    }
   ],
   "source": [
    "# Linear Regression \n",
    "#  \n",
    "# Import, instantiate, fit for LR \n",
    "from sklearn.linear_model import LinearRegression\n",
    "from sklearn.cross_validation import train_test_split\n",
    "# Create X and y.\\n\",\n",
    "feature_cols = ['dow' + str(x) for x in range(1, 7)]\n",
    "\n",
    "X = feature_df[feature_cols]\n",
    "y = feature_df.reserve_visitors\n",
    "\n",
    "X.head()\n",
    "\n",
    "# look at encoding of turning numerics into non numerics\n",
    "# the intercepts fight each other because the 1 in column throws off intercept \n",
    "# if you don't know the number of visitors that intercept is the best guess overall "
   ]
  },
  {
   "cell_type": "code",
   "execution_count": 341,
   "metadata": {},
   "outputs": [
    {
     "name": "stdout",
     "output_type": "stream",
     "text": [
      "10.695432977461437\n",
      "[0.45439824 1.76670988 1.78465856 6.04326503 6.68509632 2.86533793]\n",
      "rmsle 0.864877757771524\n"
     ]
    }
   ],
   "source": [
    "# Fit the LR model on day of week \n",
    "# Shows that the base visitors are 10.6 and for each day of week to expect as an increase to the base \n",
    "# The RMSLE is close to 0 which is a good sign. \n",
    "# Instantiate and fit.\n",
    "\n",
    "linreg = LinearRegression()\n",
    "linreg.fit(X, y)\n",
    "\n",
    "# Print the coefficients.\n",
    "print(linreg.intercept_)  \n",
    "print(linreg.coef_)        \n",
    "\n",
    "y_hat = linreg.predict(X)\n",
    "print('rmsle', rmsle(y_hat, y))"
   ]
  },
  {
   "cell_type": "markdown",
   "metadata": {},
   "source": [
    "### Linear Regression on all feature columns \n",
    "\n",
    "The intercept is insane for all features and it really had me going "
   ]
  },
  {
   "cell_type": "code",
   "execution_count": 548,
   "metadata": {},
   "outputs": [
    {
     "name": "stdout",
     "output_type": "stream",
     "text": [
      "-22776421006013.047\n",
      "[ 3.00753762e+13  3.00753762e+13  3.00753762e+13  3.00753762e+13\n",
      "  3.00753762e+13  3.00753762e+13  3.00753762e+13 -7.29895521e+12\n",
      " -7.29895521e+12 -7.29895521e+12 -7.29895521e+12 -7.29895521e+12\n",
      " -7.29895521e+12 -7.29895521e+12 -7.29895521e+12 -7.29895521e+12\n",
      " -7.29895521e+12 -7.29895521e+12 -7.29895521e+12 -7.29895521e+12\n",
      " -7.29895521e+12  6.05474854e+00  1.19094391e+01]\n",
      "rmsle 0.8454932478104268\n"
     ]
    }
   ],
   "source": [
    "# Fit the LR model all the columns and the numbers are crazy when they should be \n",
    "# more uniform \n",
    "# The RMSLE though oddly is still near 0.84\n",
    "\n",
    "# Instantiate and fit.\n",
    "\n",
    "linreg = LinearRegression()\n",
    "linreg.fit(X, y)\n",
    "\n",
    "# Print the coefficients.\n",
    "print(linreg.intercept_)   \n",
    "print(linreg.coef_)       \n",
    "                          \n",
    "y_hat = linreg.predict(X)\n",
    "print('rmsle', rmsle(y_hat, y))"
   ]
  },
  {
   "cell_type": "code",
   "execution_count": 552,
   "metadata": {},
   "outputs": [
    {
     "name": "stdout",
     "output_type": "stream",
     "text": [
      "intercept -97744681288707.8\n",
      "coefficients [9.03866183e+12 9.03866183e+12 9.03866183e+12 9.03866183e+12\n",
      " 9.03866183e+12 9.03866183e+12 9.03866183e+12 8.87060195e+13\n",
      " 8.87060195e+13 8.87060195e+13 8.87060195e+13 8.87060195e+13\n",
      " 8.87060195e+13 8.87060195e+13 8.87060195e+13 8.87060195e+13\n",
      " 8.87060195e+13 8.87060195e+13 8.87060195e+13 8.87060195e+13\n",
      " 8.87060195e+13]\n",
      "rmsle 0.8542640076096986\n"
     ]
    }
   ],
   "source": [
    "# Using Linear Regression Model on dow and genre and the intercept is still nutty \n",
    "dow_cols = [c for c in feature_df.columns if c.startswith('dow')]\n",
    "genre_cols = [c for c in feature_df.columns if c.startswith('genre')]\n",
    "feature_cols = dow_cols + genre_cols\n",
    "\n",
    "X = feature_df[feature_cols]\n",
    "y = feature_df.reserve_visitors\n",
    "model = try_fitting_lr(X, y)\n",
    "\n",
    "# pd.Series(model.rank_, index=X.columns)"
   ]
  },
  {
   "cell_type": "code",
   "execution_count": 358,
   "metadata": {},
   "outputs": [],
   "source": [
    "def try_fitting_lr(X, y):\n",
    "    X_train, X_test, y_train, y_test = train_test_split(X, y, test_size=0.3)\n",
    "    linreg = LinearRegression()\n",
    "    linreg.fit(X_train, y_train)\n",
    "    print('intercept', linreg.intercept_)\n",
    "    print('coefficients', linreg.coef_)\n",
    "    y_hat = linreg.predict(X_test)\n",
    "    print('rmsle', rmsle(y_hat, y_test))\n",
    "    return linreg\n",
    "    \n",
    "def try_fitting_rf(X, y):\n",
    "    X_train, X_test, y_train, y_test = train_test_split(X, y, test_size=0.3)\n",
    "    model = RandomForestRegressor()\n",
    "    model.fit(X_train, y_train)\n",
    "    y_hat = model.predict(X_test)\n",
    "    print('rmsle', rmsle(y_hat, y_test))\n",
    "    return model"
   ]
  },
  {
   "cell_type": "code",
   "execution_count": 554,
   "metadata": {},
   "outputs": [
    {
     "name": "stdout",
     "output_type": "stream",
     "text": [
      "rmsle 0.8391381798726113\n"
     ]
    },
    {
     "data": {
      "text/plain": [
       "genre-Izakaya                         0.223189\n",
       "dow5                                  0.217049\n",
       "dow4                                  0.186116\n",
       "genre-Karaoke-Party                   0.072400\n",
       "dow6                                  0.051726\n",
       "genre-Yakiniku-Korean-food            0.046282\n",
       "genre-Creative-cuisine                0.043047\n",
       "genre-Cafe-Sweets                     0.036097\n",
       "genre-Dining-bar                      0.020849\n",
       "genre-Okonomiyaki-Monja-Teppanyaki    0.014069\n",
       "genre-Bar-Cocktail                    0.013435\n",
       "genre-Other                           0.010618\n",
       "dow2                                  0.009765\n",
       "dow0                                  0.009468\n",
       "genre-Japanese-food                   0.008587\n",
       "genre-Western-food                    0.008456\n",
       "dow3                                  0.008025\n",
       "dow1                                  0.007364\n",
       "genre-Italian-French                  0.007081\n",
       "genre-Asian                           0.006027\n",
       "genre-International-cuisine           0.000352\n",
       "dtype: float64"
      ]
     },
     "execution_count": 554,
     "metadata": {},
     "output_type": "execute_result"
    }
   ],
   "source": [
    "# Random Forest Model -- and it groks the permutations and is not completely crazy \n",
    "dow_cols = [c for c in feature_df.columns if c.startswith('dow')]\n",
    "genre_cols = [c for c in feature_df.columns if c.startswith('genre')]\n",
    "feature_cols = dow_cols + genre_cols\n",
    "\n",
    "X = feature_df[feature_cols]\n",
    "y = feature_df.reserve_visitors\n",
    "model = try_fitting_rf(X, y)\n",
    "\n",
    "pd.Series(model.feature_importances_, index=X.columns).sort_values(ascending=False)"
   ]
  },
  {
   "cell_type": "markdown",
   "metadata": {},
   "source": [
    "Comparision to adding is_hol to the mix shows the ranking changes and sweets moved down. \n",
    "Will diff these to get a difference in number \n",
    "\n",
    "dow4 is higher than dow5 -- yet it isn't a good predictor above the null hypothesis \n",
    "\n",
    "* dow4                                  0.197452\n",
    "* dow5                                  0.185754\n",
    "* genre-Izakaya                         0.173906\n",
    "* is_hol0.0                             0.106832\n",
    "* genre-Karaoke-Party                   0.049480\n",
    "* genre-Yakiniku-Korean-food            0.045463\n",
    "* genre-Creative-cuisine                0.039702\n",
    "* dow6                                  0.032996\n",
    "* genre-Cafe-Sweets                     0.031486\n",
    "* is_hol1.0                             0.028655\n",
    "* genre-Dining-bar                      0.021590\n",
    "* dow3                                  0.015359\n",
    "* dow2                                  0.011365\n",
    "* genre-Bar-Cocktail                    0.010737\n",
    "* dow0                                  0.009256\n",
    "* genre-Western-food                    0.008854\n",
    "* genre-Okonomiyaki-Monja-Teppanyaki    0.007403\n",
    "* genre-Other                           0.007038\n",
    "* genre-Japanese-food                   0.005791\n",
    "* dow1                                  0.005584\n",
    "* genre-Italian-French                  0.004876\n",
    "* genre-International-cuisine           0.000420\n",
    "* genre-Asian                           0.000000\n",
    "* dtype: float64\n",
    "\n"
   ]
  },
  {
   "cell_type": "markdown",
   "metadata": {},
   "source": [
    "### Predicting with just dow and genre "
   ]
  },
  {
   "cell_type": "code",
   "execution_count": 367,
   "metadata": {},
   "outputs": [
    {
     "data": {
      "text/plain": [
       "[]"
      ]
     },
     "execution_count": 367,
     "metadata": {},
     "output_type": "execute_result"
    },
    {
     "data": {
      "image/png": "[encoded data removed]",
      "text/plain": [
       "<matplotlib.figure.Figure at 0x1a3fdf9e10>"
      ]
     },
     "metadata": {},
     "output_type": "display_data"
    }
   ],
   "source": [
    "from matplotlib import pyplot as plt\n",
    "\n",
    "# Because we are dealing with log in RMSLE \n",
    "# it means it also needs to be plotted with log to see the exponential difference visually in a smaller graph \n",
    "\n",
    "# This plot was without the holiday flag \n",
    "y_hat = model.predict(X)\n",
    "plt.scatter(y_hat, y)\n",
    "ax = plt.gca()\n",
    "ax.loglog()"
   ]
  },
  {
   "cell_type": "markdown",
   "metadata": {},
   "source": [
    "### Make an example restaurant and predict on it with genre and dow"
   ]
  },
  {
   "cell_type": "code",
   "execution_count": 374,
   "metadata": {},
   "outputs": [
    {
     "data": {
      "text/plain": [
       "[(0, 'dow0'),\n",
       " (1, 'dow1'),\n",
       " (2, 'dow2'),\n",
       " (3, 'dow3'),\n",
       " (4, 'dow4'),\n",
       " (5, 'dow5'),\n",
       " (6, 'dow6'),\n",
       " (7, 'genre-Asian'),\n",
       " (8, 'genre-Bar-Cocktail'),\n",
       " (9, 'genre-Cafe-Sweets'),\n",
       " (10, 'genre-Creative-cuisine'),\n",
       " (11, 'genre-Dining-bar'),\n",
       " (12, 'genre-International-cuisine'),\n",
       " (13, 'genre-Italian-French'),\n",
       " (14, 'genre-Izakaya'),\n",
       " (15, 'genre-Japanese-food'),\n",
       " (16, 'genre-Karaoke-Party'),\n",
       " (17, 'genre-Okonomiyaki-Monja-Teppanyaki'),\n",
       " (18, 'genre-Other'),\n",
       " (19, 'genre-Western-food'),\n",
       " (20, 'genre-Yakiniku-Korean-food')]"
      ]
     },
     "execution_count": 374,
     "metadata": {},
     "output_type": "execute_result"
    }
   ],
   "source": [
    "# Make a look up list to plug in permutations \n",
    "list(enumerate(X.columns))"
   ]
  },
  {
   "cell_type": "code",
   "execution_count": 376,
   "metadata": {},
   "outputs": [
    {
     "data": {
      "text/plain": [
       "array([14.36426138])"
      ]
     },
     "execution_count": 376,
     "metadata": {},
     "output_type": "execute_result"
    }
   ],
   "source": [
    "# Look at the features - with the genre and dow columns \n",
    "example_restaurant = np.zeros(len(X.columns), dtype=np.int)\n",
    "# example_restaurant[14] = 1\n",
    "example_restaurant[5] = 1\n",
    "model.predict(np.array([example_restaurant]))"
   ]
  },
  {
   "cell_type": "code",
   "execution_count": 332,
   "metadata": {},
   "outputs": [
    {
     "data": {
      "text/plain": [
       "13.879148508213207"
      ]
     },
     "execution_count": 332,
     "metadata": {},
     "output_type": "execute_result"
    }
   ],
   "source": [
    "# The null hypothesis \n",
    "feature_df.reserve_visitors.mean()"
   ]
  },
  {
   "cell_type": "markdown",
   "metadata": {},
   "source": [
    "### Make an example restaurant and predict on it with genre, dow, is_hol "
   ]
  },
  {
   "cell_type": "code",
   "execution_count": 537,
   "metadata": {},
   "outputs": [
    {
     "data": {
      "text/plain": [
       "[(0, 'dow0'),\n",
       " (1, 'dow1'),\n",
       " (2, 'dow2'),\n",
       " (3, 'dow3'),\n",
       " (4, 'dow4'),\n",
       " (5, 'dow5'),\n",
       " (6, 'dow6'),\n",
       " (7, 'genre-Asian'),\n",
       " (8, 'genre-Bar-Cocktail'),\n",
       " (9, 'genre-Cafe-Sweets'),\n",
       " (10, 'genre-Creative-cuisine'),\n",
       " (11, 'genre-Dining-bar'),\n",
       " (12, 'genre-International-cuisine'),\n",
       " (13, 'genre-Italian-French'),\n",
       " (14, 'genre-Izakaya'),\n",
       " (15, 'genre-Japanese-food'),\n",
       " (16, 'genre-Karaoke-Party'),\n",
       " (17, 'genre-Okonomiyaki-Monja-Teppanyaki'),\n",
       " (18, 'genre-Other'),\n",
       " (19, 'genre-Western-food'),\n",
       " (20, 'genre-Yakiniku-Korean-food'),\n",
       " (21, 'is_hol0.0'),\n",
       " (22, 'is_hol1.0')]"
      ]
     },
     "execution_count": 537,
     "metadata": {},
     "output_type": "execute_result"
    }
   ],
   "source": [
    "list(enumerate(X.columns))"
   ]
  },
  {
   "cell_type": "code",
   "execution_count": 544,
   "metadata": {},
   "outputs": [
    {
     "data": {
      "text/plain": [
       "array([12.75305606])"
      ]
     },
     "execution_count": 544,
     "metadata": {},
     "output_type": "execute_result"
    }
   ],
   "source": [
    "# Look at the features - with the genre, dow, and is_hol\n",
    "example_restaurant = np.zeros(len(X.columns), dtype=np.int)\n",
    "# with the type of restaurant it shows the same as day of week 4\n",
    "example_restaurant[14] = 1\n",
    "model.predict(np.array([example_restaurant]))"
   ]
  },
  {
   "cell_type": "code",
   "execution_count": 2,
   "metadata": {},
   "outputs": [],
   "source": [
    "# Look at the features - with the genre, dow, and is_hol\n",
    "#example_restaurant = np.zeros(len(X.columns), dtype=np.int)\n",
    "# with the type of restaurant it shows the same as day of week 4\n",
    "#example_restaurant[17] = 1\n",
    "#model.predict(np.array([example_restaurant]))"
   ]
  },
  {
   "cell_type": "code",
   "execution_count": 545,
   "metadata": {},
   "outputs": [
    {
     "data": {
      "text/plain": [
       "array([14.25169446])"
      ]
     },
     "execution_count": 545,
     "metadata": {},
     "output_type": "execute_result"
    }
   ],
   "source": [
    "# Look at the features - with the genre, dow, and is_hol  \n",
    "example_restaurant = np.zeros(len(X.columns), dtype=np.int)\n",
    "# with the popular days we see an increase over the null hypothesis \n",
    "example_restaurant[5] = 1\n",
    "model.predict(np.array([example_restaurant]))"
   ]
  },
  {
   "cell_type": "code",
   "execution_count": 543,
   "metadata": {},
   "outputs": [
    {
     "data": {
      "text/plain": [
       "array([9.4034156])"
      ]
     },
     "execution_count": 543,
     "metadata": {},
     "output_type": "execute_result"
    }
   ],
   "source": [
    "# Look at the features - with the genre, dow, and is_hol \n",
    "example_restaurant = np.zeros(len(X.columns), dtype=np.int)\n",
    "example_restaurant[22] = 1\n",
    "# with is_holiday true \n",
    "# -- it has a worse effect on the number of visitors going from mean 13 to 9 \n",
    "model.predict(np.array([example_restaurant]))"
   ]
  },
  {
   "cell_type": "code",
   "execution_count": 541,
   "metadata": {},
   "outputs": [
    {
     "data": {
      "text/plain": [
       "13.879148508213207"
      ]
     },
     "execution_count": 541,
     "metadata": {},
     "output_type": "execute_result"
    }
   ],
   "source": [
    "# The null hypothesis \n",
    "feature_df.reserve_visitors.mean()"
   ]
  },
  {
   "cell_type": "code",
   "execution_count": 547,
   "metadata": {},
   "outputs": [
    {
     "data": {
      "text/plain": [
       "Index(['dow0', 'dow1', 'dow2', 'dow3', 'dow4', 'dow5', 'dow6', 'genre-Asian',\n",
       "       'genre-Bar-Cocktail', 'genre-Cafe-Sweets', 'genre-Creative-cuisine',\n",
       "       'genre-Dining-bar', 'genre-International-cuisine',\n",
       "       'genre-Italian-French', 'genre-Izakaya', 'genre-Japanese-food',\n",
       "       'genre-Karaoke-Party', 'genre-Okonomiyaki-Monja-Teppanyaki',\n",
       "       'genre-Other', 'genre-Western-food', 'genre-Yakiniku-Korean-food',\n",
       "       'is_hol0.0', 'is_hol1.0'],\n",
       "      dtype='object')"
      ]
     },
     "execution_count": 547,
     "metadata": {},
     "output_type": "execute_result"
    }
   ],
   "source": [
    "X.columns"
   ]
  },
  {
   "cell_type": "code",
   "execution_count": 546,
   "metadata": {},
   "outputs": [
    {
     "data": {
      "text/plain": [
       "[]"
      ]
     },
     "execution_count": 546,
     "metadata": {},
     "output_type": "execute_result"
    },
    {
     "data": {
      "image/png": "[encoded data removed]",
      "text/plain": [
       "<matplotlib.figure.Figure at 0x1a40f89518>"
      ]
     },
     "metadata": {},
     "output_type": "display_data"
    }
   ],
   "source": [
    "from matplotlib import pyplot as plt\n",
    "\n",
    "# Because we are dealing with log in RMSLE \n",
    "# it means it also needs to be plotted with log to see the exponential difference visually in a smaller graph \n",
    "\n",
    "# This plot was with all the X columns above \n",
    "y_hat = model.predict(X)\n",
    "plt.scatter(y_hat, y)\n",
    "ax = plt.gca()\n",
    "ax.loglog()"
   ]
  },
  {
   "cell_type": "markdown",
   "metadata": {},
   "source": [
    "### Random Forest - with holiday flag added "
   ]
  },
  {
   "cell_type": "code",
   "execution_count": 535,
   "metadata": {
    "scrolled": true
   },
   "outputs": [
    {
     "name": "stdout",
     "output_type": "stream",
     "text": [
      "rmsle 0.8382072682672774\n"
     ]
    },
    {
     "data": {
      "text/plain": [
       "dow4                                  0.197452\n",
       "dow5                                  0.185754\n",
       "genre-Izakaya                         0.173906\n",
       "is_hol0.0                             0.106832\n",
       "genre-Karaoke-Party                   0.049480\n",
       "genre-Yakiniku-Korean-food            0.045463\n",
       "genre-Creative-cuisine                0.039702\n",
       "dow6                                  0.032996\n",
       "genre-Cafe-Sweets                     0.031486\n",
       "is_hol1.0                             0.028655\n",
       "genre-Dining-bar                      0.021590\n",
       "dow3                                  0.015359\n",
       "dow2                                  0.011365\n",
       "genre-Bar-Cocktail                    0.010737\n",
       "dow0                                  0.009256\n",
       "genre-Western-food                    0.008854\n",
       "genre-Okonomiyaki-Monja-Teppanyaki    0.007403\n",
       "genre-Other                           0.007038\n",
       "genre-Japanese-food                   0.005791\n",
       "dow1                                  0.005584\n",
       "genre-Italian-French                  0.004876\n",
       "genre-International-cuisine           0.000420\n",
       "genre-Asian                           0.000000\n",
       "dtype: float64"
      ]
     },
     "execution_count": 535,
     "metadata": {},
     "output_type": "execute_result"
    }
   ],
   "source": [
    "# Random Forest Model \n",
    "dow_cols = [c for c in feature_df.columns if c.startswith('dow')]\n",
    "genre_cols = [c for c in feature_df.columns if c.startswith('genre')]\n",
    "holiday_cols = [c for c in feature_df.columns if c.startswith('is_hol')]\n",
    "\n",
    "feature_cols = dow_cols + genre_cols + holiday_cols\n",
    "\n",
    "X = feature_df[feature_cols]\n",
    "y = feature_df.reserve_visitors\n",
    "model = try_fitting_rf(X, y)\n",
    "\n",
    "pd.Series(model.feature_importances_, index=X.columns).sort_values(ascending=False)"
   ]
  },
  {
   "cell_type": "code",
   "execution_count": null,
   "metadata": {},
   "outputs": [],
   "source": []
  },
  {
   "cell_type": "markdown",
   "metadata": {},
   "source": [
    "### Linear Regression work continued "
   ]
  },
  {
   "cell_type": "code",
   "execution_count": 208,
   "metadata": {},
   "outputs": [],
   "source": [
    "# intercept = linreg.intercept_\n",
    "#coefficient = linreg.coef_\n",
    "#my_lr = linreg\n",
    "#x = X\n",
    "\n",
    "#def predict2(my_lr,x):\n",
    "#    intercept = linreg.intercept_\n",
    "#    coefficient = linreg.coef_\n",
    "#    my_lr = linreg\n",
    "#    x = X\n",
    "#    return intercept + coefficient*x\n",
    "\n",
    "# predict2(my_lr,x) # predicts for every row in dow5"
   ]
  },
  {
   "cell_type": "code",
   "execution_count": 210,
   "metadata": {},
   "outputs": [],
   "source": [
    "# def predict():\n",
    "#    total_base_visitors = linreg.intercept_\n",
    "#    total_base_visitors = np.asarray(total_base_visitors, dtype='float64')\n",
    "#    increment_base_feature = linreg.coef_\n",
    "#    increment_base_feature = np.asarray(increment_base_feature, dtype='float64')\n",
    "#    total_calc_visitors = (total_base_visitors + (increment_base_feature * feature))\n",
    "#    return(total_calc_visitors)"
   ]
  },
  {
   "cell_type": "markdown",
   "metadata": {},
   "source": [
    "### Previous Linear Regression Model work "
   ]
  },
  {
   "cell_type": "code",
   "execution_count": 205,
   "metadata": {},
   "outputs": [
    {
     "name": "stdout",
     "output_type": "stream",
     "text": [
      "['month12', 'dow5', 'Tōkyō-to', 'genre-Italian-French']\n",
      "Feature being fitted to reserve visitors:  ['month12', 'dow5', 'Tōkyō-to', 'genre-Italian-French']\n",
      "Total base # of visitors:  14.15783213662352\n",
      "Increment of  genre-Okonomiyaki-Monja-Teppanyaki , expect visitor to adjust by:  [ 4.16896117  4.12800049 -4.07590339 -1.02757348]\n",
      "----------------------------------------------------- \n",
      "\n",
      "14.15783213662352\n",
      "[ 4.16896117  4.12800049 -4.07590339 -1.02757348]\n"
     ]
    }
   ],
   "source": [
    "# Import, instantiate, fit.\\n\",\n",
    "from sklearn.linear_model import LinearRegression\n",
    "# Create X and y.\n",
    "feature_cols = ['month12', 'dow5', 'Tōkyō-to', 'genre-Italian-French']\n",
    "print(feature_cols)\n",
    "X = feature_df[feature_cols]\n",
    "y = feature_df.reserve_visitors\n",
    "\n",
    "# Instantiate and fit.\n",
    "linreg = LinearRegression()\n",
    "linreg.fit(X, y)\n",
    "\n",
    "# Print the coefficients.\n",
    "print('Feature being fitted to reserve visitors: ', feature_cols)\n",
    "print('Total base # of visitors: ', linreg.intercept_) \n",
    "# where all independent variables are 0 base value -- eg: dow0 has 14 visitors \n",
    "print('Increment of ', feature, ', expect visitor to adjust by: ',linreg.coef_)\n",
    "# comparing dow0 to visitors  eg: subtract 3 visitors \\n\",\n",
    "print('----------------------------------------------------- \\n')\n",
    "print(linreg.intercept_)  # where all independent variables are 0 -- if month december expect \\n\",\n",
    "print(linreg.coef_)       # comparing dow0 to visitors  \\n\",\n",
    "                          # - for each december add 4 visitors\\n\",\n",
    "                          # All other day of week we show a decrease\\n\"\n"
   ]
  },
  {
   "cell_type": "code",
   "execution_count": 184,
   "metadata": {},
   "outputs": [
    {
     "data": {
      "text/plain": [
       "list"
      ]
     },
     "execution_count": 184,
     "metadata": {},
     "output_type": "execute_result"
    }
   ],
   "source": [
    "# Getting features lined up the hard way -- only way to not have it randomly do stupid associations.\n",
    "# Then learned about Random Forest which mathematically is checking permutations (and relationships)\n",
    "\n",
    "\n",
    "feature_cols_list = [['dow5', 'Fukuoka-ken'],\n",
    "['dow5', 'Hiroshima-ken'],\n",
    "['dow5', 'Hokkaidō'],\n",
    "['dow5', 'Tōkyō-to'],\n",
    "['dow5', 'Ōsaka-fu'],\n",
    "['dow6', 'Fukuoka-ken'],\n",
    "['dow6', 'Hiroshima-ken'],\n",
    "['dow6', 'Hokkaidō'],\n",
    "['dow6', 'Tōkyō-to'],\n",
    "['dow6', 'Ōsaka-fu'],\n",
    "['dow5', 'genre-Okonomiyaki-Monja-Teppanyaki'],\n",
    "['dow5', 'genre-Other'],\n",
    "['dow5', 'genre-Cafe-Sweets'],\n",
    "['dow5', 'genre-Italian-French'],\n",
    "['dow5', 'genre-Dining-bar'],\n",
    "['dow6', 'genre-Okonomiyaki-Monja-Teppanyaki'],\n",
    "['dow6', 'genre-Other'],\n",
    "['dow6', 'genre-Cafe-Sweets'],\n",
    "['dow6', 'genre-Italian-French'],\n",
    "['dow6', 'genre-Dining-bar'],\n",
    "['dow4', 'Fukuoka-ken', 'genre-Okonomiyaki-Monja-Teppanyaki'],\n",
    "['dow4', 'Hiroshima-ken', 'genre-Other'],\n",
    "['dow4', 'Hokkaidō', 'genre-Cafe-Sweets'],\n",
    "['dow4', 'Tōkyō-to', 'genre-Italian-French'],\n",
    "['dow4', 'Ōsaka-fu', 'genre-Dining-bar'],\n",
    "['dow5', 'Fukuoka-ken', 'genre-Okonomiyaki-Monja-Teppanyaki'],\n",
    "['dow5', 'Hiroshima-ken', 'genre-Other'],\n",
    "['dow5', 'Hokkaidō', 'genre-Cafe-Sweets'],\n",
    "['dow5', 'Tōkyō-to', 'genre-Italian-French'],\n",
    "['dow5', 'Ōsaka-fu', 'genre-Dining-bar'],\n",
    "['dow6', 'Fukuoka-ken', 'genre-Okonomiyaki-Monja-Teppanyaki'],\n",
    "['dow6', 'Hiroshima-ken', 'genre-Other'],\n",
    "['dow6', 'Hokkaidō', 'genre-Cafe-Sweets'],\n",
    "['dow6', 'Tōkyō-to', 'genre-Italian-French'],\n",
    "['dow6', 'Ōsaka-fu', 'genre-Dining-bar'],\n",
    "['month4', 'dow5', 'Fukuoka-ken', 'genre-Okonomiyaki-Monja-Teppanyaki'],\n",
    "['month4', 'dow5', 'Hiroshima-ken', 'genre-Other'],\n",
    "['month4', 'dow5', 'Hokkaidō', 'genre-Cafe-Sweets'],\n",
    "['month4', 'dow5', 'Tōkyō-to', 'genre-Italian-French'],\n",
    "['month4', 'dow5', 'Ōsaka-fu', 'genre-Dining-bar'],\n",
    "['month5', 'dow5', 'Fukuoka-ken', 'genre-Okonomiyaki-Monja-Teppanyaki'],\n",
    "['month5', 'dow5', 'Hiroshima-ken', 'genre-Other'],\n",
    "['month5', 'dow5', 'Hokkaidō', 'genre-Cafe-Sweets'],\n",
    "['month5', 'dow5', 'Tōkyō-to', 'genre-Italian-French'],\n",
    "['month5', 'dow5', 'Ōsaka-fu', 'genre-Dining-bar'],\n",
    "['month11', 'dow5', 'Fukuoka-ken', 'genre-Okonomiyaki-Monja-Teppanyaki'],\n",
    "['month11', 'dow5', 'Hiroshima-ken', 'genre-Other'],\n",
    "['month11', 'dow5', 'Hokkaidō', 'genre-Cafe-Sweets'],\n",
    "['month11', 'dow5', 'Tōkyō-to', 'genre-Italian-French'],\n",
    "['month11', 'dow5', 'Ōsaka-fu', 'genre-Dining-bar'],\n",
    "['month12', 'dow5', 'Fukuoka-ken', 'genre-Okonomiyaki-Monja-Teppanyaki'],\n",
    "['month12', 'dow5', 'Hiroshima-ken', 'genre-Other'],\n",
    "['month12', 'dow5', 'Hokkaidō', 'genre-Cafe-Sweets'],\n",
    "['month12', 'dow5', 'Tōkyō-to', 'genre-Italian-French'],\n",
    "['month12', 'dow5', 'Ōsaka-fu', 'genre-Dining-bar']]\n",
    "\n",
    "type(feature_cols_list)"
   ]
  },
  {
   "cell_type": "code",
   "execution_count": 188,
   "metadata": {},
   "outputs": [
    {
     "name": "stdout",
     "output_type": "stream",
     "text": [
      "----------------------------------------------------- \n",
      "\n",
      "Feature being fitted to reserve visitors:  ['dow5', 'Fukuoka-ken']\n",
      "Total base # of visitors at intercept:  13.092204282518054\n",
      "Increment of coeff  ['dow5', 'Fukuoka-ken'] , expect visitor(s) to adjust by:  [4.25407876 0.20992205]\n",
      "----------------------------------------------------- \n",
      "\n",
      "Feature being fitted to reserve visitors:  ['dow5', 'Hiroshima-ken']\n",
      "Total base # of visitors at intercept:  12.858771117143519\n",
      "Increment of coeff  ['dow5', 'Hiroshima-ken'] , expect visitor(s) to adjust by:  [4.22610603 3.27196626]\n",
      "----------------------------------------------------- \n",
      "\n",
      "Feature being fitted to reserve visitors:  ['dow5', 'Hokkaidō']\n",
      "Total base # of visitors at intercept:  12.916468327900152\n",
      "Increment of coeff  ['dow5', 'Hokkaidō'] , expect visitor(s) to adjust by:  [4.23849423 1.72185867]\n",
      "----------------------------------------------------- \n",
      "\n",
      "Feature being fitted to reserve visitors:  ['dow5', 'Tōkyō-to']\n",
      "Total base # of visitors at intercept:  14.6461387253233\n",
      "Increment of coeff  ['dow5', 'Tōkyō-to'] , expect visitor(s) to adjust by:  [ 4.07443705 -4.2601237 ]\n",
      "----------------------------------------------------- \n",
      "\n",
      "Feature being fitted to reserve visitors:  ['dow5', 'Ōsaka-fu']\n",
      "Total base # of visitors at intercept:  13.380546675369462\n",
      "Increment of coeff  ['dow5', 'Ōsaka-fu'] , expect visitor(s) to adjust by:  [ 4.23779508 -3.52388756]\n",
      "----------------------------------------------------- \n",
      "\n",
      "Feature being fitted to reserve visitors:  ['dow6', 'Fukuoka-ken']\n",
      "Total base # of visitors at intercept:  13.877899636665711\n",
      "Increment of coeff  ['dow6', 'Fukuoka-ken'] , expect visitor(s) to adjust by:  [-0.35521233  0.25523943]\n",
      "----------------------------------------------------- \n",
      "\n",
      "Feature being fitted to reserve visitors:  ['dow6', 'Hiroshima-ken']\n",
      "Total base # of visitors at intercept:  13.639699222301948\n",
      "Increment of coeff  ['dow6', 'Hiroshima-ken'] , expect visitor(s) to adjust by:  [-0.34826596  3.34540235]\n",
      "----------------------------------------------------- \n",
      "\n",
      "Feature being fitted to reserve visitors:  ['dow6', 'Hokkaidō']\n",
      "Total base # of visitors at intercept:  13.699833756537661\n",
      "Increment of coeff  ['dow6', 'Hokkaidō'] , expect visitor(s) to adjust by:  [-0.36227745  1.78183961]\n",
      "----------------------------------------------------- \n",
      "\n",
      "Feature being fitted to reserve visitors:  ['dow6', 'Tōkyō-to']\n",
      "Total base # of visitors at intercept:  15.4739243173067\n",
      "Increment of coeff  ['dow6', 'Tōkyō-to'] , expect visitor(s) to adjust by:  [-0.57500302 -4.38373707]\n",
      "----------------------------------------------------- \n",
      "\n",
      "Feature being fitted to reserve visitors:  ['dow6', 'Ōsaka-fu']\n",
      "Total base # of visitors at intercept:  14.173570612743564\n",
      "Increment of coeff  ['dow6', 'Ōsaka-fu'] , expect visitor(s) to adjust by:  [-0.35299923 -3.57170148]\n",
      "----------------------------------------------------- \n",
      "\n",
      "Feature being fitted to reserve visitors:  ['dow5', 'genre-Okonomiyaki-Monja-Teppanyaki']\n",
      "Total base # of visitors at intercept:  13.261688087127578\n",
      "Increment of coeff  ['dow5', 'genre-Okonomiyaki-Monja-Teppanyaki'] , expect visitor(s) to adjust by:  [ 4.26015672 -3.87336283]\n",
      "----------------------------------------------------- \n",
      "\n",
      "Feature being fitted to reserve visitors:  ['dow5', 'genre-Other']\n",
      "Total base # of visitors at intercept:  13.166865330559398\n",
      "Increment of coeff  ['dow5', 'genre-Other'] , expect visitor(s) to adjust by:  [ 4.2620014  -5.01382313]\n",
      "----------------------------------------------------- \n",
      "\n",
      "Feature being fitted to reserve visitors:  ['dow5', 'genre-Cafe-Sweets']\n",
      "Total base # of visitors at intercept:  13.36398775276902\n",
      "Increment of coeff  ['dow5', 'genre-Cafe-Sweets'] , expect visitor(s) to adjust by:  [ 4.32710058 -5.31669028]\n",
      "----------------------------------------------------- \n",
      "\n",
      "Feature being fitted to reserve visitors:  ['dow5', 'genre-Italian-French']\n",
      "Total base # of visitors at intercept:  13.589392355867076\n",
      "Increment of coeff  ['dow5', 'genre-Italian-French'] , expect visitor(s) to adjust by:  [ 4.23618738 -2.14223548]\n",
      "----------------------------------------------------- \n",
      "\n",
      "Feature being fitted to reserve visitors:  ['dow5', 'genre-Dining-bar']\n",
      "Total base # of visitors at intercept:  13.201474649087128\n",
      "Increment of coeff  ['dow5', 'genre-Dining-bar'] , expect visitor(s) to adjust by:  [ 4.26819543 -0.66322744]\n",
      "----------------------------------------------------- \n",
      "\n",
      "Feature being fitted to reserve visitors:  ['dow6', 'genre-Okonomiyaki-Monja-Teppanyaki']\n",
      "Total base # of visitors at intercept:  14.062957234068739\n",
      "Increment of coeff  ['dow6', 'genre-Okonomiyaki-Monja-Teppanyaki'] , expect visitor(s) to adjust by:  [-0.42388666 -3.87523133]\n",
      "----------------------------------------------------- \n",
      "\n",
      "Feature being fitted to reserve visitors:  ['dow6', 'genre-Other']\n",
      "Total base # of visitors at intercept:  13.960817837715906\n",
      "Increment of coeff  ['dow6', 'genre-Other'] , expect visitor(s) to adjust by:  [-0.3601831  -4.93238247]\n",
      "----------------------------------------------------- \n",
      "\n",
      "Feature being fitted to reserve visitors:  ['dow6', 'genre-Cafe-Sweets']\n",
      "Total base # of visitors at intercept:  14.139141871045062\n",
      "Increment of coeff  ['dow6', 'genre-Cafe-Sweets'] , expect visitor(s) to adjust by:  [-0.16002582 -5.11717241]\n",
      "----------------------------------------------------- \n",
      "\n",
      "Feature being fitted to reserve visitors:  ['dow6', 'genre-Italian-French']\n",
      "Total base # of visitors at intercept:  14.374868364547071\n",
      "Increment of coeff  ['dow6', 'genre-Italian-French'] , expect visitor(s) to adjust by:  [-0.26236732 -2.16982378]\n",
      "----------------------------------------------------- \n",
      "\n",
      "Feature being fitted to reserve visitors:  ['dow6', 'genre-Dining-bar']\n",
      "Total base # of visitors at intercept:  13.984714413216652\n",
      "Increment of coeff  ['dow6', 'genre-Dining-bar'] , expect visitor(s) to adjust by:  [-0.3606272  -0.55805085]\n",
      "----------------------------------------------------- \n",
      "\n",
      "Feature being fitted to reserve visitors:  ['dow4', 'Fukuoka-ken', 'genre-Okonomiyaki-Monja-Teppanyaki']\n",
      "Total base # of visitors at intercept:  13.348383372345875\n",
      "Increment of coeff  ['dow4', 'Fukuoka-ken', 'genre-Okonomiyaki-Monja-Teppanyaki'] , expect visitor(s) to adjust by:  [ 3.52001605  0.10524121 -3.87534794]\n",
      "----------------------------------------------------- \n",
      "\n",
      "Feature being fitted to reserve visitors:  ['dow4', 'Hiroshima-ken', 'genre-Other']\n",
      "Total base # of visitors at intercept:  12.994315478178704\n",
      "Increment of coeff  ['dow4', 'Hiroshima-ken', 'genre-Other'] , expect visitor(s) to adjust by:  [ 3.52013875  3.30439575 -4.76314857]\n",
      "----------------------------------------------------- \n",
      "\n",
      "Feature being fitted to reserve visitors:  ['dow4', 'Hokkaidō', 'genre-Cafe-Sweets']\n",
      "Total base # of visitors at intercept:  13.263084978190026\n",
      "Increment of coeff  ['dow4', 'Hokkaidō', 'genre-Cafe-Sweets'] , expect visitor(s) to adjust by:  [ 3.45126471  1.73677291 -4.98795795]\n",
      "----------------------------------------------------- \n",
      "\n",
      "Feature being fitted to reserve visitors:  ['dow4', 'Tōkyō-to', 'genre-Italian-French']\n",
      "Total base # of visitors at intercept:  14.907891644887652\n",
      "Increment of coeff  ['dow4', 'Tōkyō-to', 'genre-Italian-French'] , expect visitor(s) to adjust by:  [ 3.51623135 -4.18214058 -1.01345174]\n",
      "----------------------------------------------------- \n",
      "\n",
      "Feature being fitted to reserve visitors:  ['dow4', 'Ōsaka-fu', 'genre-Dining-bar']\n",
      "Total base # of visitors at intercept:  13.489810853500858\n",
      "Increment of coeff  ['dow4', 'Ōsaka-fu', 'genre-Dining-bar'] , expect visitor(s) to adjust by:  [ 3.51696576 -3.57468113 -0.05092203]\n",
      "----------------------------------------------------- \n",
      "\n",
      "Feature being fitted to reserve visitors:  ['dow5', 'Fukuoka-ken', 'genre-Okonomiyaki-Monja-Teppanyaki']\n",
      "Total base # of visitors at intercept:  13.254245204042466\n",
      "Increment of coeff  ['dow5', 'Fukuoka-ken', 'genre-Okonomiyaki-Monja-Teppanyaki'] , expect visitor(s) to adjust by:  [ 4.25968441  0.04683469 -3.86583419]\n",
      "----------------------------------------------------- \n",
      "\n",
      "Feature being fitted to reserve visitors:  ['dow5', 'Hiroshima-ken', 'genre-Other']\n",
      "Total base # of visitors at intercept:  12.902632095035553\n",
      "Increment of coeff  ['dow5', 'Hiroshima-ken', 'genre-Other'] , expect visitor(s) to adjust by:  [ 4.23204528  3.2269559  -4.7436912 ]\n",
      "----------------------------------------------------- \n",
      "\n",
      "Feature being fitted to reserve visitors:  ['dow5', 'Hokkaidō', 'genre-Cafe-Sweets']\n",
      "Total base # of visitors at intercept:  13.15851590550931\n",
      "Increment of coeff  ['dow5', 'Hokkaidō', 'genre-Cafe-Sweets'] , expect visitor(s) to adjust by:  [ 4.30943666  1.69376009 -5.29529065]\n",
      "----------------------------------------------------- \n",
      "\n",
      "Feature being fitted to reserve visitors:  ['dow5', 'Tōkyō-to', 'genre-Italian-French']\n",
      "Total base # of visitors at intercept:  14.8014461043086\n",
      "Increment of coeff  ['dow5', 'Tōkyō-to', 'genre-Italian-French'] , expect visitor(s) to adjust by:  [ 4.07352431 -4.04931768 -1.06235566]\n",
      "----------------------------------------------------- \n",
      "\n",
      "Feature being fitted to reserve visitors:  ['dow5', 'Ōsaka-fu', 'genre-Dining-bar']\n",
      "Total base # of visitors at intercept:  13.39507293292012\n",
      "Increment of coeff  ['dow5', 'Ōsaka-fu', 'genre-Dining-bar'] , expect visitor(s) to adjust by:  [ 4.24062882 -3.4896728  -0.14634192]\n",
      "----------------------------------------------------- \n",
      "\n",
      "Feature being fitted to reserve visitors:  ['dow6', 'Fukuoka-ken', 'genre-Okonomiyaki-Monja-Teppanyaki']\n",
      "Total base # of visitors at intercept:  14.048059430468328\n",
      "Increment of coeff  ['dow6', 'Fukuoka-ken', 'genre-Okonomiyaki-Monja-Teppanyaki'] , expect visitor(s) to adjust by:  [-0.42303402  0.09212148 -3.86038567]\n",
      "----------------------------------------------------- \n",
      "\n",
      "Feature being fitted to reserve visitors:  ['dow6', 'Hiroshima-ken', 'genre-Other']\n",
      "Total base # of visitors at intercept:  13.684131113151802\n",
      "Increment of coeff  ['dow6', 'Hiroshima-ken', 'genre-Other'] , expect visitor(s) to adjust by:  [-0.3515134   3.30131098 -4.65656606]\n",
      "----------------------------------------------------- \n",
      "\n",
      "Feature being fitted to reserve visitors:  ['dow6', 'Hokkaidō', 'genre-Cafe-Sweets']\n",
      "Total base # of visitors at intercept:  13.92364755888468\n",
      "Increment of coeff  ['dow6', 'Hokkaidō', 'genre-Cafe-Sweets'] , expect visitor(s) to adjust by:  [-0.1662012   1.75521948 -5.09527904]\n",
      "----------------------------------------------------- \n",
      "\n",
      "Feature being fitted to reserve visitors:  ['dow6', 'Tōkyō-to', 'genre-Italian-French']\n",
      "Total base # of visitors at intercept:  15.620630278168806\n",
      "Increment of coeff  ['dow6', 'Tōkyō-to', 'genre-Italian-French'] , expect visitor(s) to adjust by:  [-0.51890747 -4.17439988 -1.04887723]\n",
      "----------------------------------------------------- \n",
      "\n",
      "Feature being fitted to reserve visitors:  ['dow6', 'Ōsaka-fu', 'genre-Dining-bar']\n",
      "Total base # of visitors at intercept:  14.17675134847016\n",
      "Increment of coeff  ['dow6', 'Ōsaka-fu', 'genre-Dining-bar'] , expect visitor(s) to adjust by:  [-0.35321434 -3.56452049 -0.03074181]\n",
      "----------------------------------------------------- \n",
      "\n",
      "Feature being fitted to reserve visitors:  ['month4', 'dow5', 'Fukuoka-ken', 'genre-Okonomiyaki-Monja-Teppanyaki']\n",
      "Total base # of visitors at intercept:  13.468492622678829\n",
      "Increment of coeff  ['month4', 'dow5', 'Fukuoka-ken', 'genre-Okonomiyaki-Monja-Teppanyaki'] , expect visitor(s) to adjust by:  [-1.45591645  4.30853221  0.04076956 -3.85337417]\n",
      "----------------------------------------------------- \n",
      "\n",
      "Feature being fitted to reserve visitors:  ['month4', 'dow5', 'Hiroshima-ken', 'genre-Other']\n",
      "Total base # of visitors at intercept:  13.117630108368106\n",
      "Increment of coeff  ['month4', 'dow5', 'Hiroshima-ken', 'genre-Other'] , expect visitor(s) to adjust by:  [-1.46854001  4.28119535  3.23253734 -4.72455575]\n",
      "----------------------------------------------------- \n",
      "\n",
      "Feature being fitted to reserve visitors:  ['month4', 'dow5', 'Hokkaidō', 'genre-Cafe-Sweets']\n",
      "Total base # of visitors at intercept:  13.375964529617216\n",
      "Increment of coeff  ['month4', 'dow5', 'Hokkaidō', 'genre-Cafe-Sweets'] , expect visitor(s) to adjust by:  [-1.4655316   4.35885934  1.67907587 -5.30647469]\n",
      "----------------------------------------------------- \n",
      "\n",
      "Feature being fitted to reserve visitors:  ['month4', 'dow5', 'Tōkyō-to', 'genre-Italian-French']\n",
      "Total base # of visitors at intercept:  15.007460820818554\n",
      "Increment of coeff  ['month4', 'dow5', 'Tōkyō-to', 'genre-Italian-French'] , expect visitor(s) to adjust by:  [-1.42582349  4.12159068 -4.04449751 -1.05496176]\n",
      "----------------------------------------------------- \n",
      "\n",
      "Feature being fitted to reserve visitors:  ['month4', 'dow5', 'Ōsaka-fu', 'genre-Dining-bar']\n",
      "Total base # of visitors at intercept:  13.608205520051202\n",
      "Increment of coeff  ['month4', 'dow5', 'Ōsaka-fu', 'genre-Dining-bar'] , expect visitor(s) to adjust by:  [-1.44372797  4.28962354 -3.4642254  -0.17225148]\n",
      "----------------------------------------------------- \n",
      "\n",
      "Feature being fitted to reserve visitors:  ['month5', 'dow5', 'Fukuoka-ken', 'genre-Okonomiyaki-Monja-Teppanyaki']\n",
      "Total base # of visitors at intercept:  13.352874297664071\n",
      "Increment of coeff  ['month5', 'dow5', 'Fukuoka-ken', 'genre-Okonomiyaki-Monja-Teppanyaki'] , expect visitor(s) to adjust by:  [-2.46722937  4.25608784  0.0385362  -3.86400703]\n",
      "----------------------------------------------------- \n",
      "\n",
      "Feature being fitted to reserve visitors:  ['month5', 'dow5', 'Hiroshima-ken', 'genre-Other']\n",
      "Total base # of visitors at intercept:  13.002871414135065\n",
      "Increment of coeff  ['month5', 'dow5', 'Hiroshima-ken', 'genre-Other'] , expect visitor(s) to adjust by:  [-2.60799955  4.2278625   3.26795679 -4.8128984 ]\n",
      "----------------------------------------------------- \n",
      "\n",
      "Feature being fitted to reserve visitors:  ['month5', 'dow5', 'Hokkaidō', 'genre-Cafe-Sweets']\n",
      "Total base # of visitors at intercept:  13.260579682611663\n",
      "Increment of coeff  ['month5', 'dow5', 'Hokkaidō', 'genre-Cafe-Sweets'] , expect visitor(s) to adjust by:  [-2.51899443  4.30616099  1.68236214 -5.32238592]\n",
      "----------------------------------------------------- \n",
      "\n",
      "Feature being fitted to reserve visitors:  ['month5', 'dow5', 'Tōkyō-to', 'genre-Italian-French']\n",
      "Total base # of visitors at intercept:  14.902059560939149\n",
      "Increment of coeff  ['month5', 'dow5', 'Tōkyō-to', 'genre-Italian-French'] , expect visitor(s) to adjust by:  [-2.51500655  4.06958229 -4.05436234 -1.06006382]\n",
      "----------------------------------------------------- \n",
      "\n",
      "Feature being fitted to reserve visitors:  ['month5', 'dow5', 'Ōsaka-fu', 'genre-Dining-bar']\n",
      "Total base # of visitors at intercept:  13.494945389870553\n",
      "Increment of coeff  ['month5', 'dow5', 'Ōsaka-fu', 'genre-Dining-bar'] , expect visitor(s) to adjust by:  [-2.50100378  4.23689941 -3.50032236 -0.1492857 ]\n",
      "----------------------------------------------------- \n",
      "\n",
      "Feature being fitted to reserve visitors:  ['month11', 'dow5', 'Fukuoka-ken', 'genre-Okonomiyaki-Monja-Teppanyaki']\n",
      "Total base # of visitors at intercept:  13.459944808709185\n",
      "Increment of coeff  ['month11', 'dow5', 'Fukuoka-ken', 'genre-Okonomiyaki-Monja-Teppanyaki'] , expect visitor(s) to adjust by:  [-1.60986161  4.24485853  0.048313   -3.89922345]\n",
      "----------------------------------------------------- \n",
      "\n",
      "Feature being fitted to reserve visitors:  ['month11', 'dow5', 'Hiroshima-ken', 'genre-Other']\n",
      "Total base # of visitors at intercept:  13.098509035274006\n",
      "Increment of coeff  ['month11', 'dow5', 'Hiroshima-ken', 'genre-Other'] , expect visitor(s) to adjust by:  [-1.52701808  4.21813899  3.19945469 -4.67741364]\n",
      "----------------------------------------------------- \n",
      "\n",
      "Feature being fitted to reserve visitors:  ['month11', 'dow5', 'Hokkaidō', 'genre-Cafe-Sweets']\n",
      "Total base # of visitors at intercept:  13.351667105420814\n",
      "Increment of coeff  ['month11', 'dow5', 'Hokkaidō', 'genre-Cafe-Sweets'] , expect visitor(s) to adjust by:  [-1.53789847  4.29468944  1.6999149  -5.25766498]\n",
      "----------------------------------------------------- \n",
      "\n",
      "Feature being fitted to reserve visitors:  ['month11', 'dow5', 'Tōkyō-to', 'genre-Italian-French']\n",
      "Total base # of visitors at intercept:  14.992829472602462\n",
      "Increment of coeff  ['month11', 'dow5', 'Tōkyō-to', 'genre-Italian-French'] , expect visitor(s) to adjust by:  [-1.533792    4.05971264 -4.04293815 -1.05588034]\n",
      "----------------------------------------------------- \n",
      "\n",
      "Feature being fitted to reserve visitors:  ['month11', 'dow5', 'Ōsaka-fu', 'genre-Dining-bar']\n",
      "Total base # of visitors at intercept:  13.596939553799983\n",
      "Increment of coeff  ['month11', 'dow5', 'Ōsaka-fu', 'genre-Dining-bar'] , expect visitor(s) to adjust by:  [-1.58364505  4.22612981 -3.48766002 -0.15154399]\n",
      "----------------------------------------------------- \n",
      "\n",
      "Feature being fitted to reserve visitors:  ['month12', 'dow5', 'Fukuoka-ken', 'genre-Okonomiyaki-Monja-Teppanyaki']\n",
      "Total base # of visitors at intercept:  12.613840967343318\n",
      "Increment of coeff  ['month12', 'dow5', 'Fukuoka-ken', 'genre-Okonomiyaki-Monja-Teppanyaki'] , expect visitor(s) to adjust by:  [ 4.13400171  4.31453977  0.03941643 -3.82651682]\n",
      "----------------------------------------------------- \n",
      "\n",
      "Feature being fitted to reserve visitors:  ['month12', 'dow5', 'Hiroshima-ken', 'genre-Other']\n",
      "Total base # of visitors at intercept:  12.256187149503273\n",
      "Increment of coeff  ['month12', 'dow5', 'Hiroshima-ken', 'genre-Other'] , expect visitor(s) to adjust by:  [ 4.16340384  4.28707481  3.25593951 -4.81537859]\n",
      "----------------------------------------------------- \n",
      "\n",
      "Feature being fitted to reserve visitors:  ['month12', 'dow5', 'Hokkaidō', 'genre-Cafe-Sweets']\n",
      "Total base # of visitors at intercept:  12.51741898073464\n",
      "Increment of coeff  ['month12', 'dow5', 'Hokkaidō', 'genre-Cafe-Sweets'] , expect visitor(s) to adjust by:  [ 4.14039388  4.36428858  1.69113186 -5.28913401]\n",
      "----------------------------------------------------- \n",
      "\n",
      "Feature being fitted to reserve visitors:  ['month12', 'dow5', 'Tōkyō-to', 'genre-Italian-French']\n",
      "Total base # of visitors at intercept:  14.15783213662352\n",
      "Increment of coeff  ['month12', 'dow5', 'Tōkyō-to', 'genre-Italian-French'] , expect visitor(s) to adjust by:  [ 4.16896117  4.12800049 -4.07590339 -1.02757348]\n",
      "----------------------------------------------------- \n",
      "\n",
      "Feature being fitted to reserve visitors:  ['month12', 'dow5', 'Ōsaka-fu', 'genre-Dining-bar']\n",
      "Total base # of visitors at intercept:  12.763613250133815\n",
      "Increment of coeff  ['month12', 'dow5', 'Ōsaka-fu', 'genre-Dining-bar'] , expect visitor(s) to adjust by:  [ 4.14250081  4.29783055 -3.44707242 -0.25902385]\n"
     ]
    }
   ],
   "source": [
    "# Import, instantiate, fit.\\n\",\n",
    "from sklearn.linear_model import LinearRegression\n",
    "\n",
    "# Tested with : feature_cols_list = [['dow5', 'Fukuoka-ken'],['dow5', 'Hiroshima-ken']]\n",
    "\n",
    "# Create X and y.\n",
    "\n",
    "for pair in feature_cols_list:\n",
    "    X = feature_df[pair]\n",
    "    y = feature_df.reserve_visitors\n",
    "    # Instantiate and fit.\n",
    "    linreg = LinearRegression()\n",
    "    linreg.fit(X, y)\n",
    "\n",
    "# Print the coefficients.\n",
    "    print('----------------------------------------------------- \\n')\n",
    "    print('Feature being fitted to reserve visitors: ', pair)\n",
    "    print('Total base # of visitors at intercept: ', linreg.intercept_) \n",
    "# where all independent variables are 0 base value -- eg: dow0 has 14 visitors \n",
    "    print('Increment of coeff ', pair, ', expect visitor(s) to adjust by: ',linreg.coef_)\n",
    "# comparing dow0 to visitors  eg: subtract 3 visitors \\n\",\n",
    "    #print(linreg.intercept_)  # where all independent variables are 0 -- if month december expect \\n\",\n",
    "    #print(linreg.coef_)       # comparing dow0 to visitors  \\n\",\n",
    "                          # - for each december add 4 visitors\\n\",\n",
    "                          # All other day of week we show a decrease\\n\"\n",
    "    #print('----------------------------------------------------- \\n')"
   ]
  },
  {
   "cell_type": "code",
   "execution_count": null,
   "metadata": {},
   "outputs": [],
   "source": []
  },
  {
   "cell_type": "markdown",
   "metadata": {},
   "source": [
    "### Set index to air_store_id for merge of reservations with the store relation data set \n",
    "\n",
    "This was not needed, nor useful for HPG. \n",
    "\n",
    "Left it to show the work done. "
   ]
  },
  {
   "cell_type": "code",
   "execution_count": 219,
   "metadata": {},
   "outputs": [
    {
     "data": {
      "text/html": [
       "<div>\n",
       "<style scoped>\n",
       "    .dataframe tbody tr th:only-of-type {\n",
       "        vertical-align: middle;\n",
       "    }\n",
       "\n",
       "    .dataframe tbody tr th {\n",
       "        vertical-align: top;\n",
       "    }\n",
       "\n",
       "    .dataframe thead th {\n",
       "        text-align: right;\n",
       "    }\n",
       "</style>\n",
       "<table border=\"1\" class=\"dataframe\">\n",
       "  <thead>\n",
       "    <tr style=\"text-align: right;\">\n",
       "      <th></th>\n",
       "      <th>hpg_store_id</th>\n",
       "    </tr>\n",
       "    <tr>\n",
       "      <th>air_store_id</th>\n",
       "      <th></th>\n",
       "    </tr>\n",
       "  </thead>\n",
       "  <tbody>\n",
       "    <tr>\n",
       "      <th>air_63b13c56b7201bd9</th>\n",
       "      <td>hpg_4bc649e72e2a239a</td>\n",
       "    </tr>\n",
       "  </tbody>\n",
       "</table>\n",
       "</div>"
      ],
      "text/plain": [
       "                              hpg_store_id\n",
       "air_store_id                              \n",
       "air_63b13c56b7201bd9  hpg_4bc649e72e2a239a"
      ]
     },
     "execution_count": 219,
     "metadata": {},
     "output_type": "execute_result"
    }
   ],
   "source": [
    "sid_rel_df = sid_rel_df.set_index('air_store_id')\n",
    "sid_rel_df.head(1)"
   ]
  },
  {
   "cell_type": "code",
   "execution_count": 385,
   "metadata": {},
   "outputs": [
    {
     "data": {
      "text/plain": [
       "(29830, 55)"
      ]
     },
     "execution_count": 385,
     "metadata": {},
     "output_type": "execute_result"
    }
   ],
   "source": [
    "feature_df.shape"
   ]
  },
  {
   "cell_type": "code",
   "execution_count": 223,
   "metadata": {},
   "outputs": [
    {
     "data": {
      "text/plain": [
       "True"
      ]
     },
     "execution_count": 223,
     "metadata": {},
     "output_type": "execute_result"
    }
   ],
   "source": [
    "sample_df.id.str.startswith('air').all()"
   ]
  },
  {
   "cell_type": "markdown",
   "metadata": {},
   "source": [
    "### Merging air reservations and hpg reservations based on store relation\n",
    "\n",
    "Turns out it isn't needed and doesn't help. \n",
    "Left to show the work was done "
   ]
  },
  {
   "cell_type": "code",
   "execution_count": 235,
   "metadata": {},
   "outputs": [
    {
     "data": {
      "text/html": [
       "<div>\n",
       "<style scoped>\n",
       "    .dataframe tbody tr th:only-of-type {\n",
       "        vertical-align: middle;\n",
       "    }\n",
       "\n",
       "    .dataframe tbody tr th {\n",
       "        vertical-align: top;\n",
       "    }\n",
       "\n",
       "    .dataframe thead th {\n",
       "        text-align: right;\n",
       "    }\n",
       "</style>\n",
       "<table border=\"1\" class=\"dataframe\">\n",
       "  <thead>\n",
       "    <tr style=\"text-align: right;\">\n",
       "      <th></th>\n",
       "      <th>hpg_store_id</th>\n",
       "      <th>reserve_datetime</th>\n",
       "      <th>reserve_visitors</th>\n",
       "    </tr>\n",
       "  </thead>\n",
       "  <tbody>\n",
       "    <tr>\n",
       "      <th>0</th>\n",
       "      <td>hpg_c63f6f42e088e50f</td>\n",
       "      <td>2016-01-01 09:00:00</td>\n",
       "      <td>1</td>\n",
       "    </tr>\n",
       "    <tr>\n",
       "      <th>1</th>\n",
       "      <td>hpg_dac72789163a3f47</td>\n",
       "      <td>2016-01-01 06:00:00</td>\n",
       "      <td>3</td>\n",
       "    </tr>\n",
       "    <tr>\n",
       "      <th>2</th>\n",
       "      <td>hpg_c8e24dcf51ca1eb5</td>\n",
       "      <td>2016-01-01 14:00:00</td>\n",
       "      <td>2</td>\n",
       "    </tr>\n",
       "  </tbody>\n",
       "</table>\n",
       "</div>"
      ],
      "text/plain": [
       "           hpg_store_id    reserve_datetime reserve_visitors\n",
       "0  hpg_c63f6f42e088e50f 2016-01-01 09:00:00                1\n",
       "1  hpg_dac72789163a3f47 2016-01-01 06:00:00                3\n",
       "2  hpg_c8e24dcf51ca1eb5 2016-01-01 14:00:00                2"
      ]
     },
     "execution_count": 235,
     "metadata": {},
     "output_type": "execute_result"
    }
   ],
   "source": [
    "hpg_resv_rel_merge = pd.merge(hpgres_df, sid_rel_df, how='left', on=['hpg_store_id'])\n",
    "hpg_resv_rel_merge.head(3)\n",
    "\n",
    "# most are Nan -- one is air_290e7a57b390f78e"
   ]
  },
  {
   "cell_type": "code",
   "execution_count": 251,
   "metadata": {},
   "outputs": [
    {
     "name": "stdout",
     "output_type": "stream",
     "text": [
      "                             air_store_id    reserve_datetime reserve_visitors\n",
      "visit_datetime                                                                \n",
      "2016-01-01 19:00:00  air_877f79706adbfb06 2016-01-01 16:00:00                1\n",
      "2016-01-01 19:00:00  air_db4b38ebe7a7ceff 2016-01-01 19:00:00                3\n",
      "2016-01-01 19:00:00  air_db4b38ebe7a7ceff 2016-01-01 19:00:00                6\n",
      "2016-01-01 20:00:00  air_877f79706adbfb06 2016-01-01 16:00:00                2\n",
      "2016-01-01 20:00:00  air_db80363d35f10926 2016-01-01 01:00:00                5\n",
      "                             hpg_store_id    reserve_datetime reserve_visitors\n",
      "visit_datetime                                                                \n",
      "2016-01-01 11:00:00  hpg_c63f6f42e088e50f 2016-01-01 09:00:00                1\n",
      "2016-01-01 13:00:00  hpg_dac72789163a3f47 2016-01-01 06:00:00                3\n",
      "2016-01-01 16:00:00  hpg_c8e24dcf51ca1eb5 2016-01-01 14:00:00                2\n",
      "2016-01-01 17:00:00  hpg_24bb207e5fd49d4a 2016-01-01 11:00:00                5\n",
      "2016-01-01 17:00:00  hpg_25291c542ebb3bc2 2016-01-01 03:00:00               13\n"
     ]
    }
   ],
   "source": [
    "#air_resv_rel_merge = pd.merge(ar_df, sid_rel_df, on=['air_store_id'])\n",
    "#air_resv_rel_merge.head(3)\n",
    "\n",
    "print(ar_df.head())\n",
    "print(hpgres_df.head())\n",
    "#sid_rel_df.head()"
   ]
  },
  {
   "cell_type": "code",
   "execution_count": 234,
   "metadata": {},
   "outputs": [],
   "source": [
    "# Inner join is closer yet still whacked for numbers -- 3583374\n",
    "merged = pd.merge(hpg_resv_rel_merge,air_resv_rel_merge, how='inner', on=['air_store_id'])"
   ]
  },
  {
   "cell_type": "code",
   "execution_count": null,
   "metadata": {},
   "outputs": [],
   "source": [
    "merged.shape"
   ]
  },
  {
   "cell_type": "code",
   "execution_count": 232,
   "metadata": {},
   "outputs": [],
   "source": [
    "merged.to_csv('./both-reservation-data-merged-after-store-rel-merge-inner.csv')"
   ]
  },
  {
   "cell_type": "code",
   "execution_count": null,
   "metadata": {},
   "outputs": [],
   "source": [
    "# Outer join \n",
    "# merged.to_csv('./both-reservation-data-merged-after-store-rel-merge-outer.csv')\n",
    "# \n",
    "# this is too big at 11,621,476-- it should be combined the shape of 2,092,698 = ( 92378 + 2000320)"
   ]
  },
  {
   "cell_type": "code",
   "execution_count": 231,
   "metadata": {},
   "outputs": [],
   "source": [
    "air_resv_rel_merge.columns"
   ]
  },
  {
   "cell_type": "code",
   "execution_count": null,
   "metadata": {},
   "outputs": [],
   "source": [
    "# Air Null mask looking for Nan hpg_store_id \n",
    "air_res_null_mask = air_resv_rel_merge['hpg_store_id'].isnull()\n",
    "air_resv_rel_merge[air_res_null_mask].shape"
   ]
  },
  {
   "cell_type": "code",
   "execution_count": null,
   "metadata": {},
   "outputs": [],
   "source": [
    "# Air Not Null mask looking for filled in hpg_store_id\n",
    "air_res_not_null_mask = air_resv_rel_merge['hpg_store_id'].notnull()\n",
    "air_resv_rel_merge[air_res_not_null_mask].shape\n",
    "\n",
    "# 92378 = 36264 + 56114"
   ]
  },
  {
   "cell_type": "code",
   "execution_count": null,
   "metadata": {},
   "outputs": [],
   "source": [
    "air_resv_rel_merge.shape\n",
    "#   92379 air_reserve.csv\n",
    "# 2000321 hpg_reserve.csv"
   ]
  },
  {
   "cell_type": "code",
   "execution_count": null,
   "metadata": {},
   "outputs": [],
   "source": [
    "ar_df.head()"
   ]
  },
  {
   "cell_type": "code",
   "execution_count": null,
   "metadata": {},
   "outputs": [],
   "source": [
    "hpg_resv_rel_merge.shape\n",
    "#   92379 air_reserve.csv\n",
    "# 2000321 hpg_reserve.csv"
   ]
  },
  {
   "cell_type": "code",
   "execution_count": null,
   "metadata": {},
   "outputs": [],
   "source": [
    "hpgresorig_df.shape"
   ]
  },
  {
   "cell_type": "code",
   "execution_count": 254,
   "metadata": {},
   "outputs": [],
   "source": [
    "## hpg_resv_rel_merge.air_store_id\n",
    "## hpg_resv_rel_merge['air_store_id']\n",
    "## hpg_resv_rel_merge[hpg_resv_rel_merge['air_store_id'] == 'NaN']\n",
    "\n",
    "#hpg_res_null_mask = hpg_resv_rel_merge['air_store_id'].isnull()\n",
    "#hpg_resv_rel_merge[hpg_res_null_mask].head()"
   ]
  },
  {
   "cell_type": "code",
   "execution_count": null,
   "metadata": {},
   "outputs": [],
   "source": [
    "# Null         1972137\n",
    "# not NULL       28183\n",
    "# Total \n",
    "# reservations 2000320\n",
    "hpg_resv_rel_merge[hpg_res_null_mask].shape"
   ]
  },
  {
   "cell_type": "code",
   "execution_count": null,
   "metadata": {},
   "outputs": [],
   "source": [
    "hpg_res_not_null_mask = hpg_resv_rel_merge['air_store_id'].notnull()\n",
    "hpg_resv_rel_merge[hpg_res_not_null_mask].shape"
   ]
  },
  {
   "cell_type": "markdown",
   "metadata": {},
   "source": [
    "### First tests of adding reservation data sets for their respective data \n",
    "\n",
    "Columns for air store: air_store_id,air_genre_name,air_area_name,latitude,longitude\n",
    "\n",
    "Columns for hpg store: hpg_store_id,hpg_genre_name,hpg_area_name,latitude,longitude"
   ]
  },
  {
   "cell_type": "code",
   "execution_count": null,
   "metadata": {},
   "outputs": [],
   "source": [
    "# hpg_resv_rel_merge = pd.merge(hpgres_df, sid_rel_df, how='left', on=['hpg_store_id'])\n",
    "hpg_resv_rel_merge.head(3)\n",
    "\n",
    "# air_resv_rel_merge = pd.merge(ar_df, sid_rel_df, how='left', on=['air_store_id'])\n",
    "air_resv_rel_merge.head(3)\n",
    "\n",
    "test_hpg_resv_rel_merge = pd.merge(hpg_resv_rel_merge, hpgsi_df, how='left', on=['hpg_store_id'])\n",
    "\n",
    "test_air_resv_rel_merge = pd.merge(air_resv_rel_merge, asi_df, how='left', on=['air_store_id'])"
   ]
  },
  {
   "cell_type": "markdown",
   "metadata": {},
   "source": [
    "## <a id=\"add-date-diff-to-reservations\"></a>\n",
    "## Notes on Add date diffs to reservation data \n",
    "\n",
    "Work on Air Reservations along with the HPG reservations \n",
    "\n",
    "#### Original idea looked like the following\n",
    "#### date, total_visitors, locations (store_id), system(yelp or reservation)\n",
    "\n",
    "I realized that I'd need to break out the dummy variables in a way to be able to see a distribution curve over time. \n",
    "\n",
    "And reservation data time diffs wasn't what I wanted to use to help predict "
   ]
  },
  {
   "cell_type": "markdown",
   "metadata": {},
   "source": [
    "### <a id=\"air-store-info\"></a>\n",
    "### Air Store Info (ASI)\n",
    "\n",
    "This file contains information about select air restaurants. Column names and contents are self-explanatory.\n",
    "\n",
    "* air_store_id\n",
    "* air_genre_name\n",
    "* air_area_name\n",
    "* latitude\n",
    "* longitude\n",
    "\n",
    "Note: latitude and longitude are the latitude and longitude of the area to which the store belongs"
   ]
  },
  {
   "cell_type": "code",
   "execution_count": null,
   "metadata": {},
   "outputs": [],
   "source": [
    "# Air Store Info (asi)  \n",
    "print('The ASI data types are: \\n')\n",
    "print(asi_df.dtypes)\n",
    "print('\\n')\n",
    "print('The index for Air Store Info is: \\n')\n",
    "print(asi_df.index)\n",
    "print('\\n')\n",
    "print('The ASI data frame info shows no nulls because the counts across all rows are same: \\n')\n",
    "print(asi_df.info())\n",
    "print('\\n')\n",
    "print('----------- Air Store Info First rows  \\n')\n",
    "print(asi_df.head(3))"
   ]
  },
  {
   "cell_type": "code",
   "execution_count": null,
   "metadata": {},
   "outputs": [],
   "source": [
    "# Noting that the air_store_id does not appear to match up in the store_id_relation data at all \n",
    "# asi_df['air_store_id'].value_counts().head(3)"
   ]
  },
  {
   "cell_type": "code",
   "execution_count": null,
   "metadata": {},
   "outputs": [],
   "source": [
    "# Would like to compare hpgsi_df area name to asi_df area name to see what matches or overalaps if any \n",
    "# asi_df['air_area_name'].value_counts().head(20)"
   ]
  },
  {
   "cell_type": "code",
   "execution_count": null,
   "metadata": {},
   "outputs": [],
   "source": [
    "# Looking at the distribution of Genre to get an idea of classification \n",
    "# Air Store Info for Genre are completely different than HPG Store Info by Genre \n",
    "# First pass is to look and gauge without renaming \n",
    "# asi_df['air_genre_name'].value_counts()\n",
    "\n",
    "# Questions that arise from EDA looking at the data \n",
    "# How to reduce the Genre info into human readable names across both (or not) ? \n",
    "\n",
    "#####################################\n",
    "# Scme context on names: \n",
    "#####################################\n",
    "# Izakaya = pub                   197\n",
    "# Cafe/Sweets                     181\n",
    "# Dining bar                      108\n",
    "# Italian/French                  102\n",
    "# Bar/Cocktail                     79\n",
    "# Japanese food                    63\n",
    "# Other                            27\n",
    "# Yakiniku = bbq /Korean food      23\n",
    "# Western food                     16\n",
    "# Okonomiyaki/Monja/Teppanyaki = savory_pancakes    14\n",
    "# Creative cuisine                 13\n",
    "# Karaoke/Party                     2\n",
    "# Asian                             2\n",
    "# International cuisine             2\n",
    "# Name: air_genre_name, dtype: int64"
   ]
  },
  {
   "cell_type": "markdown",
   "metadata": {},
   "source": [
    "### <a id=\"air-reservation-data\"></a>\n",
    "### Air Reservation Data (AR)\n",
    "\n",
    "Data contains reservations made in the air system. Note that the reserve_datetime indicates the time when the reservation was created, whereas the visit_datetime is the time in the future where the visit will occur.\n",
    "\n",
    "* air_store_id - the restaurant's id in the air system\n",
    "* visit_datetime - the time of the reservation\n",
    "* reserve_datetime - the time the reservation was made\n",
    "* reserve_visitors - the number of visitors for that reservation"
   ]
  },
  {
   "cell_type": "code",
   "execution_count": null,
   "metadata": {},
   "outputs": [],
   "source": [
    "# Air Reserve Data (ar) loaded for datetime columns \n",
    "print('The AR data types are: \\n')\n",
    "print(ar_df.dtypes)\n",
    "print('\\n')\n",
    "print('The AR index for air reserve data is based around time from January 2016 to end of May 2017: \\n')\n",
    "print(ar_df.index)\n",
    "print('\\n')\n",
    "print('The AR data frame info shows no nulls because the counts across all rows are same: \\n')\n",
    "print(ar_df.info())\n",
    "print('\\n')\n",
    "print('----------- Air Reserve Data First rows  \\n')\n",
    "print(ar_df.head(3))"
   ]
  },
  {
   "cell_type": "markdown",
   "metadata": {},
   "source": [
    "### <a id=\"date-info-data\"></a>\n",
    "### Date Info (date_info)\n",
    "\n",
    "Loaded data with datetime index and rangeindex to be able to work with data in different ways \n",
    "\n",
    "This file gives basic information about the calendar dates in the dataset.\n",
    "\n",
    "* calendar_date\n",
    "* day_of_week\n",
    "* holiday_flg - is the day a holiday in Japan\n",
    "\n",
    "Normally these columns below would have to be made into features and appended to the data set \n",
    "We have a gap in data, not in our lookup table\n",
    "\n",
    "* In this case the date info date ranges are full from January 1st 2016 to May 31st 2017 \n",
    "* Note that the Air Visit Data is from January 13th 2016 to April 22nd 2017 ; which doesn't match Air Reserve Data "
   ]
  },
  {
   "cell_type": "code",
   "execution_count": null,
   "metadata": {},
   "outputs": [],
   "source": [
    "## date_info_df['year'] = date_info_df.index.year\n",
    "## date_info_df['month'] = date_info_df.index.month\n",
    "## date_info_df['dow'] = date_info_df.index.dayofweek"
   ]
  },
  {
   "cell_type": "code",
   "execution_count": 170,
   "metadata": {},
   "outputs": [
    {
     "name": "stdout",
     "output_type": "stream",
     "text": [
      "              day_of_week  holiday_flg\n",
      "calendar_date                         \n",
      "2017-05-27       Saturday            0\n",
      "2017-05-28         Sunday            0\n",
      "2017-05-29         Monday            0\n",
      "2017-05-30        Tuesday            0\n",
      "2017-05-31      Wednesday            0\n"
     ]
    }
   ],
   "source": [
    "print(date_info_df.tail())"
   ]
  },
  {
   "cell_type": "code",
   "execution_count": 175,
   "metadata": {},
   "outputs": [],
   "source": [
    "# Didn't end up using as it would mean units would not be uniform \n",
    "# wkend_holidays = date_info_range_df.apply(lambda x: (x.day_of_week=='Sunday' or x.day_of_week=='Saturday') and x.holiday_flg==1, axis=1)\n",
    "# date_info_range_df.loc[wkend_holidays, 'holiday_flg'] = 0\n",
    "# date_info_range_df['weight'] = ((date_info_range_df.index + 1) / len(date_info_range_df)) ** 5  "
   ]
  },
  {
   "cell_type": "code",
   "execution_count": null,
   "metadata": {},
   "outputs": [],
   "source": [
    "type(date_info_df.index)"
   ]
  },
  {
   "cell_type": "code",
   "execution_count": null,
   "metadata": {},
   "outputs": [],
   "source": [
    "wkend_holidays.value_counts()"
   ]
  },
  {
   "cell_type": "code",
   "execution_count": 470,
   "metadata": {},
   "outputs": [
    {
     "data": {
      "text/plain": [
       "0    482\n",
       "1     35\n",
       "Name: holiday_flg, dtype: int64"
      ]
     },
     "execution_count": 470,
     "metadata": {},
     "output_type": "execute_result"
    }
   ],
   "source": [
    "# This is all our holiday data \n",
    "# It doesn't have a big affect -- it actually pulls down the values. \n",
    "# Unless a special holiday were found there are less visitors on holidays \n",
    "date_info_df[date_info_df.holiday_flg >= 1].head()\n",
    "date_info_df.holiday_flg.value_counts()"
   ]
  },
  {
   "cell_type": "markdown",
   "metadata": {},
   "source": [
    "### <a id=\"store-id-relation-between-air-hpg\"></a>\n",
    "### Store Id Relation (sid_rel) between some joint air/hpg systems \n",
    "\n",
    "This file of 151 records allows you to join select restaurants that have both the air and hpg system.\n",
    "\n",
    "The stores though are not unique to the air visit data data set that I found. \n",
    "\n",
    "HPG doesn't have mapping to any of it's air id's because most do not exist. \n",
    "\n",
    "* hpg_store_id (expect these not to be in air_visit_data data set)\n",
    "* air_store_id (not all air stores are in the visits) \n"
   ]
  },
  {
   "cell_type": "code",
   "execution_count": null,
   "metadata": {},
   "outputs": [],
   "source": [
    "print('The Store Id Relation (sid_rel) data types are: \\n')\n",
    "print(sid_rel_df.dtypes)\n",
    "print('\\n')\n",
    "print('The index for Store Id Relation (sid_rel) data is based around time from January 2016 to end of May 2017: \\n')\n",
    "print(sid_rel_df.index)\n",
    "print('\\n')\n",
    "print('The sid_rel data frame info shows no nulls because the counts across all rows are same: \\n')\n",
    "print(sid_rel_df.info())\n",
    "print('\\n')\n",
    "print('----------- Air Store Id Relationship to HPG Reserve Id First rows  \\n')"
   ]
  },
  {
   "cell_type": "code",
   "execution_count": null,
   "metadata": {},
   "outputs": [],
   "source": [
    "# This is a combo look up table \n",
    "# what to call it for a dummy variable -- can I make it a feature? \n",
    "sid_rel_df.head(3)"
   ]
  },
  {
   "cell_type": "code",
   "execution_count": null,
   "metadata": {},
   "outputs": [],
   "source": [
    "sid_rel_df['air_store_id'].value_counts().head()"
   ]
  },
  {
   "cell_type": "code",
   "execution_count": null,
   "metadata": {},
   "outputs": [],
   "source": [
    "sid_rel_df['hpg_store_id'].value_counts().head()"
   ]
  },
  {
   "cell_type": "markdown",
   "metadata": {},
   "source": [
    "### <a id=\"hpg-store-info\"></a>\n",
    "### HPG Store Info (hpgsi)\n",
    "\n",
    "This file contains information about select hpg restaurants. Column names and contents are self-explanatory.\n",
    "\n",
    "* hpg_store_id\n",
    "* hpg_genre_name\n",
    "* hpg_area_name\n",
    "* latitude\n",
    "* longitude\n",
    "\n",
    "Note: latitude and longitude are the latitude and longitude of the area to which the store belongs"
   ]
  },
  {
   "cell_type": "code",
   "execution_count": null,
   "metadata": {},
   "outputs": [],
   "source": [
    "# HPG Store Info Data (ar) loaded for datetime columns \n",
    "print('The HPG Store Info data types are: \\n')\n",
    "print(hpgsi_df.dtypes)\n",
    "print('\\n')\n",
    "print('The index for HPG Store Info data: \\n')\n",
    "print(hpgsi_df.index)\n",
    "print('\\n')\n",
    "print('The HPG Store Info data frame info shows no nulls because the counts across all rows are same: \\n')\n",
    "print(hpgsi_df.info())\n",
    "print('\\n')\n",
    "print('----------- HPG Store Info Data First rows  \\n')\n",
    "print(hpgsi_df.head())\n",
    "\n",
    "# Figures genre is different across systems hpg genre is different than air genre \n",
    "print(hpgsi_df['hpg_genre_name'].value_counts().head(20))\n",
    "# This might lead to the most popular areas for visitors - will have to be compared to by air \n",
    "# This has to be broken out by ward, chu, kome to really be userful... \n",
    "# The None's will throw off the straight comparison \n",
    "hpgsi_df['hpg_area_name'].value_counts().head(20)"
   ]
  },
  {
   "cell_type": "markdown",
   "metadata": {},
   "source": [
    "### <a id=\"hpg-reservation-data\"></a>\n",
    "### HPG Reserve (hpgres) Data \n",
    "\n",
    "This file contains reservations made in the hpg system.\n",
    "\n",
    "* hpg_store_id - the restaurant's id in the hpg system\n",
    "* visit_datetime - the time of the reservation\n",
    "* reserve_datetime - the time the reservation was made\n",
    "* reserve_visitors - the number of visitors for that reservation"
   ]
  },
  {
   "cell_type": "code",
   "execution_count": null,
   "metadata": {},
   "outputs": [],
   "source": [
    "# HPG Reservation Data (hpgres) \n",
    "print('The HPG Reservation data types are: \\n')\n",
    "print(hpgres_df.dtypes)\n",
    "print('\\n')\n",
    "print('The HPG Reservation Data index is based on time from January 1st 2016 to May 31st 2017: \\n')\n",
    "print(hpgres_df.index)\n",
    "print('\\n')\n",
    "print('The HPG Reservation data frame info shows no nulls because all the counts across rows are the same: \\n')\n",
    "print(hpgres_df.info())\n",
    "print('\\n')\n",
    "print('----------- HPG Reservation Data First rows  \\n')\n",
    "print(hpgres_df.head(3))\n",
    "print('\\n')\n",
    "print('----------- HPG Reservation Data Last rows  \\n')\n",
    "print(hpgres_df.tail(3))"
   ]
  },
  {
   "cell_type": "markdown",
   "metadata": {},
   "source": [
    "## <a id=\"linear-regression-fit2\"></a>\n",
    "## Linear Regression fit of features "
   ]
  },
  {
   "cell_type": "code",
   "execution_count": 306,
   "metadata": {},
   "outputs": [
    {
     "name": "stdout",
     "output_type": "stream",
     "text": [
      "['dow5']\n"
     ]
    }
   ],
   "source": [
    "print(feature_cols)"
   ]
  },
  {
   "cell_type": "code",
   "execution_count": 307,
   "metadata": {},
   "outputs": [
    {
     "data": {
      "text/plain": [
       "[('dow5', 4.25616092240907)]"
      ]
     },
     "execution_count": 307,
     "metadata": {},
     "output_type": "execute_result"
    }
   ],
   "source": [
    "# Pair the feature names with the coefficients.\n",
    "list(zip(feature_cols, linreg.coef_))"
   ]
  },
  {
   "cell_type": "code",
   "execution_count": 214,
   "metadata": {},
   "outputs": [
    {
     "data": {
      "image/png": "[encoded data removed]",
      "text/plain": [
       "<matplotlib.figure.Figure at 0x110e3a550>"
      ]
     },
     "metadata": {},
     "output_type": "display_data"
    }
   ],
   "source": [
    "# These were just not helpful as much as I could do to try... and I did try. \n",
    "# If you have any ideas... these were not as helpful \n",
    "# as the numbers that told me what went up/down in response to permutations \n",
    "\n",
    "c = ['blue', 'green','orange']\n",
    "fig, axs = plt.subplots(ncols=3,figsize=(18,4))\n",
    "\n",
    "for x, var in enumerate(['dow5', 'Tōkyō-to', 'genre-Italian-French']):\n",
    "    linmodel = sns.regplot(feature_df[var], feature_df['reserve_visitors'], ax = axs[x], color=c[x],scatter_kws={'alpha':0.2})\n",
    "    linmodel.set(ylim=(0, None))\n"
   ]
  },
  {
   "cell_type": "markdown",
   "metadata": {},
   "source": [
    "### Correllations "
   ]
  },
  {
   "cell_type": "code",
   "execution_count": 211,
   "metadata": {},
   "outputs": [
    {
     "data": {
      "image/png": "[encoded data removed]",
      "text/plain": [
       "<matplotlib.figure.Figure at 0x1a1fcd2b00>"
      ]
     },
     "metadata": {},
     "output_type": "display_data"
    }
   ],
   "source": [
    "# Correllations also showed me that there were groups and not across the board relationships \n",
    "# I wanted to be able to iterate through permutations of features made from the dummy variables. \n",
    "\n",
    "# diverging scale \n",
    "# https://gist.github.com/rddunlap23/02d4014907ffaf9cbdf49f4004f82ba6 \n",
    "\n",
    "# Make the correllation a variable \n",
    "corrs = feature_df.corr()\n",
    "\n",
    "# Set the default matplotlib figure size:\n",
    "fig, ax = plt.subplots(figsize=(12,12))\n",
    "\n",
    "# Generate a mask for the upper triangle (taken from seaborn example gallery)\n",
    "mask = np.zeros_like(corrs, dtype=np.bool)\n",
    "mask[np.triu_indices_from(mask)] = True\n",
    "\n",
    "# Plot the heatmap with seaborn.\n",
    "# Assign the matplotlib axis the function returns. This will let us resize the labels.\n",
    "ax = sns.heatmap(corrs, mask=mask, cmap='PiYG')"
   ]
  },
  {
   "cell_type": "markdown",
   "metadata": {},
   "source": [
    "### Linear Regression of 2 features \n"
   ]
  },
  {
   "cell_type": "code",
   "execution_count": 282,
   "metadata": {},
   "outputs": [
    {
     "data": {
      "text/plain": [
       "[('dow5', 4.25616092240907)]"
      ]
     },
     "execution_count": 282,
     "metadata": {},
     "output_type": "execute_result"
    }
   ],
   "source": [
    "# Pair the feature names with the coefficients. See what goes up from base # - depending on the feature. \n",
    "list(zip(lr_feature_cols, linreg.coef_))"
   ]
  },
  {
   "cell_type": "code",
   "execution_count": 312,
   "metadata": {},
   "outputs": [],
   "source": [
    "from sklearn.linear_model import LinearRegression\n",
    "lr = LinearRegression()  # note the instantiation as an object \n",
    "type(lr)\n",
    "\n",
    "lr_feature_cols = ['dow5','genre-Izakaya']\n",
    "\n",
    "# Create X and y.\n",
    "X = feature_df[lr_feature_cols]\n",
    "y = feature_df.reserve_visitors\n",
    "\n",
    "# Fit linear regression model to 4 features and the predictor y \n",
    "lr.fit(X, y)\n",
    "\n",
    "# These are all the predictors (using 2 features/X's)\n",
    "y_preds = lr.predict(X)\n"
   ]
  },
  {
   "cell_type": "code",
   "execution_count": 313,
   "metadata": {},
   "outputs": [
    {
     "name": "stdout",
     "output_type": "stream",
     "text": [
      "[11.82867521 11.82867521 11.82867521 ... 11.82867521 16.11911459\n",
      " 11.82867521]\n"
     ]
    }
   ],
   "source": [
    "# Did not need to add y_preds back to data frame \n",
    "# avd_df['y_preds'] = y_preds\n",
    "\n",
    "print(y_preds)"
   ]
  },
  {
   "cell_type": "markdown",
   "metadata": {},
   "source": [
    "### Plotting the predictions (needs the y_preds in the data frame)"
   ]
  },
  {
   "cell_type": "code",
   "execution_count": 286,
   "metadata": {},
   "outputs": [
    {
     "data": {
      "image/png": "[encoded data removed]",
      "text/plain": [
       "<matplotlib.figure.Figure at 0x1109e9e48>"
      ]
     },
     "metadata": {},
     "output_type": "display_data"
    }
   ],
   "source": [
    "## Fitted from above \n",
    "feature_df.plot(kind='scatter',x='dow5',y='reserve_visitors');\n",
    "## y_preds is the list of predicting against 2 features above added to the dataframe \n",
    "\n",
    "x = np.linspace(*ax.get_xlim())\n",
    "ax.plot(x,x)\n",
    "plt.show()"
   ]
  },
  {
   "cell_type": "code",
   "execution_count": 315,
   "metadata": {},
   "outputs": [
    {
     "data": {
      "image/png": "[encoded data removed]",
      "text/plain": [
       "<matplotlib.figure.Figure at 0x1a17b6e048>"
      ]
     },
     "metadata": {},
     "output_type": "display_data"
    }
   ],
   "source": [
    "# Seaborn scatterplot with regression line\n",
    "sns.lmplot(x='genre-Cafe-Sweets', y='reserve_visitors', data=feature_df, aspect=1.5, scatter_kws={'alpha':0.2});"
   ]
  },
  {
   "cell_type": "code",
   "execution_count": null,
   "metadata": {},
   "outputs": [],
   "source": [
    "## Fitted from above \n",
    "feature_df.plot(kind='scatter',x='dow5',y='reserve_visitors');\n",
    "## y_preds is the list of predicting against 2 features above added to the dataframe \n",
    "\n",
    "x = np.linspace(*ax.get_xlim())\n",
    "ax.plot(x,x)\n",
    "plt.show()"
   ]
  },
  {
   "cell_type": "markdown",
   "metadata": {},
   "source": [
    "## <a id=\"2-log-or-2logp-eval\"></a>\n",
    "## Playing around with np log \n",
    "\n",
    "Did not end up having enough time to go into this more in depth. \n",
    "\n",
    "Issues with notebook freezing up on startup meant I had to rebuild the entire notebook from a copy "
   ]
  },
  {
   "cell_type": "code",
   "execution_count": 273,
   "metadata": {},
   "outputs": [
    {
     "name": "stdout",
     "output_type": "stream",
     "text": [
      "0    1.098612\n",
      "1    2.302585\n",
      "2    2.944439\n",
      "Name: reserve_visitors, dtype: float64\n",
      "visit_date\n",
      "2016-01-13    3.258097\n",
      "2016-01-14    3.496508\n",
      "2016-01-15    3.401197\n",
      "Name: visitors, dtype: float64\n"
     ]
    }
   ],
   "source": [
    "print(np.log1p(feature_df.reserve_visitors).head(3))\n",
    "print(np.log1p(avd_df.visitors).head(3))"
   ]
  },
  {
   "cell_type": "markdown",
   "metadata": {},
   "source": [
    "## <a id=\"regression-eval\"></a>\n",
    "## Linear Regression eval Null RMSE, RMSLE"
   ]
  },
  {
   "cell_type": "markdown",
   "metadata": {},
   "source": [
    "#### Comparing Testing RMSLE With Null RMSE\n",
    "\n",
    "Null RMSE is the RMSE that could be achieved by always predicting the mean response value. \n",
    "It is a benchmark against which folks may want to measure \n",
    "\n",
    "I compared it to RMSLE to show that the log reduced the number so that it showed orders of magnitude not the number itself. \n",
    "\n",
    "With so many features RMSE would have been closer to infinity versus 0 \n",
    "Making is exponential means it reduces the scale to visually see the break out better \n",
    "\n",
    "To me it is kind of like what plotting dummy variables does to be able to put them in a range of 1 to -1 around the 0 (Sigmoid) \n"
   ]
  },
  {
   "cell_type": "code",
   "execution_count": 295,
   "metadata": {},
   "outputs": [
    {
     "name": "stdout",
     "output_type": "stream",
     "text": [
      "Null RMSE:  36.92630693734815\n",
      "RMSLE:  0.8777157412585951\n"
     ]
    }
   ],
   "source": [
    "### This was initially really just to verify that RMSE would have never shown it would get to 0 \n",
    "\n",
    "# Split X and y into training and testing sets.\n",
    "X_train, X_test, y_train, y_test = train_test_split(X, y, random_state=123)\n",
    "\n",
    "# Create a NumPy array with the same shape as y_test.\n",
    "y_null = np.zeros_like(y_test, dtype=float)\n",
    "\n",
    "# Fill the array with the mean value of y_test.\n",
    "y_null.fill(y_test.mean())\n",
    "y_null\n",
    "\n",
    "# Compute null RMSE.\n",
    "print('Null RMSE: ', np.sqrt(metrics.mean_squared_error(y_test, y_null)))\n",
    "\n",
    "# Computer RMSLE -- reduced the level of error back to better visual range \n",
    "print ('RMSLE: ',rmsle(y, y_preds))"
   ]
  },
  {
   "cell_type": "markdown",
   "metadata": {},
   "source": [
    "<a id=\"visualizing-the-data\"></a>\n",
    "## Visualizing the Data"
   ]
  },
  {
   "cell_type": "code",
   "execution_count": 297,
   "metadata": {},
   "outputs": [
    {
     "data": {
      "image/png": "[encoded data removed]",
      "text/plain": [
       "<matplotlib.figure.Figure at 0x11152f9e8>"
      ]
     },
     "metadata": {},
     "output_type": "display_data"
    }
   ],
   "source": [
    "# Bummed I didn't get to use this -- putting in anyhoo \n",
    "plt.figure(figsize=(12,7))\n",
    "plt.scatter(feature_df['dow5'], y_preds)\n",
    "plt.xlabel(\"Average Visitors Per Day of Week: $Y_i$\")\n",
    "plt.ylabel(\"Predicted : $\\hat{Y}_i$\")\n",
    "plt.title(\"Visitors vs Day of week: $Y_i$ vs $\\hat{Y}_i$\");"
   ]
  },
  {
   "cell_type": "code",
   "execution_count": 556,
   "metadata": {},
   "outputs": [
    {
     "data": {
      "text/plain": [
       "array([11.82867521, 11.82867521, 11.82867521, ..., 11.82867521,\n",
       "       16.11911459, 11.82867521])"
      ]
     },
     "execution_count": 556,
     "metadata": {},
     "output_type": "execute_result"
    }
   ],
   "source": [
    "y_preds"
   ]
  },
  {
   "cell_type": "code",
   "execution_count": 559,
   "metadata": {},
   "outputs": [
    {
     "data": {
      "image/png": "[encoded data removed]",
      "text/plain": [
       "<matplotlib.figure.Figure at 0x1a404ee438>"
      ]
     },
     "metadata": {},
     "output_type": "display_data"
    }
   ],
   "source": [
    "# Ah well, it did not give me what I thought it would. \n",
    "plt.figure(figsize=(12,7))\n",
    "plt.scatter(feature_df['genre-Izakaya'], y_preds)\n",
    "plt.xlabel(\"Average Visitors Per Day of Week: $Y_i$\")\n",
    "plt.ylabel(\"Predicted : $\\hat{Y}_i$\")\n",
    "plt.title(\"Visitors vs Day of week: $Y_i$ vs $\\hat{Y}_i$\");"
   ]
  },
  {
   "cell_type": "code",
   "execution_count": 279,
   "metadata": {},
   "outputs": [
    {
     "data": {
      "image/png": "[encoded data removed]",
      "text/plain": [
       "<matplotlib.figure.Figure at 0x11172b0f0>"
      ]
     },
     "metadata": {},
     "output_type": "display_data"
    }
   ],
   "source": [
    "# This plot doesn't work with the datetime set -- only if visit date is an object \n",
    "# The outliers are mostly above 200 \n",
    "avdorig_df.plot(x='visit_date', y='visitors', style='o',figsize=(14,8));"
   ]
  },
  {
   "cell_type": "code",
   "execution_count": 311,
   "metadata": {},
   "outputs": [
    {
     "data": {
      "image/png": "[encoded data removed]",
      "text/plain": [
       "<matplotlib.figure.Figure at 0x1a1a2be6a0>"
      ]
     },
     "metadata": {},
     "output_type": "display_data"
    }
   ],
   "source": [
    "# Plots of Air Store info by Genre \n",
    "# The most popular type of air store is Izakaya \n",
    "asi_df['air_genre_name'].value_counts().plot(kind='barh', figsize=(18,18));\n"
   ]
  },
  {
   "cell_type": "code",
   "execution_count": 278,
   "metadata": {},
   "outputs": [
    {
     "data": {
      "image/png": "[encoded data removed]",
      "text/plain": [
       "<matplotlib.figure.Figure at 0x115c92eb8>"
      ]
     },
     "metadata": {},
     "output_type": "display_data"
    }
   ],
   "source": [
    "# Top 20 Air Store Info Areas \n",
    "# The area with the most stores is Fukuoka-ken Fukuoka-shi Daimyō at 64 \n",
    "asi_df['air_area_name'].value_counts().head(20).plot(kind='barh', figsize=(14,14));"
   ]
  },
  {
   "cell_type": "code",
   "execution_count": 277,
   "metadata": {},
   "outputs": [
    {
     "data": {
      "image/png": "[encoded data removed]",
      "text/plain": [
       "<matplotlib.figure.Figure at 0x1a211c3be0>"
      ]
     },
     "metadata": {},
     "output_type": "display_data"
    }
   ],
   "source": [
    "# In the Fukuoka-ken Fukuoka-shi Daimyō area with the most Air stores mostly has Cafe/Sweets\n",
    "asi_ward_df['air_genre_name'].value_counts().plot(kind='barh', figsize=(12,14));"
   ]
  },
  {
   "cell_type": "code",
   "execution_count": 299,
   "metadata": {},
   "outputs": [
    {
     "data": {
      "image/png": "[encoded data removed]",
      "text/plain": [
       "<matplotlib.figure.Figure at 0x11643a940>"
      ]
     },
     "metadata": {},
     "output_type": "display_data"
    }
   ],
   "source": [
    "import seaborn as sns\n",
    "import matplotlib.pyplot as plt\n",
    "% matplotlib inline\n",
    "\n",
    "sns.lmplot(x='dow5', y='reserve_visitors', data=feature_df)\n",
    "plt.show()\n",
    "\n",
    "#sns.lmplot(x='dow6', y='reserve_visitors', data=feature_df)\n",
    "#plt.show()\n",
    "\n",
    "#sns.lmplot(x='month11', y='reserve_visitors', data=feature_df)\n",
    "#plt.show()\n",
    "\n",
    "#sns.lmplot(x='month12', y='reserve_visitors', data=feature_df)\n",
    "#plt.show()\n",
    "\n",
    "#sns.lmplot(x='month5', y='reserve_visitors', data=feature_df)\n",
    "#plt.show()\n",
    "\n",
    "#sns.lmplot(x='year2016', y='reserve_visitors', data=feature_df)\n",
    "#plt.show()\n",
    "\n",
    "#sns.lmplot(x='year2017', y='reserve_visitors', data=feature_df)\n",
    "#plt.show()"
   ]
  },
  {
   "cell_type": "code",
   "execution_count": null,
   "metadata": {},
   "outputs": [],
   "source": []
  },
  {
   "cell_type": "code",
   "execution_count": null,
   "metadata": {},
   "outputs": [],
   "source": []
  },
  {
   "cell_type": "markdown",
   "metadata": {},
   "source": [
    "### Air Visitor Data "
   ]
  },
  {
   "cell_type": "code",
   "execution_count": 474,
   "metadata": {},
   "outputs": [
    {
     "data": {
      "text/plain": [
       "2016    174535\n",
       "2017     77573\n",
       "Name: visit_date, dtype: int64"
      ]
     },
     "execution_count": 474,
     "metadata": {},
     "output_type": "execute_result"
    }
   ],
   "source": [
    "avd_df.index.year.value_counts()\n",
    "# cmd line checks with grep and wc -l back the #'s up "
   ]
  },
  {
   "cell_type": "code",
   "execution_count": null,
   "metadata": {},
   "outputs": [],
   "source": [
    "avd_df['air_store_id'].value_counts().head(3)"
   ]
  },
  {
   "cell_type": "code",
   "execution_count": null,
   "metadata": {},
   "outputs": [],
   "source": [
    "# This plot was a big indicator that there would be too much fluctation and noise "
   ]
  },
  {
   "cell_type": "markdown",
   "metadata": {},
   "source": [
    "### Air Store Info "
   ]
  },
  {
   "cell_type": "code",
   "execution_count": 472,
   "metadata": {},
   "outputs": [
    {
     "data": {
      "text/plain": [
       "0    Hyōgo-ken Kōbe-shi Kumoidōri\n",
       "1    Hyōgo-ken Kōbe-shi Kumoidōri\n",
       "Name: air_area_name, dtype: object"
      ]
     },
     "execution_count": 472,
     "metadata": {},
     "output_type": "execute_result"
    }
   ],
   "source": [
    "asi_areas = asi_df['air_area_name']\n",
    "asi_areas.head(2)"
   ]
  },
  {
   "cell_type": "code",
   "execution_count": 473,
   "metadata": {},
   "outputs": [
    {
     "data": {
      "text/plain": [
       "count                                829\n",
       "unique                               103\n",
       "top       Fukuoka-ken Fukuoka-shi Daimyō\n",
       "freq                                  64\n",
       "Name: air_area_name, dtype: object"
      ]
     },
     "execution_count": 473,
     "metadata": {},
     "output_type": "execute_result"
    }
   ],
   "source": [
    "asi_areas.describe()"
   ]
  },
  {
   "cell_type": "code",
   "execution_count": null,
   "metadata": {},
   "outputs": [],
   "source": [
    "# This was done elsewhere as part of the feature_df work -- this is where it was conceptually tested out \n",
    "import re \n",
    "\n",
    "areas_df = asi_areas\n",
    "\n",
    "asi_ken= []\n",
    "asi_ku = []\n",
    "asi_chome = []\n",
    "\n",
    "for area in areas_df:\n",
    "    # print(area)\n",
    "    # Split on spaces \n",
    "    split_areas = area.split(' ')\n",
    "    # print(split_areas[0])\n",
    "    asi_ken.append(split_areas[0])\n",
    "    asi_ku.append(split_areas[1])\n",
    "    asi_chome.append(split_areas[2])\n",
    "print(len(asi_chome))\n",
    "# print((asi_chome))"
   ]
  },
  {
   "cell_type": "code",
   "execution_count": 276,
   "metadata": {},
   "outputs": [
    {
     "data": {
      "text/html": [
       "<div>\n",
       "<style scoped>\n",
       "    .dataframe tbody tr th:only-of-type {\n",
       "        vertical-align: middle;\n",
       "    }\n",
       "\n",
       "    .dataframe tbody tr th {\n",
       "        vertical-align: top;\n",
       "    }\n",
       "\n",
       "    .dataframe thead th {\n",
       "        text-align: right;\n",
       "    }\n",
       "</style>\n",
       "<table border=\"1\" class=\"dataframe\">\n",
       "  <thead>\n",
       "    <tr style=\"text-align: right;\">\n",
       "      <th></th>\n",
       "      <th>air_store_id</th>\n",
       "      <th>air_genre_name</th>\n",
       "      <th>air_area_name</th>\n",
       "      <th>latitude</th>\n",
       "      <th>longitude</th>\n",
       "    </tr>\n",
       "  </thead>\n",
       "  <tbody>\n",
       "    <tr>\n",
       "      <th>17</th>\n",
       "      <td>air_4579cb0669fd411b</td>\n",
       "      <td>Italian/French</td>\n",
       "      <td>Fukuoka-ken Fukuoka-shi Daimyō</td>\n",
       "      <td>33.589216</td>\n",
       "      <td>130.392813</td>\n",
       "    </tr>\n",
       "    <tr>\n",
       "      <th>18</th>\n",
       "      <td>air_63a750d8b4b6a976</td>\n",
       "      <td>Italian/French</td>\n",
       "      <td>Fukuoka-ken Fukuoka-shi Daimyō</td>\n",
       "      <td>33.589216</td>\n",
       "      <td>130.392813</td>\n",
       "    </tr>\n",
       "  </tbody>\n",
       "</table>\n",
       "</div>"
      ],
      "text/plain": [
       "            air_store_id  air_genre_name                   air_area_name  \\\n",
       "17  air_4579cb0669fd411b  Italian/French  Fukuoka-ken Fukuoka-shi Daimyō   \n",
       "18  air_63a750d8b4b6a976  Italian/French  Fukuoka-ken Fukuoka-shi Daimyō   \n",
       "\n",
       "     latitude   longitude  \n",
       "17  33.589216  130.392813  \n",
       "18  33.589216  130.392813  "
      ]
     },
     "execution_count": 276,
     "metadata": {},
     "output_type": "execute_result"
    }
   ],
   "source": [
    "# The largest number of stores are in this area and their genres are diverse \n",
    "asi_ward_df = asi_df[asi_df['air_area_name'].str.contains(\"Fukuoka-ken Fukuoka-shi Daimyō\")]\n",
    "asi_ward_df.head(2)"
   ]
  },
  {
   "cell_type": "markdown",
   "metadata": {},
   "source": [
    "### HPG Store Info Data "
   ]
  },
  {
   "cell_type": "code",
   "execution_count": null,
   "metadata": {},
   "outputs": [],
   "source": [
    "hpgsi_df.columns"
   ]
  },
  {
   "cell_type": "code",
   "execution_count": null,
   "metadata": {},
   "outputs": [],
   "source": [
    "hpgsi_areas = hpgsi_df['hpg_area_name']\n",
    "hpgsi_areas.head(2)"
   ]
  },
  {
   "cell_type": "code",
   "execution_count": null,
   "metadata": {},
   "outputs": [],
   "source": [
    "hpgsi_areas.describe()"
   ]
  },
  {
   "cell_type": "code",
   "execution_count": null,
   "metadata": {},
   "outputs": [],
   "source": [
    "# Plots of HPG Store Info Data by Genre \n",
    "# The most popular HPG store Genre is Japanese Style \n",
    "hpgsi_df['hpg_genre_name'].value_counts().plot(kind='barh', figsize=(18,18));"
   ]
  },
  {
   "cell_type": "code",
   "execution_count": null,
   "metadata": {},
   "outputs": [],
   "source": [
    "hpgsi_df['hpg_area_name'].value_counts().head(20).plot(kind='barh', figsize=(18,18));"
   ]
  },
  {
   "cell_type": "code",
   "execution_count": null,
   "metadata": {},
   "outputs": [],
   "source": [
    "# Reference: https://en.wikipedia.org/wiki/Wards_of_Japan\n",
    "# Reference: https://en.wikipedia.org/wiki/Japanese_addressing_system \n",
    "\n",
    "# the 0 position - 1st entry becomes the ward list \n",
    "# the 1 position - 2nd entry becomes the ku list \n",
    "# the 2 position - 3rd entry becomes the chome \n",
    "import re \n",
    "\n",
    "areas_df = hpgsi_areas\n",
    "\n",
    "\n",
    "hpg_ken= []\n",
    "hpg_ku = []\n",
    "hpg_chome = []\n",
    "\n",
    "for area in areas_df:\n",
    "    # print(area)\n",
    "    # Split on spaces \n",
    "    split_areas = area.split(' ')\n",
    "    # print(split_areas[0])\n",
    "    hpg_ken.append(split_areas[0])\n",
    "    hpg_ku.append(split_areas[1])\n",
    "    hpg_chome.append(split_areas[2])\n",
    "print(len(hpg_chome))\n",
    "#print((hpg_chome))\n",
    "    "
   ]
  },
  {
   "cell_type": "code",
   "execution_count": null,
   "metadata": {},
   "outputs": [],
   "source": []
  }
 ],
 "metadata": {
  "kernelspec": {
   "display_name": "Python 3",
   "language": "python",
   "name": "python3"
  },
  "language_info": {
   "codemirror_mode": {
    "name": "ipython",
    "version": 3
   },
   "file_extension": ".py",
   "mimetype": "text/x-python",
   "name": "python",
   "nbconvert_exporter": "python",
   "pygments_lexer": "ipython3",
   "version": "3.6.4"
  }
 },
 "nbformat": 4,
 "nbformat_minor": 2
}
